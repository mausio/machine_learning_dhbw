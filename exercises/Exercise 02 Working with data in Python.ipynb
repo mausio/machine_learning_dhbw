{
 "cells": [
  {
   "cell_type": "markdown",
   "id": "51fdb51e",
   "metadata": {},
   "source": [
    "# Working with data in Python\n",
    "\n",
    "Python is an interpreted, interactive, object-oriented programming language. \n",
    "\n",
    "It incorporates modules, exceptions, dynamic typing, very high level dynamic data types, and classes. \n",
    "\n",
    "It supports multiple programming paradigms beyond object-oriented programming, such as procedural and functional programming.\n",
    "\n",
    "Although this is not a Python lecture, we will use Python intensively. \n",
    "\n",
    "So let's first get familiar with some often used data types in this lecture. Meanwhile get familiar with Jupyter Notebook.\n",
    "\n",
    "First of all, we need to import some libraries (By now, these libraries should be included in the working environment):"
   ]
  },
  {
   "cell_type": "code",
   "execution_count": 11,
   "id": "4af8b87c",
   "metadata": {
    "ExecuteTime": {
     "end_time": "2024-10-05T16:42:38.863110Z",
     "start_time": "2024-10-05T16:42:38.434418Z"
    }
   },
   "outputs": [],
   "source": [
    "import numpy as np\n",
    "import pandas as pd\n"
   ]
  },
  {
   "cell_type": "markdown",
   "id": "5b3e4854",
   "metadata": {},
   "source": [
    "## Lists, Arrays, Series\n",
    "\n",
    "Assume that you have the following observations of a feature: 2, 4, 6, Null, 8, and you want to assign them into one variable. There are at least three alternatives:\n",
    "- Python list `ls1 = [2, 4, 6, None, 8]`\n",
    "- Numpy array `arr1 = numpy.array([2, 4, 6, np.nan, 8])`\n",
    "- Pandas series `s1 = pd.Series([2, 4, 6, np.nan, 8])`\n",
    "\n",
    "*Insert a new code cell below, copy paste the above statements, and check the value of ls1, arr1 and s1.*\n",
    "\n",
    "*To check the values, you could use* print(f\"Some text here {variable here}\"), or simply type the variable name in the last line of the cell)"
   ]
  },
  {
   "cell_type": "markdown",
   "id": "1d6d2a04",
   "metadata": {},
   "source": [
    "### Python lists\n",
    "\n",
    "Python lists might contain items of different types (also could be list of lists), but usually the items all have the same type.\n",
    "\n",
    "It is similar to the list in JavaScript -- it has append, insert, index, ... functions. \n",
    "\n",
    "The next cell shows some examples.\n",
    " \n",
    "More information can be found here: https://docs.python.org/3/tutorial/datastructures.html\n",
    "\n",
    "Run the next cell, check the outputs"
   ]
  },
  {
   "cell_type": "code",
   "execution_count": 2,
   "id": "73ed2e79",
   "metadata": {
    "ExecuteTime": {
     "end_time": "2024-10-05T16:40:48.084374Z",
     "start_time": "2024-10-05T16:40:48.081242Z"
    }
   },
   "outputs": [
    {
     "name": "stdout",
     "output_type": "stream",
     "text": [
      "Python list ls2= [2, 'Sunny', 6, None, [1, 2, 3]]\n",
      "Updated ls2= [2, 'Sunny', 6, None, [1, 2, 3], 199]\n",
      "Index of 199= 5\n",
      "The 2nd to the 4th items are ['Sunny', 6, None]\n",
      "The 3rd item in the 5th item of ls2 is 3\n",
      "+ works as append ls10+ls11=[1, 2, 3, 4, 5, 6]\n"
     ]
    }
   ],
   "source": [
    "ls2 = [2, 'Sunny', 6, None, [1, 2, 3]]\n",
    "print(f\"Python list ls2= {ls2}\")\n",
    "\n",
    "ls2.append(199)\n",
    "print(f\"Updated ls2= {ls2}\")\n",
    "\n",
    "id199 = ls2.index(199)\n",
    "print(f\"Index of 199= {id199}\")\n",
    "\n",
    "ls234 = ls2[1:4]\n",
    "print(f\"The 2nd to the 4th items are {ls234}\")\n",
    "\n",
    "item_5_3 = ls2[4][2]\n",
    "print(f\"The 3rd item in the 5th item of ls2 is {item_5_3}\")\n",
    "\n",
    "ls10 = [1, 2, 3]\n",
    "ls11 = [4, 5, 6]\n",
    "ls12 = ls10 + ls11\n",
    "print(f\"+ works as append ls10+ls11={ls12}\")"
   ]
  },
  {
   "cell_type": "markdown",
   "id": "b9f98ebc",
   "metadata": {},
   "source": [
    "The zip() function returns a zip object, which is an iterator of tuples where the first item in each passed iterator is paired together,  and then the second item in each passed iterator are paired together etc."
   ]
  },
  {
   "cell_type": "code",
   "execution_count": 4,
   "id": "92b2dd9c",
   "metadata": {
    "ExecuteTime": {
     "end_time": "2024-10-05T16:41:33.892921Z",
     "start_time": "2024-10-05T16:41:33.890714Z"
    }
   },
   "outputs": [
    {
     "name": "stdout",
     "output_type": "stream",
     "text": [
      "zip(ls10, ls11)=((1, 4), (2, 5), (3, 6))\n"
     ]
    }
   ],
   "source": [
    "ls13 = zip(ls10, ls11)\n",
    "print(f\"zip(ls10, ls11)={tuple(ls13)}\")"
   ]
  },
  {
   "cell_type": "markdown",
   "id": "280a3af6",
   "metadata": {},
   "source": [
    "Add a new cell below, and check the value of tuple(ls13), what will you get? Why? "
   ]
  },
  {
   "cell_type": "code",
   "outputs": [
    {
     "name": "stdout",
     "output_type": "stream",
     "text": [
      "<zip object at 0x105a82f40>\n"
     ]
    }
   ],
   "source": [
    "tuple(ls13)\n",
    "\n",
    "print(ls13)"
   ],
   "metadata": {
    "collapsed": false,
    "ExecuteTime": {
     "end_time": "2024-10-05T16:42:07.994218Z",
     "start_time": "2024-10-05T16:42:07.992324Z"
    }
   },
   "id": "b67f2730e303b558",
   "execution_count": 9
  },
  {
   "cell_type": "markdown",
   "id": "9ada5b39",
   "metadata": {},
   "source": [
    "### Numpy arrays \n",
    "\n",
    "NumPy supports for large, multi-dimensional arrays and matrices, along with a large collection of high-level mathematical functions to operate on these arrays. --> Offer specialized functions for numerical operations with high performance.\n",
    "\n",
    "Different from Python list, all the items in one Numpy array must have the same type/length --> consume less memory compared with lists \n",
    "\n",
    "https://numpy.org/doc/stable/reference/generated/numpy.array.html\n",
    "\n",
    "#### First, let's create some arrays and retrieve some items from them."
   ]
  },
  {
   "cell_type": "code",
   "execution_count": 12,
   "id": "7da82dc8",
   "metadata": {
    "ExecuteTime": {
     "end_time": "2024-10-05T16:42:41.774176Z",
     "start_time": "2024-10-05T16:42:41.767369Z"
    }
   },
   "outputs": [
    {
     "name": "stdout",
     "output_type": "stream",
     "text": [
      "1D array: \n",
      " [1 2 3 4 5] \n",
      "\n",
      "2D array: \n",
      " [[1 2 3]\n",
      " [4 5 6]\n",
      " [7 8 9]]\n",
      "2nd item in the 1st item:  2\n",
      "Row 1, Column 2:  2\n",
      "Row 3, Column 2:  8 \n",
      "\n",
      "3D array: \n",
      " [[[1 2 3]\n",
      "  [4 5 6]]\n",
      "\n",
      " [[1 2 3]\n",
      "  [4 5 6]]] \n"
     ]
    },
    {
     "data": {
      "text/plain": "array([[ 0,  1,  2,  3],\n       [ 4,  5,  6,  7],\n       [ 8,  9, 10, 11]])"
     },
     "metadata": {},
     "output_type": "display_data"
    },
    {
     "data": {
      "text/plain": "array([ 6, 22, 38])"
     },
     "execution_count": 12,
     "metadata": {},
     "output_type": "execute_result"
    }
   ],
   "source": [
    "d1 = np.array([1, 2, 3, 4, 5])\n",
    "print(f\"1D array: \\n\", d1, \"\\n\")\n",
    "\n",
    "d2 = np.array([[1, 2, 3], [4, 5, 6], [7, 8, 9]])\n",
    "print(f\"2D array: \\n\", d2)\n",
    "print('2nd item in the 1st item: ', d2[0][1])\n",
    "print('Row 1, Column 2: ', d2[0, 1])\n",
    "print(f\"Row 3, Column 2: \", d2[2, 1], \"\\n\")\n",
    "\n",
    "d3 = np.array([[[1, 2, 3], [4, 5, 6]], [[1, 2, 3], [4, 5, 6]]])\n",
    "print(f\"3D array: \\n\", d3, \"\\n\")\n",
    "\n",
    "# Error:\n",
    "#d3 = np.array([[[1, 2, 3, 100], [4, 5, 6]], [[1, 2, 3], [4, 5, 6]]])\n",
    "\n",
    "# Check what is the result: \n",
    "x = np.arange(12).reshape((3, 4))\n",
    "display(x)\n",
    "x.sum(axis=1)"
   ]
  },
  {
   "cell_type": "markdown",
   "id": "92b78473",
   "metadata": {},
   "source": [
    "#### You can operate arrays as vectors/matrices.\n",
    "\n",
    "https://numpy.org/doc/stable/reference/routines.linalg.html\n",
    "\n",
    "*Run the following cells, what are those calculation results?*"
   ]
  },
  {
   "cell_type": "code",
   "execution_count": 12,
   "id": "32d8e6ca",
   "metadata": {},
   "outputs": [],
   "source": [
    "d4 = np.array([10, 10, 10, 10, 10])\n",
    "d5 = d1 + d4"
   ]
  },
  {
   "cell_type": "code",
   "execution_count": 13,
   "id": "3a40f084",
   "metadata": {},
   "outputs": [],
   "source": [
    "d6 = 2 * d1"
   ]
  },
  {
   "cell_type": "code",
   "execution_count": 14,
   "id": "c753f532",
   "metadata": {},
   "outputs": [],
   "source": [
    "d7 = d1 * d4"
   ]
  },
  {
   "cell_type": "code",
   "execution_count": 15,
   "id": "e8be15c4",
   "metadata": {},
   "outputs": [],
   "source": [
    "d8 = np.dot(d1, d4)"
   ]
  },
  {
   "cell_type": "code",
   "execution_count": 16,
   "id": "d4fa0c89",
   "metadata": {},
   "outputs": [],
   "source": [
    "from numpy import linalg as LA\n",
    "\n",
    "n4 = LA.norm(d4)\n"
   ]
  },
  {
   "cell_type": "markdown",
   "id": "f3b623c1",
   "metadata": {},
   "source": [
    "### Pandas series\n",
    "\n",
    "Pandas series is a ***one-dimensional labeled*** array holding data of any type such as integers, strings, Python objects etc.\n",
    "- Pandas Series is one dimensional.\n",
    "- Pandas Series has an explicitly defined index associated with values.\n",
    "- Pandas Series allows different data types, including objects.\n",
    "\n",
    "https://pandas.pydata.org/docs/reference/series.html\n",
    "\n",
    "*Run the followin cell. check the difference between s1 and any np array. Compare d1 and s2.*\n"
   ]
  },
  {
   "cell_type": "code",
   "execution_count": null,
   "id": "b609e6c8",
   "metadata": {},
   "outputs": [],
   "source": [
    "# One dimension\n",
    "s1 = pd.Series([[1, 'a', 3], [4, 5, 6], [7, 8, 9]])\n",
    "display(s1)\n",
    "\n",
    "# You may convert an array into a Series\n",
    "print(f\"Original d1={d1}\")\n",
    "s2 = pd.Series(d1)\n",
    "display(s2)"
   ]
  },
  {
   "cell_type": "markdown",
   "id": "c86232de",
   "metadata": {},
   "source": [
    "You may define the index when creating a Series `s2 = pd.Series([2, 4, 6, np.nan, 8], index=['a', 'b', 'c', 'd', 'e'])`. \n",
    "\n",
    "*Check the value of s2:*"
   ]
  },
  {
   "cell_type": "code",
   "execution_count": null,
   "id": "9071ca75",
   "metadata": {},
   "outputs": [],
   "source": [
    "s2 = pd.Series([2, 4, 'Hallo', np.nan, 8], index=['a', 'b', 'c', 'd', 'e'])"
   ]
  },
  {
   "cell_type": "markdown",
   "id": "b389142e",
   "metadata": {},
   "source": [
    "You may also create Series by passing a dictionary `s3 = pd.Series(data={'a': 1, 'b': 2, 'c': 3})`"
   ]
  },
  {
   "cell_type": "code",
   "execution_count": null,
   "id": "dcdd36e0",
   "metadata": {},
   "outputs": [],
   "source": [
    "s3 = pd.Series(data={'a': 1, 'b': 2, 'c': 3})"
   ]
  },
  {
   "cell_type": "markdown",
   "id": "2e49ab38",
   "metadata": {},
   "source": [
    "*How to retrieve value 2 of s3? How to retrieve values indexed by b, c, d of s2?*"
   ]
  },
  {
   "cell_type": "code",
   "execution_count": null,
   "id": "e7a4a6ff",
   "metadata": {},
   "outputs": [],
   "source": [
    "display(s3['b'])\n",
    "s2['b':'d']"
   ]
  },
  {
   "cell_type": "markdown",
   "id": "46f38710",
   "metadata": {},
   "source": [
    "## DataFrame\n",
    "\n",
    "DataFrame is a two-dimensional data structure that holds data like a two-dimension array or a table with rows and columns.\n",
    "\n",
    "https://pandas.pydata.org/docs/reference/frame.html\n",
    "\n",
    "There are various ways to initialize a dataframe. \n",
    "\n",
    "*Run the following cells and check the outcome.*\n"
   ]
  },
  {
   "cell_type": "code",
   "execution_count": null,
   "id": "9a678781",
   "metadata": {},
   "outputs": [],
   "source": [
    "data1 = {'Name': [\"Tom\", \"Jerry\", \"Emily\", \"Amy\"], 'Age': [18, 24, 18, 22]}\n",
    "df1 = pd.DataFrame(data1)\n",
    "display(df1)"
   ]
  },
  {
   "cell_type": "code",
   "execution_count": null,
   "id": "e13103fe",
   "metadata": {},
   "outputs": [],
   "source": [
    "data2 = {'col1': [10, 11, 12, 13], 'col2': pd.Series(['A', 'B'], index=[2, 3])}\n",
    "\n",
    "#Error:\n",
    "#pd.DataFrame(data=data2)\n",
    "\n",
    "dfWithNaA = pd.DataFrame(data=data2, index=[0, 1, 2, 3])"
   ]
  },
  {
   "cell_type": "code",
   "execution_count": 23,
   "id": "52275de1",
   "metadata": {},
   "outputs": [],
   "source": [
    "df2 = pd.DataFrame(np.array([[1, 2, 3], [4, 5, 6], [7, 8, 9]]),\n",
    "                   columns=['a', 'b', 'c'])"
   ]
  },
  {
   "cell_type": "markdown",
   "id": "d900d499",
   "metadata": {},
   "source": [
    "#### To use Numpy functions, you can convert dataframe into array"
   ]
  },
  {
   "cell_type": "code",
   "execution_count": null,
   "id": "547d3731",
   "metadata": {},
   "outputs": [],
   "source": [
    "df2.to_numpy()"
   ]
  },
  {
   "cell_type": "markdown",
   "id": "2ea6012f",
   "metadata": {},
   "source": [
    "If there are different data types in the dataframe, they will be converted to \"objects\""
   ]
  },
  {
   "cell_type": "code",
   "execution_count": null,
   "id": "eaf3066b",
   "metadata": {},
   "outputs": [],
   "source": [
    "df3 = pd.DataFrame(\n",
    "    {\n",
    "        \"A\": 1,\n",
    "        \"B\": pd.Timestamp(\"20240223\"),\n",
    "        \"C\": pd.Series(1, index=list(range(4)), dtype=\"float32\"),\n",
    "        \"D\": np.array([3] * 4, dtype=\"int32\"),\n",
    "        \"E\": pd.Categorical([\"test\", \"train\", \"test\", \"train\"]),\n",
    "        \"F\": \"foo\",\n",
    "    }\n",
    ")\n",
    "display(df3)\n",
    "df3.to_numpy()"
   ]
  },
  {
   "cell_type": "markdown",
   "id": "908fdf7b",
   "metadata": {},
   "source": [
    "### Overview of the datafile\n",
    "\n",
    "With DataFrame, you can conviniently load data and have overview."
   ]
  },
  {
   "cell_type": "code",
   "execution_count": 4,
   "id": "0e5402d6",
   "metadata": {
    "ExecuteTime": {
     "end_time": "2024-10-04T09:32:07.324528Z",
     "start_time": "2024-10-04T09:32:07.306155Z"
    }
   },
   "outputs": [
    {
     "data": {
      "text/plain": "        TV  Radio  Newspaper  Sales\n0    230.1   37.8       69.2   22.1\n1     44.5   39.3       45.1   10.4\n2     17.2   45.9       69.3   12.0\n3    151.5   41.3       58.5   16.5\n4    180.8   10.8       58.4   17.9\n..     ...    ...        ...    ...\n195   38.2    3.7       13.8    7.6\n196   94.2    4.9        8.1   14.0\n197  177.0    9.3        6.4   14.8\n198  283.6   42.0       66.2   25.5\n199  232.1    8.6        8.7   18.4\n\n[200 rows x 4 columns]",
      "text/html": "<div>\n<style scoped>\n    .dataframe tbody tr th:only-of-type {\n        vertical-align: middle;\n    }\n\n    .dataframe tbody tr th {\n        vertical-align: top;\n    }\n\n    .dataframe thead th {\n        text-align: right;\n    }\n</style>\n<table border=\"1\" class=\"dataframe\">\n  <thead>\n    <tr style=\"text-align: right;\">\n      <th></th>\n      <th>TV</th>\n      <th>Radio</th>\n      <th>Newspaper</th>\n      <th>Sales</th>\n    </tr>\n  </thead>\n  <tbody>\n    <tr>\n      <th>0</th>\n      <td>230.1</td>\n      <td>37.8</td>\n      <td>69.2</td>\n      <td>22.1</td>\n    </tr>\n    <tr>\n      <th>1</th>\n      <td>44.5</td>\n      <td>39.3</td>\n      <td>45.1</td>\n      <td>10.4</td>\n    </tr>\n    <tr>\n      <th>2</th>\n      <td>17.2</td>\n      <td>45.9</td>\n      <td>69.3</td>\n      <td>12.0</td>\n    </tr>\n    <tr>\n      <th>3</th>\n      <td>151.5</td>\n      <td>41.3</td>\n      <td>58.5</td>\n      <td>16.5</td>\n    </tr>\n    <tr>\n      <th>4</th>\n      <td>180.8</td>\n      <td>10.8</td>\n      <td>58.4</td>\n      <td>17.9</td>\n    </tr>\n    <tr>\n      <th>...</th>\n      <td>...</td>\n      <td>...</td>\n      <td>...</td>\n      <td>...</td>\n    </tr>\n    <tr>\n      <th>195</th>\n      <td>38.2</td>\n      <td>3.7</td>\n      <td>13.8</td>\n      <td>7.6</td>\n    </tr>\n    <tr>\n      <th>196</th>\n      <td>94.2</td>\n      <td>4.9</td>\n      <td>8.1</td>\n      <td>14.0</td>\n    </tr>\n    <tr>\n      <th>197</th>\n      <td>177.0</td>\n      <td>9.3</td>\n      <td>6.4</td>\n      <td>14.8</td>\n    </tr>\n    <tr>\n      <th>198</th>\n      <td>283.6</td>\n      <td>42.0</td>\n      <td>66.2</td>\n      <td>25.5</td>\n    </tr>\n    <tr>\n      <th>199</th>\n      <td>232.1</td>\n      <td>8.6</td>\n      <td>8.7</td>\n      <td>18.4</td>\n    </tr>\n  </tbody>\n</table>\n<p>200 rows × 4 columns</p>\n</div>"
     },
     "metadata": {},
     "output_type": "display_data"
    }
   ],
   "source": [
    "df = pd.read_csv(\"Data/advertising.csv\")\n",
    "display(df)"
   ]
  },
  {
   "cell_type": "markdown",
   "id": "eb6729b8",
   "metadata": {},
   "source": [
    "*Try the following commands. What are their functions?*"
   ]
  },
  {
   "cell_type": "code",
   "execution_count": 5,
   "id": "39daa795",
   "metadata": {
    "ExecuteTime": {
     "end_time": "2024-10-04T09:32:16.465314Z",
     "start_time": "2024-10-04T09:32:16.459231Z"
    }
   },
   "outputs": [
    {
     "data": {
      "text/plain": "      TV  Radio  Newspaper  Sales\n0  230.1   37.8       69.2   22.1\n1   44.5   39.3       45.1   10.4\n2   17.2   45.9       69.3   12.0\n3  151.5   41.3       58.5   16.5\n4  180.8   10.8       58.4   17.9",
      "text/html": "<div>\n<style scoped>\n    .dataframe tbody tr th:only-of-type {\n        vertical-align: middle;\n    }\n\n    .dataframe tbody tr th {\n        vertical-align: top;\n    }\n\n    .dataframe thead th {\n        text-align: right;\n    }\n</style>\n<table border=\"1\" class=\"dataframe\">\n  <thead>\n    <tr style=\"text-align: right;\">\n      <th></th>\n      <th>TV</th>\n      <th>Radio</th>\n      <th>Newspaper</th>\n      <th>Sales</th>\n    </tr>\n  </thead>\n  <tbody>\n    <tr>\n      <th>0</th>\n      <td>230.1</td>\n      <td>37.8</td>\n      <td>69.2</td>\n      <td>22.1</td>\n    </tr>\n    <tr>\n      <th>1</th>\n      <td>44.5</td>\n      <td>39.3</td>\n      <td>45.1</td>\n      <td>10.4</td>\n    </tr>\n    <tr>\n      <th>2</th>\n      <td>17.2</td>\n      <td>45.9</td>\n      <td>69.3</td>\n      <td>12.0</td>\n    </tr>\n    <tr>\n      <th>3</th>\n      <td>151.5</td>\n      <td>41.3</td>\n      <td>58.5</td>\n      <td>16.5</td>\n    </tr>\n    <tr>\n      <th>4</th>\n      <td>180.8</td>\n      <td>10.8</td>\n      <td>58.4</td>\n      <td>17.9</td>\n    </tr>\n  </tbody>\n</table>\n</div>"
     },
     "metadata": {},
     "output_type": "display_data"
    }
   ],
   "source": [
    "display(df.head(5))"
   ]
  },
  {
   "cell_type": "code",
   "execution_count": 6,
   "id": "b06612f0",
   "metadata": {
    "ExecuteTime": {
     "end_time": "2024-10-04T09:32:17.847321Z",
     "start_time": "2024-10-04T09:32:17.840725Z"
    }
   },
   "outputs": [
    {
     "data": {
      "text/plain": "        TV  Radio  Newspaper  Sales\n190   39.5   41.1        5.8   10.8\n191   75.5   10.8        6.0   11.9\n192   17.2    4.1       31.6    5.9\n193  166.8   42.0        3.6   19.6\n194  149.7   35.6        6.0   17.3\n195   38.2    3.7       13.8    7.6\n196   94.2    4.9        8.1   14.0\n197  177.0    9.3        6.4   14.8\n198  283.6   42.0       66.2   25.5\n199  232.1    8.6        8.7   18.4",
      "text/html": "<div>\n<style scoped>\n    .dataframe tbody tr th:only-of-type {\n        vertical-align: middle;\n    }\n\n    .dataframe tbody tr th {\n        vertical-align: top;\n    }\n\n    .dataframe thead th {\n        text-align: right;\n    }\n</style>\n<table border=\"1\" class=\"dataframe\">\n  <thead>\n    <tr style=\"text-align: right;\">\n      <th></th>\n      <th>TV</th>\n      <th>Radio</th>\n      <th>Newspaper</th>\n      <th>Sales</th>\n    </tr>\n  </thead>\n  <tbody>\n    <tr>\n      <th>190</th>\n      <td>39.5</td>\n      <td>41.1</td>\n      <td>5.8</td>\n      <td>10.8</td>\n    </tr>\n    <tr>\n      <th>191</th>\n      <td>75.5</td>\n      <td>10.8</td>\n      <td>6.0</td>\n      <td>11.9</td>\n    </tr>\n    <tr>\n      <th>192</th>\n      <td>17.2</td>\n      <td>4.1</td>\n      <td>31.6</td>\n      <td>5.9</td>\n    </tr>\n    <tr>\n      <th>193</th>\n      <td>166.8</td>\n      <td>42.0</td>\n      <td>3.6</td>\n      <td>19.6</td>\n    </tr>\n    <tr>\n      <th>194</th>\n      <td>149.7</td>\n      <td>35.6</td>\n      <td>6.0</td>\n      <td>17.3</td>\n    </tr>\n    <tr>\n      <th>195</th>\n      <td>38.2</td>\n      <td>3.7</td>\n      <td>13.8</td>\n      <td>7.6</td>\n    </tr>\n    <tr>\n      <th>196</th>\n      <td>94.2</td>\n      <td>4.9</td>\n      <td>8.1</td>\n      <td>14.0</td>\n    </tr>\n    <tr>\n      <th>197</th>\n      <td>177.0</td>\n      <td>9.3</td>\n      <td>6.4</td>\n      <td>14.8</td>\n    </tr>\n    <tr>\n      <th>198</th>\n      <td>283.6</td>\n      <td>42.0</td>\n      <td>66.2</td>\n      <td>25.5</td>\n    </tr>\n    <tr>\n      <th>199</th>\n      <td>232.1</td>\n      <td>8.6</td>\n      <td>8.7</td>\n      <td>18.4</td>\n    </tr>\n  </tbody>\n</table>\n</div>"
     },
     "metadata": {},
     "output_type": "display_data"
    }
   ],
   "source": [
    "display(df.tail(10))"
   ]
  },
  {
   "cell_type": "code",
   "execution_count": 7,
   "id": "52d7c6d0",
   "metadata": {
    "ExecuteTime": {
     "end_time": "2024-10-04T09:32:19.491585Z",
     "start_time": "2024-10-04T09:32:19.489165Z"
    }
   },
   "outputs": [
    {
     "data": {
      "text/plain": "RangeIndex(start=0, stop=200, step=1)"
     },
     "metadata": {},
     "output_type": "display_data"
    }
   ],
   "source": [
    "display(df.index)\n"
   ]
  },
  {
   "cell_type": "code",
   "execution_count": 8,
   "id": "b6369fbe",
   "metadata": {
    "ExecuteTime": {
     "end_time": "2024-10-04T09:32:21.031974Z",
     "start_time": "2024-10-04T09:32:21.027278Z"
    }
   },
   "outputs": [
    {
     "data": {
      "text/plain": "TV           float64\nRadio        float64\nNewspaper    float64\nSales        float64\ndtype: object"
     },
     "metadata": {},
     "output_type": "display_data"
    }
   ],
   "source": [
    "\n",
    "display(df.dtypes)\n"
   ]
  },
  {
   "cell_type": "code",
   "execution_count": 9,
   "id": "d1c8e2fb",
   "metadata": {
    "ExecuteTime": {
     "end_time": "2024-10-04T09:32:22.092654Z",
     "start_time": "2024-10-04T09:32:22.081096Z"
    }
   },
   "outputs": [
    {
     "data": {
      "text/plain": "               TV       Radio   Newspaper       Sales\ncount  200.000000  200.000000  200.000000  200.000000\nmean   147.042500   23.264000   30.554000   15.130500\nstd     85.854236   14.846809   21.778621    5.283892\nmin      0.700000    0.000000    0.300000    1.600000\n25%     74.375000    9.975000   12.750000   11.000000\n50%    149.750000   22.900000   25.750000   16.000000\n75%    218.825000   36.525000   45.100000   19.050000\nmax    296.400000   49.600000  114.000000   27.000000",
      "text/html": "<div>\n<style scoped>\n    .dataframe tbody tr th:only-of-type {\n        vertical-align: middle;\n    }\n\n    .dataframe tbody tr th {\n        vertical-align: top;\n    }\n\n    .dataframe thead th {\n        text-align: right;\n    }\n</style>\n<table border=\"1\" class=\"dataframe\">\n  <thead>\n    <tr style=\"text-align: right;\">\n      <th></th>\n      <th>TV</th>\n      <th>Radio</th>\n      <th>Newspaper</th>\n      <th>Sales</th>\n    </tr>\n  </thead>\n  <tbody>\n    <tr>\n      <th>count</th>\n      <td>200.000000</td>\n      <td>200.000000</td>\n      <td>200.000000</td>\n      <td>200.000000</td>\n    </tr>\n    <tr>\n      <th>mean</th>\n      <td>147.042500</td>\n      <td>23.264000</td>\n      <td>30.554000</td>\n      <td>15.130500</td>\n    </tr>\n    <tr>\n      <th>std</th>\n      <td>85.854236</td>\n      <td>14.846809</td>\n      <td>21.778621</td>\n      <td>5.283892</td>\n    </tr>\n    <tr>\n      <th>min</th>\n      <td>0.700000</td>\n      <td>0.000000</td>\n      <td>0.300000</td>\n      <td>1.600000</td>\n    </tr>\n    <tr>\n      <th>25%</th>\n      <td>74.375000</td>\n      <td>9.975000</td>\n      <td>12.750000</td>\n      <td>11.000000</td>\n    </tr>\n    <tr>\n      <th>50%</th>\n      <td>149.750000</td>\n      <td>22.900000</td>\n      <td>25.750000</td>\n      <td>16.000000</td>\n    </tr>\n    <tr>\n      <th>75%</th>\n      <td>218.825000</td>\n      <td>36.525000</td>\n      <td>45.100000</td>\n      <td>19.050000</td>\n    </tr>\n    <tr>\n      <th>max</th>\n      <td>296.400000</td>\n      <td>49.600000</td>\n      <td>114.000000</td>\n      <td>27.000000</td>\n    </tr>\n  </tbody>\n</table>\n</div>"
     },
     "execution_count": 9,
     "metadata": {},
     "output_type": "execute_result"
    }
   ],
   "source": [
    "\n",
    "df.describe()"
   ]
  },
  {
   "cell_type": "markdown",
   "id": "afc23658",
   "metadata": {},
   "source": [
    "### Select data from dataframe\n",
    "\n",
    "It is very convenient to select data from a dataframe. In addition to select by index, slicing, you can easily add conditional filters.\n",
    "\n",
    "*How to get the data in Column TV?*"
   ]
  },
  {
   "cell_type": "code",
   "execution_count": 10,
   "id": "cbc44ec8",
   "metadata": {
    "ExecuteTime": {
     "end_time": "2024-10-04T09:32:25.682065Z",
     "start_time": "2024-10-04T09:32:25.674271Z"
    }
   },
   "outputs": [
    {
     "data": {
      "text/plain": "        TV  Radio  Newspaper  Sales\n0    230.1   37.8       69.2   22.1\n1     44.5   39.3       45.1   10.4\n2     17.2   45.9       69.3   12.0\n3    151.5   41.3       58.5   16.5\n4    180.8   10.8       58.4   17.9\n..     ...    ...        ...    ...\n195   38.2    3.7       13.8    7.6\n196   94.2    4.9        8.1   14.0\n197  177.0    9.3        6.4   14.8\n198  283.6   42.0       66.2   25.5\n199  232.1    8.6        8.7   18.4\n\n[200 rows x 4 columns]",
      "text/html": "<div>\n<style scoped>\n    .dataframe tbody tr th:only-of-type {\n        vertical-align: middle;\n    }\n\n    .dataframe tbody tr th {\n        vertical-align: top;\n    }\n\n    .dataframe thead th {\n        text-align: right;\n    }\n</style>\n<table border=\"1\" class=\"dataframe\">\n  <thead>\n    <tr style=\"text-align: right;\">\n      <th></th>\n      <th>TV</th>\n      <th>Radio</th>\n      <th>Newspaper</th>\n      <th>Sales</th>\n    </tr>\n  </thead>\n  <tbody>\n    <tr>\n      <th>0</th>\n      <td>230.1</td>\n      <td>37.8</td>\n      <td>69.2</td>\n      <td>22.1</td>\n    </tr>\n    <tr>\n      <th>1</th>\n      <td>44.5</td>\n      <td>39.3</td>\n      <td>45.1</td>\n      <td>10.4</td>\n    </tr>\n    <tr>\n      <th>2</th>\n      <td>17.2</td>\n      <td>45.9</td>\n      <td>69.3</td>\n      <td>12.0</td>\n    </tr>\n    <tr>\n      <th>3</th>\n      <td>151.5</td>\n      <td>41.3</td>\n      <td>58.5</td>\n      <td>16.5</td>\n    </tr>\n    <tr>\n      <th>4</th>\n      <td>180.8</td>\n      <td>10.8</td>\n      <td>58.4</td>\n      <td>17.9</td>\n    </tr>\n    <tr>\n      <th>...</th>\n      <td>...</td>\n      <td>...</td>\n      <td>...</td>\n      <td>...</td>\n    </tr>\n    <tr>\n      <th>195</th>\n      <td>38.2</td>\n      <td>3.7</td>\n      <td>13.8</td>\n      <td>7.6</td>\n    </tr>\n    <tr>\n      <th>196</th>\n      <td>94.2</td>\n      <td>4.9</td>\n      <td>8.1</td>\n      <td>14.0</td>\n    </tr>\n    <tr>\n      <th>197</th>\n      <td>177.0</td>\n      <td>9.3</td>\n      <td>6.4</td>\n      <td>14.8</td>\n    </tr>\n    <tr>\n      <th>198</th>\n      <td>283.6</td>\n      <td>42.0</td>\n      <td>66.2</td>\n      <td>25.5</td>\n    </tr>\n    <tr>\n      <th>199</th>\n      <td>232.1</td>\n      <td>8.6</td>\n      <td>8.7</td>\n      <td>18.4</td>\n    </tr>\n  </tbody>\n</table>\n<p>200 rows × 4 columns</p>\n</div>"
     },
     "metadata": {},
     "output_type": "display_data"
    },
    {
     "name": "stdout",
     "output_type": "stream",
     "text": [
      "Column TV: \n",
      "0      230.1\n",
      "1       44.5\n",
      "2       17.2\n",
      "3      151.5\n",
      "4      180.8\n",
      "       ...  \n",
      "195     38.2\n",
      "196     94.2\n",
      "197    177.0\n",
      "198    283.6\n",
      "199    232.1\n",
      "Name: TV, Length: 200, dtype: float64 \n",
      "\n",
      "Column TV: \n",
      "0      230.1\n",
      "1       44.5\n",
      "2       17.2\n",
      "3      151.5\n",
      "4      180.8\n",
      "       ...  \n",
      "195     38.2\n",
      "196     94.2\n",
      "197    177.0\n",
      "198    283.6\n",
      "199    232.1\n",
      "Name: TV, Length: 200, dtype: float64 \n"
     ]
    }
   ],
   "source": [
    "display(df)\n",
    "\n",
    "print(f\"Column TV: \\n{df['TV']}\", \"\\n\")\n",
    "\n",
    "print(f\"Column TV: \\n{df.TV}\", \"\\n\")"
   ]
  },
  {
   "cell_type": "markdown",
   "id": "8aea6076",
   "metadata": {},
   "source": [
    "*How to get the data of Column TV and Column Newspaper?*"
   ]
  },
  {
   "cell_type": "code",
   "execution_count": 17,
   "id": "9e697b96",
   "metadata": {
    "ExecuteTime": {
     "end_time": "2024-10-04T09:41:26.824268Z",
     "start_time": "2024-10-04T09:41:26.807430Z"
    }
   },
   "outputs": [
    {
     "data": {
      "text/plain": "        TV  Newspaper\n0    230.1       69.2\n1     44.5       45.1\n2     17.2       69.3\n3    151.5       58.5\n4    180.8       58.4\n..     ...        ...\n195   38.2       13.8\n196   94.2        8.1\n197  177.0        6.4\n198  283.6       66.2\n199  232.1        8.7\n\n[200 rows x 2 columns]",
      "text/html": "<div>\n<style scoped>\n    .dataframe tbody tr th:only-of-type {\n        vertical-align: middle;\n    }\n\n    .dataframe tbody tr th {\n        vertical-align: top;\n    }\n\n    .dataframe thead th {\n        text-align: right;\n    }\n</style>\n<table border=\"1\" class=\"dataframe\">\n  <thead>\n    <tr style=\"text-align: right;\">\n      <th></th>\n      <th>TV</th>\n      <th>Newspaper</th>\n    </tr>\n  </thead>\n  <tbody>\n    <tr>\n      <th>0</th>\n      <td>230.1</td>\n      <td>69.2</td>\n    </tr>\n    <tr>\n      <th>1</th>\n      <td>44.5</td>\n      <td>45.1</td>\n    </tr>\n    <tr>\n      <th>2</th>\n      <td>17.2</td>\n      <td>69.3</td>\n    </tr>\n    <tr>\n      <th>3</th>\n      <td>151.5</td>\n      <td>58.5</td>\n    </tr>\n    <tr>\n      <th>4</th>\n      <td>180.8</td>\n      <td>58.4</td>\n    </tr>\n    <tr>\n      <th>...</th>\n      <td>...</td>\n      <td>...</td>\n    </tr>\n    <tr>\n      <th>195</th>\n      <td>38.2</td>\n      <td>13.8</td>\n    </tr>\n    <tr>\n      <th>196</th>\n      <td>94.2</td>\n      <td>8.1</td>\n    </tr>\n    <tr>\n      <th>197</th>\n      <td>177.0</td>\n      <td>6.4</td>\n    </tr>\n    <tr>\n      <th>198</th>\n      <td>283.6</td>\n      <td>66.2</td>\n    </tr>\n    <tr>\n      <th>199</th>\n      <td>232.1</td>\n      <td>8.7</td>\n    </tr>\n  </tbody>\n</table>\n<p>200 rows × 2 columns</p>\n</div>"
     },
     "execution_count": 17,
     "metadata": {},
     "output_type": "execute_result"
    }
   ],
   "source": [
    "df[[\"TV\", \"Newspaper\"]]"
   ]
  },
  {
   "cell_type": "markdown",
   "id": "10e8f57c",
   "metadata": {},
   "source": [
    "#### loc and iloc\n",
    "\n",
    "- loc gets rows and/or columns with particular labels.\n",
    "\n",
    "- iloc gets rows and/or columns at integer locations.\n",
    "\n",
    "To test them, let's create a new dataframe with random data:"
   ]
  },
  {
   "cell_type": "code",
   "execution_count": 18,
   "id": "5e54806c",
   "metadata": {
    "ExecuteTime": {
     "end_time": "2024-10-04T09:41:46.182117Z",
     "start_time": "2024-10-04T09:41:46.169090Z"
    }
   },
   "outputs": [],
   "source": [
    "dates = pd.date_range('2/1/2024', periods=8)\n",
    "\n",
    "#8-by-4 array of samples from the normal distribution\n",
    "df = pd.DataFrame(np.random.randn(8, 4),\n",
    "                  index=dates,\n",
    "                  columns=['A', 'B', 'C', 'D'])"
   ]
  },
  {
   "cell_type": "markdown",
   "id": "7ede6f00",
   "metadata": {},
   "source": [
    "*Show the value of B on 4 Feb 2024*\n",
    "*Hint: df.loc[row, column]*"
   ]
  },
  {
   "cell_type": "code",
   "execution_count": 22,
   "id": "dc585ae7",
   "metadata": {
    "ExecuteTime": {
     "end_time": "2024-10-04T09:43:02.085096Z",
     "start_time": "2024-10-04T09:43:02.082024Z"
    }
   },
   "outputs": [
    {
     "data": {
      "text/plain": "0.5360374607705775"
     },
     "execution_count": 22,
     "metadata": {},
     "output_type": "execute_result"
    }
   ],
   "source": [
    "df.loc[\"2024-02-04\", \"A\"]"
   ]
  },
  {
   "cell_type": "markdown",
   "id": "999add64",
   "metadata": {},
   "source": [
    "*Show all values on 4 Feb 2024*"
   ]
  },
  {
   "cell_type": "code",
   "execution_count": null,
   "id": "d204dc8e",
   "metadata": {},
   "outputs": [],
   "source": []
  },
  {
   "cell_type": "markdown",
   "id": "c959b4e6",
   "metadata": {},
   "source": [
    "*Show all values of B by using df.loc[]*"
   ]
  },
  {
   "cell_type": "code",
   "execution_count": null,
   "id": "871e0b31",
   "metadata": {},
   "outputs": [],
   "source": []
  },
  {
   "cell_type": "markdown",
   "id": "2efb6264",
   "metadata": {},
   "source": [
    "*Show the values of B and C, before (including) 4 Feb 2024*"
   ]
  },
  {
   "cell_type": "code",
   "execution_count": null,
   "id": "0f16699c",
   "metadata": {},
   "outputs": [],
   "source": []
  },
  {
   "cell_type": "markdown",
   "id": "1409d777",
   "metadata": {},
   "source": [
    "*Show the second row by using df.iloc[row, column]*"
   ]
  },
  {
   "cell_type": "code",
   "execution_count": null,
   "id": "8bb73aa5",
   "metadata": {},
   "outputs": [],
   "source": []
  },
  {
   "cell_type": "markdown",
   "id": "b0d10d96",
   "metadata": {},
   "source": [
    "*Show the value in the second row and the second column*"
   ]
  },
  {
   "cell_type": "code",
   "execution_count": null,
   "id": "a462dd37",
   "metadata": {},
   "outputs": [],
   "source": []
  },
  {
   "cell_type": "markdown",
   "id": "6d9430ff",
   "metadata": {},
   "source": [
    "*Show the first two columns of the 4th and the 5th row*"
   ]
  },
  {
   "cell_type": "code",
   "execution_count": null,
   "id": "8e031db3",
   "metadata": {},
   "outputs": [],
   "source": []
  },
  {
   "cell_type": "markdown",
   "id": "db92dd7a",
   "metadata": {},
   "source": [
    "*Show all the rows which has positive B values*"
   ]
  },
  {
   "cell_type": "code",
   "execution_count": null,
   "id": "82db353e",
   "metadata": {},
   "outputs": [],
   "source": []
  },
  {
   "cell_type": "markdown",
   "id": "8898edc5",
   "metadata": {},
   "source": [
    "*Show all the rows which has positive B values and positive A values*"
   ]
  },
  {
   "cell_type": "code",
   "execution_count": null,
   "id": "bd85d5b0",
   "metadata": {},
   "outputs": [],
   "source": []
  },
  {
   "cell_type": "markdown",
   "id": "006c67b4",
   "metadata": {},
   "source": [
    "*Show all the data later than 2024-02-02*\n",
    "\n",
    "*Reminder: dates is index*"
   ]
  },
  {
   "cell_type": "code",
   "execution_count": null,
   "id": "24cdddf0",
   "metadata": {},
   "outputs": [],
   "source": []
  },
  {
   "cell_type": "markdown",
   "id": "9d64e590",
   "metadata": {},
   "source": [
    "Now let's manipulte a dataframe.\n",
    "\n",
    "*After the following operations, what is the shape of d4? (How many rows? How many collumns?)*"
   ]
  },
  {
   "cell_type": "code",
   "execution_count": 131,
   "id": "df4afb2d",
   "metadata": {},
   "outputs": [],
   "source": [
    "df2 = pd.DataFrame(np.array([[1, 2, 3], [4, 5, 6], [7, 8, 9]]),\n",
    "                   columns=['a', 'b', 'c'])\n",
    "\n",
    "df4 = df2.copy()\n",
    "\n",
    "df4.loc[len(df4.index)] = ['A', 89, 93]\n",
    "\n",
    "df4['type'] = [\"cat\", \"dog\", \"cat\", \"bird\"]\n"
   ]
  },
  {
   "cell_type": "markdown",
   "id": "79d84120",
   "metadata": {},
   "source": [
    "*Return all the data points of cats and dogs*"
   ]
  },
  {
   "cell_type": "code",
   "execution_count": null,
   "id": "f8ca138c",
   "metadata": {},
   "outputs": [],
   "source": []
  },
  {
   "cell_type": "markdown",
   "id": "a6db6f04",
   "metadata": {},
   "source": [
    "*Sort all the rows based on the values in Column type*"
   ]
  },
  {
   "cell_type": "code",
   "execution_count": null,
   "id": "33a23db8",
   "metadata": {},
   "outputs": [],
   "source": []
  }
 ],
 "metadata": {
  "kernelspec": {
   "display_name": "Python 3 (ipykernel)",
   "language": "python",
   "name": "python3"
  },
  "language_info": {
   "codemirror_mode": {
    "name": "ipython",
    "version": 3
   },
   "file_extension": ".py",
   "mimetype": "text/x-python",
   "name": "python",
   "nbconvert_exporter": "python",
   "pygments_lexer": "ipython3",
   "version": "3.11.7"
  }
 },
 "nbformat": 4,
 "nbformat_minor": 5
}
