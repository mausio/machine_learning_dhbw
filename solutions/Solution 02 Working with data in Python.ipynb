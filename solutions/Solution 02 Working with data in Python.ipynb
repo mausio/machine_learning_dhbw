{
 "cells": [
  {
   "cell_type": "markdown",
   "id": "51fdb51e",
   "metadata": {},
   "source": [
    "# Working with data in Python\n",
    "\n",
    "Python is an interpreted, interactive, object-oriented programming language. \n",
    "\n",
    "It incorporates modules, exceptions, dynamic typing, very high level dynamic data types, and classes. \n",
    "\n",
    "It supports multiple programming paradigms beyond object-oriented programming, such as procedural and functional programming.\n",
    "\n",
    "Although this is not a Python lecture, we will use Python intensively. \n",
    "\n",
    "So let's first get familiar with some often used data types in this lecture. Meanwhile get familiar with Jupyter Notebook.\n",
    "\n",
    "First of all, we need to import some libraries (By now, these libraries should be included in the working environment):"
   ]
  },
  {
   "cell_type": "code",
   "execution_count": 1,
   "id": "4af8b87c",
   "metadata": {
    "ExecuteTime": {
     "end_time": "2024-10-05T16:38:49.173449Z",
     "start_time": "2024-10-05T16:38:48.242962Z"
    }
   },
   "outputs": [],
   "source": [
    "import numpy as np\n",
    "import pandas as pd"
   ]
  },
  {
   "cell_type": "markdown",
   "id": "5b3e4854",
   "metadata": {},
   "source": [
    "## Lists, Arrays, Series\n",
    "\n",
    "Assume that you have the following observations of a feature: 2, 4, 6, Null, 8, and you want to assign them into one variable. There are at least three alternatives:\n",
    "- Python list `ls1 = [2, 4, 6, None, 8]`\n",
    "- Numpy array `arr1 = numpy.array([2, 4, 6, np.nan, 8])`\n",
    "- Pandas series `s1 = pd.Series([2, 4, 6, np.nan, 8])`\n",
    "\n",
    "*Insert a new cell below, copy paste the above statements, and check the value of ls1, arr1 and s1.*"
   ]
  },
  {
   "cell_type": "code",
   "execution_count": 2,
   "id": "1d85f55f",
   "metadata": {
    "ExecuteTime": {
     "end_time": "2024-10-05T16:38:50.662477Z",
     "start_time": "2024-10-05T16:38:50.657790Z"
    }
   },
   "outputs": [
    {
     "name": "stdout",
     "output_type": "stream",
     "text": [
      "Python list ls1= [2, 4, 6, None, 8]\n",
      "Numpy array arr1= [2 4 6 None 8]\n",
      "Pandas series s1: \n",
      "0    2.0\n",
      "1    4.0\n",
      "2    6.0\n",
      "3    NaN\n",
      "4    8.0\n",
      "dtype: float64\n"
     ]
    }
   ],
   "source": [
    "ls1 = [2, 4, 6, None, 8]\n",
    "print(f\"Python list ls1= {ls1}\")\n",
    "\n",
    "arr1 = np.array([2, 4, 6, None, 8])\n",
    "print(f\"Numpy array arr1= {arr1}\")\n",
    "\n",
    "s1 = pd.Series([2, 4, 6, np.nan, 8])\n",
    "print(f\"Pandas series s1: \\n{s1}\")\n"
   ]
  },
  {
   "cell_type": "markdown",
   "id": "1d6d2a04",
   "metadata": {},
   "source": [
    "### Python lists\n",
    "\n",
    "Python lists might contain items of different types (also could be list of lists), but usually the items all have the same type.\n",
    "\n",
    "It is similar to the list in JavaScript -- it has append, insert, index, ... functions. \n",
    "\n",
    "The next cell shows some examples.\n",
    " \n",
    "More information can be found here: https://docs.python.org/3/tutorial/datastructures.html\n"
   ]
  },
  {
   "cell_type": "code",
   "execution_count": 3,
   "id": "73ed2e79",
   "metadata": {
    "ExecuteTime": {
     "end_time": "2024-10-05T16:38:56.577800Z",
     "start_time": "2024-10-05T16:38:56.571727Z"
    }
   },
   "outputs": [
    {
     "name": "stdout",
     "output_type": "stream",
     "text": [
      "Python list ls2= [2, 'Sunny', 6, None, [1, 2, 3]]\n",
      "Updated ls2= [2, 'Sunny', 6, None, [1, 2, 3], 199]\n",
      "Index of 199= 5\n",
      "The 2nd to the 4th items are ['Sunny', 6, None]\n",
      "The 3rd item in the 5th item of ls2 is 3\n",
      "+ works as append ls10+ls11=[1, 2, 3, 4, 5, 6]\n"
     ]
    }
   ],
   "source": [
    "ls2 = [2, 'Sunny', 6, None, [1,2,3]]\n",
    "print(f\"Python list ls2= {ls2}\")\n",
    "\n",
    "ls2.append(199)\n",
    "print(f\"Updated ls2= {ls2}\")\n",
    "\n",
    "id199 =ls2.index(199)\n",
    "print(f\"Index of 199= {id199}\")\n",
    "\n",
    "ls234 = ls2[1:4]\n",
    "print(f\"The 2nd to the 4th items are {ls234}\")\n",
    "\n",
    "item_5_3=ls2[4][2]\n",
    "print(f\"The 3rd item in the 5th item of ls2 is {item_5_3}\")\n",
    "\n",
    "ls10 = [1,2,3]\n",
    "ls11 = [4,5,6]\n",
    "ls12 = ls10+ls11\n",
    "print(f\"+ works as append ls10+ls11={ls12}\")"
   ]
  },
  {
   "cell_type": "markdown",
   "id": "b9f98ebc",
   "metadata": {},
   "source": [
    "The zip() function returns a zip object, which is an iterator of tuples where the first item in each passed iterator is paired together,  and then the second item in each passed iterator are paired together etc."
   ]
  },
  {
   "cell_type": "code",
   "execution_count": 4,
   "id": "92b2dd9c",
   "metadata": {},
   "outputs": [
    {
     "name": "stdout",
     "output_type": "stream",
     "text": [
      "zip(ls10, ls11)=((1, 4), (2, 5), (3, 6))\n"
     ]
    }
   ],
   "source": [
    "ls13 = zip(ls10, ls11)\n",
    "print(f\"zip(ls10, ls11)={tuple(ls13)}\")"
   ]
  },
  {
   "cell_type": "markdown",
   "id": "280a3af6",
   "metadata": {},
   "source": [
    "Add a new cell below, and check the value of tuple(ls13), what will you get? Why? "
   ]
  },
  {
   "cell_type": "code",
   "execution_count": 5,
   "id": "53dc37b9",
   "metadata": {},
   "outputs": [
    {
     "data": {
      "text/plain": [
       "()"
      ]
     },
     "execution_count": 5,
     "metadata": {},
     "output_type": "execute_result"
    }
   ],
   "source": [
    "tuple(ls13)"
   ]
  },
  {
   "cell_type": "markdown",
   "id": "592fea6b",
   "metadata": {},
   "source": [
    "print(tuple(ls13)) pops items from the iterator to create a list, then prints the list.\n",
    "Afterwards, the iterator doesn't contain any item."
   ]
  },
  {
   "cell_type": "markdown",
   "id": "9ada5b39",
   "metadata": {},
   "source": [
    "### Numpy arrays \n",
    "\n",
    "NumPy supports for large, multi-dimensional arrays and matrices, along with a large collection of high-level mathematical functions to operate on these arrays. --> Offer specialized functions for numerical operations with high performance.\n",
    "\n",
    "Different from Python list, all the items in one Numpy array must have the same type/length --> consume less memory compared with lists \n",
    "\n",
    "https://numpy.org/doc/stable/reference/generated/numpy.array.html\n",
    "\n",
    "#### First, let's create some arrays and retrieve some items from them."
   ]
  },
  {
   "cell_type": "code",
   "execution_count": 6,
   "id": "7da82dc8",
   "metadata": {},
   "outputs": [
    {
     "name": "stdout",
     "output_type": "stream",
     "text": [
      "1D array: \n",
      " [1 2 3 4 5] \n",
      "\n",
      "2D array: \n",
      " [[1 2 3]\n",
      " [4 5 6]\n",
      " [7 8 9]]\n",
      "2nd item in the 1st item:  2\n",
      "Row 1, Column 2:  2\n",
      "Row 3, Column 2:  8 \n",
      "\n",
      "3D array: \n",
      " [[[1 2 3]\n",
      "  [4 5 6]]\n",
      "\n",
      " [[1 2 3]\n",
      "  [4 5 6]]] \n"
     ]
    },
    {
     "data": {
      "text/plain": [
       "array([[ 0,  1,  2,  3],\n",
       "       [ 4,  5,  6,  7],\n",
       "       [ 8,  9, 10, 11]])"
      ]
     },
     "metadata": {},
     "output_type": "display_data"
    },
    {
     "data": {
      "text/plain": [
       "array([ 6, 22, 38])"
      ]
     },
     "execution_count": 6,
     "metadata": {},
     "output_type": "execute_result"
    }
   ],
   "source": [
    "d1 = np.array([1, 2, 3, 4, 5])\n",
    "print(f\"1D array: \\n\", d1, \"\\n\")\n",
    "\n",
    "d2 = np.array([[1, 2, 3], [4, 5, 6], [7, 8, 9]])\n",
    "print(f\"2D array: \\n\", d2)\n",
    "print('2nd item in the 1st item: ', d2[0][1])\n",
    "print('Row 1, Column 2: ', d2[0, 1])\n",
    "print(f\"Row 3, Column 2: \", d2[2,1], \"\\n\")\n",
    "\n",
    "d3 = np.array([[[1, 2, 3], [4, 5, 6]], [[1, 2, 3], [4, 5, 6]]])\n",
    "print(f\"3D array: \\n\", d3, \"\\n\")\n",
    "\n",
    "# Error:\n",
    "#d3 = np.array([[[1, 2, 3, 100], [4, 5, 6]], [[1, 2, 3], [4, 5, 6]]])\n",
    "\n",
    "# Check what is the result: \n",
    "x = np.arange(12).reshape((3,4))\n",
    "display(x)\n",
    "x.sum(axis=1)"
   ]
  },
  {
   "cell_type": "code",
   "execution_count": 7,
   "id": "b000923d",
   "metadata": {},
   "outputs": [
    {
     "data": {
      "text/plain": [
       "array([12, 15, 18, 21])"
      ]
     },
     "execution_count": 7,
     "metadata": {},
     "output_type": "execute_result"
    }
   ],
   "source": [
    "x.sum(axis=0)"
   ]
  },
  {
   "cell_type": "markdown",
   "id": "92b78473",
   "metadata": {},
   "source": [
    "#### You can operate arrays as vectors/matrices.\n",
    "\n",
    "https://numpy.org/doc/stable/reference/routines.linalg.html"
   ]
  },
  {
   "cell_type": "code",
   "execution_count": 8,
   "id": "32d8e6ca",
   "metadata": {},
   "outputs": [
    {
     "name": "stdout",
     "output_type": "stream",
     "text": [
      "d1=[1 2 3 4 5]\n",
      "d4=[10 10 10 10 10]\n",
      "Plus two vectors d1+d4=[11 12 13 14 15]\n"
     ]
    }
   ],
   "source": [
    "d4 = np.array([10, 10, 10, 10, 10])\n",
    "print (f\"d1={d1}\")\n",
    "print (f\"d4={d4}\")\n",
    "d5 = d1+d4\n",
    "print(f\"Plus two vectors d1+d4={d5}\")"
   ]
  },
  {
   "cell_type": "code",
   "execution_count": 9,
   "id": "3a40f084",
   "metadata": {},
   "outputs": [
    {
     "name": "stdout",
     "output_type": "stream",
     "text": [
      "Scale a vector by scalar 2: 2*d1=[ 2  4  6  8 10]\n"
     ]
    }
   ],
   "source": [
    "d6 = 2*d1\n",
    "print(f\"Scale a vector by scalar 2: 2*d1={d6}\")"
   ]
  },
  {
   "cell_type": "code",
   "execution_count": 10,
   "id": "c753f532",
   "metadata": {},
   "outputs": [
    {
     "name": "stdout",
     "output_type": "stream",
     "text": [
      "Hadamard product of two vectors: d1*d4=[10 20 30 40 50]\n"
     ]
    }
   ],
   "source": [
    "d7 = d1*d4\n",
    "print(f\"Hadamard product of two vectors: d1*d4={d7}\")"
   ]
  },
  {
   "cell_type": "code",
   "execution_count": 11,
   "id": "e8be15c4",
   "metadata": {},
   "outputs": [
    {
     "name": "stdout",
     "output_type": "stream",
     "text": [
      "Dot product of two vectors: np.dot(d1, d4)=150\n"
     ]
    }
   ],
   "source": [
    "d8 = np.dot(d1, d4)\n",
    "print(f\"Dot product of two vectors: np.dot(d1, d4)={d8}\")"
   ]
  },
  {
   "cell_type": "code",
   "execution_count": 12,
   "id": "d4fa0c89",
   "metadata": {},
   "outputs": [
    {
     "name": "stdout",
     "output_type": "stream",
     "text": [
      "Norm of d4: 22.360679774997898\n"
     ]
    }
   ],
   "source": [
    "from numpy import linalg as LA\n",
    "n4 = LA.norm(d4) \n",
    "# By default, LA.norm(x) returns Frobenius norm, sometimes also called the Euclidean norm\n",
    "print(f\"Norm of d4: {n4}\")\n"
   ]
  },
  {
   "cell_type": "markdown",
   "id": "f3b623c1",
   "metadata": {},
   "source": [
    "### Pandas series\n",
    "\n",
    "Pandas series is a ***one-dimensional labeled*** array holding data of any type such as integers, strings, Python objects etc.\n",
    "- Pandas Series is one dimensional.\n",
    "- Pandas Series has an explicitly defined index associated with values.\n",
    "- Pandas Series allows different data types, including objects.\n",
    "\n",
    "https://pandas.pydata.org/docs/reference/series.html\n"
   ]
  },
  {
   "cell_type": "code",
   "execution_count": 13,
   "id": "b609e6c8",
   "metadata": {},
   "outputs": [
    {
     "data": {
      "text/plain": [
       "0    [1, a, 3]\n",
       "1    [4, 5, 6]\n",
       "2    [7, 8, 9]\n",
       "dtype: object"
      ]
     },
     "metadata": {},
     "output_type": "display_data"
    },
    {
     "name": "stdout",
     "output_type": "stream",
     "text": [
      "Original d1=[1 2 3 4 5]\n"
     ]
    },
    {
     "data": {
      "text/plain": [
       "0    1\n",
       "1    2\n",
       "2    3\n",
       "3    4\n",
       "4    5\n",
       "dtype: int32"
      ]
     },
     "metadata": {},
     "output_type": "display_data"
    }
   ],
   "source": [
    "# One dimension\n",
    "s1 = pd.Series([[1, 'a', 3], [4, 5, 6], [7, 8, 9]])\n",
    "display(s1)\n",
    "\n",
    "# You may convert an array into a Series\n",
    "print(f\"Original d1={d1}\")\n",
    "s2 = pd.Series(d1)  \n",
    "display(s2)"
   ]
  },
  {
   "cell_type": "markdown",
   "id": "c86232de",
   "metadata": {},
   "source": [
    "You may define the index when creating a Series `s2 = pd.Series([2, 4, 6, np.nan, 8], index=['a', 'b', 'c', 'd', 'e'])`. \n",
    "\n",
    "*Check the value of s2:*"
   ]
  },
  {
   "cell_type": "code",
   "execution_count": 14,
   "id": "9071ca75",
   "metadata": {},
   "outputs": [
    {
     "data": {
      "text/plain": [
       "a        2\n",
       "b        4\n",
       "c    Hallo\n",
       "d      NaN\n",
       "e        8\n",
       "dtype: object"
      ]
     },
     "execution_count": 14,
     "metadata": {},
     "output_type": "execute_result"
    }
   ],
   "source": [
    "s2 = pd.Series([2, 4, 'Hallo', np.nan, 8], index=['a', 'b', 'c', 'd', 'e'])\n",
    "s2"
   ]
  },
  {
   "cell_type": "markdown",
   "id": "b389142e",
   "metadata": {},
   "source": [
    "You may also create Series by passing a dictionary `s3 = pd.Series(data={'a': 1, 'b': 2, 'c': 3})`"
   ]
  },
  {
   "cell_type": "code",
   "execution_count": 15,
   "id": "dcdd36e0",
   "metadata": {},
   "outputs": [
    {
     "data": {
      "text/plain": [
       "a    1\n",
       "b    2\n",
       "c    3\n",
       "dtype: int64"
      ]
     },
     "execution_count": 15,
     "metadata": {},
     "output_type": "execute_result"
    }
   ],
   "source": [
    "s3 = pd.Series(data={'a': 1, 'b': 2, 'c': 3})\n",
    "s3"
   ]
  },
  {
   "cell_type": "markdown",
   "id": "2e49ab38",
   "metadata": {},
   "source": [
    "*How to retrieve value 2 of s3? How to retrieve values indexed by b, c, d of s2?*"
   ]
  },
  {
   "cell_type": "code",
   "execution_count": 16,
   "id": "e7a4a6ff",
   "metadata": {},
   "outputs": [
    {
     "data": {
      "text/plain": [
       "2"
      ]
     },
     "metadata": {},
     "output_type": "display_data"
    },
    {
     "data": {
      "text/plain": [
       "b        4\n",
       "c    Hallo\n",
       "d      NaN\n",
       "dtype: object"
      ]
     },
     "execution_count": 16,
     "metadata": {},
     "output_type": "execute_result"
    }
   ],
   "source": [
    "display(s3['b'])\n",
    "s2['b':'d']"
   ]
  },
  {
   "cell_type": "markdown",
   "id": "46f38710",
   "metadata": {},
   "source": [
    "## DataFrame\n",
    "\n",
    "DataFrame is a two-dimensional data structure that holds data like a two-dimension array or a table with rows and columns.\n",
    "\n",
    "https://pandas.pydata.org/docs/reference/frame.html\n"
   ]
  },
  {
   "cell_type": "code",
   "execution_count": 17,
   "id": "9a678781",
   "metadata": {},
   "outputs": [
    {
     "data": {
      "text/html": [
       "<div>\n",
       "<style scoped>\n",
       "    .dataframe tbody tr th:only-of-type {\n",
       "        vertical-align: middle;\n",
       "    }\n",
       "\n",
       "    .dataframe tbody tr th {\n",
       "        vertical-align: top;\n",
       "    }\n",
       "\n",
       "    .dataframe thead th {\n",
       "        text-align: right;\n",
       "    }\n",
       "</style>\n",
       "<table border=\"1\" class=\"dataframe\">\n",
       "  <thead>\n",
       "    <tr style=\"text-align: right;\">\n",
       "      <th></th>\n",
       "      <th>Name</th>\n",
       "      <th>Age</th>\n",
       "    </tr>\n",
       "  </thead>\n",
       "  <tbody>\n",
       "    <tr>\n",
       "      <th>0</th>\n",
       "      <td>Tom</td>\n",
       "      <td>18</td>\n",
       "    </tr>\n",
       "    <tr>\n",
       "      <th>1</th>\n",
       "      <td>Jerry</td>\n",
       "      <td>24</td>\n",
       "    </tr>\n",
       "    <tr>\n",
       "      <th>2</th>\n",
       "      <td>Emily</td>\n",
       "      <td>18</td>\n",
       "    </tr>\n",
       "    <tr>\n",
       "      <th>3</th>\n",
       "      <td>Amy</td>\n",
       "      <td>22</td>\n",
       "    </tr>\n",
       "  </tbody>\n",
       "</table>\n",
       "</div>"
      ],
      "text/plain": [
       "    Name  Age\n",
       "0    Tom   18\n",
       "1  Jerry   24\n",
       "2  Emily   18\n",
       "3    Amy   22"
      ]
     },
     "metadata": {},
     "output_type": "display_data"
    }
   ],
   "source": [
    "data1 = {'Name':[\"Tom\",\"Jerry\",\"Emily\",\"Amy\"], 'Age':[18,24,18,22]}\n",
    "df1 = pd.DataFrame(data1)\n",
    "display(df1)"
   ]
  },
  {
   "cell_type": "code",
   "execution_count": 18,
   "id": "e13103fe",
   "metadata": {},
   "outputs": [
    {
     "data": {
      "text/html": [
       "<div>\n",
       "<style scoped>\n",
       "    .dataframe tbody tr th:only-of-type {\n",
       "        vertical-align: middle;\n",
       "    }\n",
       "\n",
       "    .dataframe tbody tr th {\n",
       "        vertical-align: top;\n",
       "    }\n",
       "\n",
       "    .dataframe thead th {\n",
       "        text-align: right;\n",
       "    }\n",
       "</style>\n",
       "<table border=\"1\" class=\"dataframe\">\n",
       "  <thead>\n",
       "    <tr style=\"text-align: right;\">\n",
       "      <th></th>\n",
       "      <th>col1</th>\n",
       "      <th>col2</th>\n",
       "    </tr>\n",
       "  </thead>\n",
       "  <tbody>\n",
       "    <tr>\n",
       "      <th>0</th>\n",
       "      <td>10</td>\n",
       "      <td>NaN</td>\n",
       "    </tr>\n",
       "    <tr>\n",
       "      <th>1</th>\n",
       "      <td>11</td>\n",
       "      <td>NaN</td>\n",
       "    </tr>\n",
       "    <tr>\n",
       "      <th>2</th>\n",
       "      <td>12</td>\n",
       "      <td>A</td>\n",
       "    </tr>\n",
       "    <tr>\n",
       "      <th>3</th>\n",
       "      <td>13</td>\n",
       "      <td>B</td>\n",
       "    </tr>\n",
       "  </tbody>\n",
       "</table>\n",
       "</div>"
      ],
      "text/plain": [
       "   col1 col2\n",
       "0    10  NaN\n",
       "1    11  NaN\n",
       "2    12    A\n",
       "3    13    B"
      ]
     },
     "execution_count": 18,
     "metadata": {},
     "output_type": "execute_result"
    }
   ],
   "source": [
    "data2 = {'col1': [10, 11, 12, 13], 'col2': pd.Series(['A', 'B'], index=[2, 3])}\n",
    "\n",
    "#Error:\n",
    "#pd.DataFrame(data=data2)\n",
    "\n",
    "dfWithNaA = pd.DataFrame(data=data2, index=[0, 1, 2, 3])\n",
    "dfWithNaA"
   ]
  },
  {
   "cell_type": "code",
   "execution_count": 19,
   "id": "52275de1",
   "metadata": {},
   "outputs": [
    {
     "data": {
      "text/html": [
       "<div>\n",
       "<style scoped>\n",
       "    .dataframe tbody tr th:only-of-type {\n",
       "        vertical-align: middle;\n",
       "    }\n",
       "\n",
       "    .dataframe tbody tr th {\n",
       "        vertical-align: top;\n",
       "    }\n",
       "\n",
       "    .dataframe thead th {\n",
       "        text-align: right;\n",
       "    }\n",
       "</style>\n",
       "<table border=\"1\" class=\"dataframe\">\n",
       "  <thead>\n",
       "    <tr style=\"text-align: right;\">\n",
       "      <th></th>\n",
       "      <th>a</th>\n",
       "      <th>b</th>\n",
       "      <th>c</th>\n",
       "    </tr>\n",
       "  </thead>\n",
       "  <tbody>\n",
       "    <tr>\n",
       "      <th>0</th>\n",
       "      <td>1</td>\n",
       "      <td>2</td>\n",
       "      <td>3</td>\n",
       "    </tr>\n",
       "    <tr>\n",
       "      <th>1</th>\n",
       "      <td>4</td>\n",
       "      <td>5</td>\n",
       "      <td>6</td>\n",
       "    </tr>\n",
       "    <tr>\n",
       "      <th>2</th>\n",
       "      <td>7</td>\n",
       "      <td>8</td>\n",
       "      <td>9</td>\n",
       "    </tr>\n",
       "  </tbody>\n",
       "</table>\n",
       "</div>"
      ],
      "text/plain": [
       "   a  b  c\n",
       "0  1  2  3\n",
       "1  4  5  6\n",
       "2  7  8  9"
      ]
     },
     "execution_count": 19,
     "metadata": {},
     "output_type": "execute_result"
    }
   ],
   "source": [
    "df2 = pd.DataFrame(np.array([[1, 2, 3], [4, 5, 6], [7, 8, 9]]),\n",
    "                   columns=['a', 'b', 'c'])\n",
    "df2"
   ]
  },
  {
   "cell_type": "markdown",
   "id": "d900d499",
   "metadata": {},
   "source": [
    "#### To use Numpy functions, you can convert dataframe into array"
   ]
  },
  {
   "cell_type": "code",
   "execution_count": 20,
   "id": "547d3731",
   "metadata": {},
   "outputs": [
    {
     "data": {
      "text/plain": [
       "array([[1, 2, 3],\n",
       "       [4, 5, 6],\n",
       "       [7, 8, 9]])"
      ]
     },
     "execution_count": 20,
     "metadata": {},
     "output_type": "execute_result"
    }
   ],
   "source": [
    "df2.to_numpy()"
   ]
  },
  {
   "cell_type": "markdown",
   "id": "2ea6012f",
   "metadata": {},
   "source": [
    "If there are different data types in the dataframe, they will be converted to \"objects\""
   ]
  },
  {
   "cell_type": "code",
   "execution_count": 21,
   "id": "eaf3066b",
   "metadata": {},
   "outputs": [
    {
     "data": {
      "text/html": [
       "<div>\n",
       "<style scoped>\n",
       "    .dataframe tbody tr th:only-of-type {\n",
       "        vertical-align: middle;\n",
       "    }\n",
       "\n",
       "    .dataframe tbody tr th {\n",
       "        vertical-align: top;\n",
       "    }\n",
       "\n",
       "    .dataframe thead th {\n",
       "        text-align: right;\n",
       "    }\n",
       "</style>\n",
       "<table border=\"1\" class=\"dataframe\">\n",
       "  <thead>\n",
       "    <tr style=\"text-align: right;\">\n",
       "      <th></th>\n",
       "      <th>A</th>\n",
       "      <th>B</th>\n",
       "      <th>C</th>\n",
       "      <th>D</th>\n",
       "      <th>E</th>\n",
       "      <th>F</th>\n",
       "    </tr>\n",
       "  </thead>\n",
       "  <tbody>\n",
       "    <tr>\n",
       "      <th>0</th>\n",
       "      <td>1</td>\n",
       "      <td>2024-02-23</td>\n",
       "      <td>1.0</td>\n",
       "      <td>3</td>\n",
       "      <td>test</td>\n",
       "      <td>foo</td>\n",
       "    </tr>\n",
       "    <tr>\n",
       "      <th>1</th>\n",
       "      <td>1</td>\n",
       "      <td>2024-02-23</td>\n",
       "      <td>1.0</td>\n",
       "      <td>3</td>\n",
       "      <td>train</td>\n",
       "      <td>foo</td>\n",
       "    </tr>\n",
       "    <tr>\n",
       "      <th>2</th>\n",
       "      <td>1</td>\n",
       "      <td>2024-02-23</td>\n",
       "      <td>1.0</td>\n",
       "      <td>3</td>\n",
       "      <td>test</td>\n",
       "      <td>foo</td>\n",
       "    </tr>\n",
       "    <tr>\n",
       "      <th>3</th>\n",
       "      <td>1</td>\n",
       "      <td>2024-02-23</td>\n",
       "      <td>1.0</td>\n",
       "      <td>3</td>\n",
       "      <td>train</td>\n",
       "      <td>foo</td>\n",
       "    </tr>\n",
       "  </tbody>\n",
       "</table>\n",
       "</div>"
      ],
      "text/plain": [
       "   A          B    C  D      E    F\n",
       "0  1 2024-02-23  1.0  3   test  foo\n",
       "1  1 2024-02-23  1.0  3  train  foo\n",
       "2  1 2024-02-23  1.0  3   test  foo\n",
       "3  1 2024-02-23  1.0  3  train  foo"
      ]
     },
     "metadata": {},
     "output_type": "display_data"
    },
    {
     "data": {
      "text/plain": [
       "array([[1, Timestamp('2024-02-23 00:00:00'), 1.0, 3, 'test', 'foo'],\n",
       "       [1, Timestamp('2024-02-23 00:00:00'), 1.0, 3, 'train', 'foo'],\n",
       "       [1, Timestamp('2024-02-23 00:00:00'), 1.0, 3, 'test', 'foo'],\n",
       "       [1, Timestamp('2024-02-23 00:00:00'), 1.0, 3, 'train', 'foo']],\n",
       "      dtype=object)"
      ]
     },
     "execution_count": 21,
     "metadata": {},
     "output_type": "execute_result"
    }
   ],
   "source": [
    "df3 = pd.DataFrame(\n",
    "    {\n",
    "        \"A\": 1,\n",
    "        \"B\": pd.Timestamp(\"20240223\"),\n",
    "        \"C\": pd.Series(1, index=list(range(4)), dtype=\"float32\"),\n",
    "        \"D\": np.array([3] * 4, dtype=\"int32\"),\n",
    "        \"E\": pd.Categorical([\"test\", \"train\", \"test\", \"train\"]),\n",
    "        \"F\": \"foo\",\n",
    "    }\n",
    ")\n",
    "display(df3)\n",
    "df3.to_numpy()"
   ]
  },
  {
   "cell_type": "markdown",
   "id": "908fdf7b",
   "metadata": {},
   "source": [
    "### Overview of the datafile\n",
    "\n",
    "With DataFrame, you can conviniently load data and have overview."
   ]
  },
  {
   "cell_type": "code",
   "execution_count": 22,
   "id": "0e5402d6",
   "metadata": {},
   "outputs": [
    {
     "data": {
      "text/html": [
       "<div>\n",
       "<style scoped>\n",
       "    .dataframe tbody tr th:only-of-type {\n",
       "        vertical-align: middle;\n",
       "    }\n",
       "\n",
       "    .dataframe tbody tr th {\n",
       "        vertical-align: top;\n",
       "    }\n",
       "\n",
       "    .dataframe thead th {\n",
       "        text-align: right;\n",
       "    }\n",
       "</style>\n",
       "<table border=\"1\" class=\"dataframe\">\n",
       "  <thead>\n",
       "    <tr style=\"text-align: right;\">\n",
       "      <th></th>\n",
       "      <th>TV</th>\n",
       "      <th>Radio</th>\n",
       "      <th>Newspaper</th>\n",
       "      <th>Sales</th>\n",
       "    </tr>\n",
       "  </thead>\n",
       "  <tbody>\n",
       "    <tr>\n",
       "      <th>0</th>\n",
       "      <td>230.1</td>\n",
       "      <td>37.8</td>\n",
       "      <td>69.2</td>\n",
       "      <td>22.1</td>\n",
       "    </tr>\n",
       "    <tr>\n",
       "      <th>1</th>\n",
       "      <td>44.5</td>\n",
       "      <td>39.3</td>\n",
       "      <td>45.1</td>\n",
       "      <td>10.4</td>\n",
       "    </tr>\n",
       "    <tr>\n",
       "      <th>2</th>\n",
       "      <td>17.2</td>\n",
       "      <td>45.9</td>\n",
       "      <td>69.3</td>\n",
       "      <td>12.0</td>\n",
       "    </tr>\n",
       "    <tr>\n",
       "      <th>3</th>\n",
       "      <td>151.5</td>\n",
       "      <td>41.3</td>\n",
       "      <td>58.5</td>\n",
       "      <td>16.5</td>\n",
       "    </tr>\n",
       "    <tr>\n",
       "      <th>4</th>\n",
       "      <td>180.8</td>\n",
       "      <td>10.8</td>\n",
       "      <td>58.4</td>\n",
       "      <td>17.9</td>\n",
       "    </tr>\n",
       "    <tr>\n",
       "      <th>...</th>\n",
       "      <td>...</td>\n",
       "      <td>...</td>\n",
       "      <td>...</td>\n",
       "      <td>...</td>\n",
       "    </tr>\n",
       "    <tr>\n",
       "      <th>195</th>\n",
       "      <td>38.2</td>\n",
       "      <td>3.7</td>\n",
       "      <td>13.8</td>\n",
       "      <td>7.6</td>\n",
       "    </tr>\n",
       "    <tr>\n",
       "      <th>196</th>\n",
       "      <td>94.2</td>\n",
       "      <td>4.9</td>\n",
       "      <td>8.1</td>\n",
       "      <td>14.0</td>\n",
       "    </tr>\n",
       "    <tr>\n",
       "      <th>197</th>\n",
       "      <td>177.0</td>\n",
       "      <td>9.3</td>\n",
       "      <td>6.4</td>\n",
       "      <td>14.8</td>\n",
       "    </tr>\n",
       "    <tr>\n",
       "      <th>198</th>\n",
       "      <td>283.6</td>\n",
       "      <td>42.0</td>\n",
       "      <td>66.2</td>\n",
       "      <td>25.5</td>\n",
       "    </tr>\n",
       "    <tr>\n",
       "      <th>199</th>\n",
       "      <td>232.1</td>\n",
       "      <td>8.6</td>\n",
       "      <td>8.7</td>\n",
       "      <td>18.4</td>\n",
       "    </tr>\n",
       "  </tbody>\n",
       "</table>\n",
       "<p>200 rows × 4 columns</p>\n",
       "</div>"
      ],
      "text/plain": [
       "        TV  Radio  Newspaper  Sales\n",
       "0    230.1   37.8       69.2   22.1\n",
       "1     44.5   39.3       45.1   10.4\n",
       "2     17.2   45.9       69.3   12.0\n",
       "3    151.5   41.3       58.5   16.5\n",
       "4    180.8   10.8       58.4   17.9\n",
       "..     ...    ...        ...    ...\n",
       "195   38.2    3.7       13.8    7.6\n",
       "196   94.2    4.9        8.1   14.0\n",
       "197  177.0    9.3        6.4   14.8\n",
       "198  283.6   42.0       66.2   25.5\n",
       "199  232.1    8.6        8.7   18.4\n",
       "\n",
       "[200 rows x 4 columns]"
      ]
     },
     "metadata": {},
     "output_type": "display_data"
    }
   ],
   "source": [
    "df = pd.read_csv(\"Data/advertising.csv\")\n",
    "display(df)"
   ]
  },
  {
   "cell_type": "markdown",
   "id": "eb6729b8",
   "metadata": {},
   "source": [
    "*Try the following commands. What are their functions?*"
   ]
  },
  {
   "cell_type": "code",
   "execution_count": 23,
   "id": "39daa795",
   "metadata": {},
   "outputs": [
    {
     "data": {
      "text/html": [
       "<div>\n",
       "<style scoped>\n",
       "    .dataframe tbody tr th:only-of-type {\n",
       "        vertical-align: middle;\n",
       "    }\n",
       "\n",
       "    .dataframe tbody tr th {\n",
       "        vertical-align: top;\n",
       "    }\n",
       "\n",
       "    .dataframe thead th {\n",
       "        text-align: right;\n",
       "    }\n",
       "</style>\n",
       "<table border=\"1\" class=\"dataframe\">\n",
       "  <thead>\n",
       "    <tr style=\"text-align: right;\">\n",
       "      <th></th>\n",
       "      <th>TV</th>\n",
       "      <th>Radio</th>\n",
       "      <th>Newspaper</th>\n",
       "      <th>Sales</th>\n",
       "    </tr>\n",
       "  </thead>\n",
       "  <tbody>\n",
       "    <tr>\n",
       "      <th>0</th>\n",
       "      <td>230.1</td>\n",
       "      <td>37.8</td>\n",
       "      <td>69.2</td>\n",
       "      <td>22.1</td>\n",
       "    </tr>\n",
       "    <tr>\n",
       "      <th>1</th>\n",
       "      <td>44.5</td>\n",
       "      <td>39.3</td>\n",
       "      <td>45.1</td>\n",
       "      <td>10.4</td>\n",
       "    </tr>\n",
       "    <tr>\n",
       "      <th>2</th>\n",
       "      <td>17.2</td>\n",
       "      <td>45.9</td>\n",
       "      <td>69.3</td>\n",
       "      <td>12.0</td>\n",
       "    </tr>\n",
       "    <tr>\n",
       "      <th>3</th>\n",
       "      <td>151.5</td>\n",
       "      <td>41.3</td>\n",
       "      <td>58.5</td>\n",
       "      <td>16.5</td>\n",
       "    </tr>\n",
       "    <tr>\n",
       "      <th>4</th>\n",
       "      <td>180.8</td>\n",
       "      <td>10.8</td>\n",
       "      <td>58.4</td>\n",
       "      <td>17.9</td>\n",
       "    </tr>\n",
       "  </tbody>\n",
       "</table>\n",
       "</div>"
      ],
      "text/plain": [
       "      TV  Radio  Newspaper  Sales\n",
       "0  230.1   37.8       69.2   22.1\n",
       "1   44.5   39.3       45.1   10.4\n",
       "2   17.2   45.9       69.3   12.0\n",
       "3  151.5   41.3       58.5   16.5\n",
       "4  180.8   10.8       58.4   17.9"
      ]
     },
     "metadata": {},
     "output_type": "display_data"
    }
   ],
   "source": [
    "display(df.head(5))"
   ]
  },
  {
   "cell_type": "code",
   "execution_count": 24,
   "id": "b06612f0",
   "metadata": {},
   "outputs": [
    {
     "data": {
      "text/html": [
       "<div>\n",
       "<style scoped>\n",
       "    .dataframe tbody tr th:only-of-type {\n",
       "        vertical-align: middle;\n",
       "    }\n",
       "\n",
       "    .dataframe tbody tr th {\n",
       "        vertical-align: top;\n",
       "    }\n",
       "\n",
       "    .dataframe thead th {\n",
       "        text-align: right;\n",
       "    }\n",
       "</style>\n",
       "<table border=\"1\" class=\"dataframe\">\n",
       "  <thead>\n",
       "    <tr style=\"text-align: right;\">\n",
       "      <th></th>\n",
       "      <th>TV</th>\n",
       "      <th>Radio</th>\n",
       "      <th>Newspaper</th>\n",
       "      <th>Sales</th>\n",
       "    </tr>\n",
       "  </thead>\n",
       "  <tbody>\n",
       "    <tr>\n",
       "      <th>190</th>\n",
       "      <td>39.5</td>\n",
       "      <td>41.1</td>\n",
       "      <td>5.8</td>\n",
       "      <td>10.8</td>\n",
       "    </tr>\n",
       "    <tr>\n",
       "      <th>191</th>\n",
       "      <td>75.5</td>\n",
       "      <td>10.8</td>\n",
       "      <td>6.0</td>\n",
       "      <td>11.9</td>\n",
       "    </tr>\n",
       "    <tr>\n",
       "      <th>192</th>\n",
       "      <td>17.2</td>\n",
       "      <td>4.1</td>\n",
       "      <td>31.6</td>\n",
       "      <td>5.9</td>\n",
       "    </tr>\n",
       "    <tr>\n",
       "      <th>193</th>\n",
       "      <td>166.8</td>\n",
       "      <td>42.0</td>\n",
       "      <td>3.6</td>\n",
       "      <td>19.6</td>\n",
       "    </tr>\n",
       "    <tr>\n",
       "      <th>194</th>\n",
       "      <td>149.7</td>\n",
       "      <td>35.6</td>\n",
       "      <td>6.0</td>\n",
       "      <td>17.3</td>\n",
       "    </tr>\n",
       "    <tr>\n",
       "      <th>195</th>\n",
       "      <td>38.2</td>\n",
       "      <td>3.7</td>\n",
       "      <td>13.8</td>\n",
       "      <td>7.6</td>\n",
       "    </tr>\n",
       "    <tr>\n",
       "      <th>196</th>\n",
       "      <td>94.2</td>\n",
       "      <td>4.9</td>\n",
       "      <td>8.1</td>\n",
       "      <td>14.0</td>\n",
       "    </tr>\n",
       "    <tr>\n",
       "      <th>197</th>\n",
       "      <td>177.0</td>\n",
       "      <td>9.3</td>\n",
       "      <td>6.4</td>\n",
       "      <td>14.8</td>\n",
       "    </tr>\n",
       "    <tr>\n",
       "      <th>198</th>\n",
       "      <td>283.6</td>\n",
       "      <td>42.0</td>\n",
       "      <td>66.2</td>\n",
       "      <td>25.5</td>\n",
       "    </tr>\n",
       "    <tr>\n",
       "      <th>199</th>\n",
       "      <td>232.1</td>\n",
       "      <td>8.6</td>\n",
       "      <td>8.7</td>\n",
       "      <td>18.4</td>\n",
       "    </tr>\n",
       "  </tbody>\n",
       "</table>\n",
       "</div>"
      ],
      "text/plain": [
       "        TV  Radio  Newspaper  Sales\n",
       "190   39.5   41.1        5.8   10.8\n",
       "191   75.5   10.8        6.0   11.9\n",
       "192   17.2    4.1       31.6    5.9\n",
       "193  166.8   42.0        3.6   19.6\n",
       "194  149.7   35.6        6.0   17.3\n",
       "195   38.2    3.7       13.8    7.6\n",
       "196   94.2    4.9        8.1   14.0\n",
       "197  177.0    9.3        6.4   14.8\n",
       "198  283.6   42.0       66.2   25.5\n",
       "199  232.1    8.6        8.7   18.4"
      ]
     },
     "metadata": {},
     "output_type": "display_data"
    }
   ],
   "source": [
    "display(df.tail(10))"
   ]
  },
  {
   "cell_type": "code",
   "execution_count": 25,
   "id": "52d7c6d0",
   "metadata": {},
   "outputs": [
    {
     "data": {
      "text/plain": [
       "RangeIndex(start=0, stop=200, step=1)"
      ]
     },
     "metadata": {},
     "output_type": "display_data"
    }
   ],
   "source": [
    "display(df.index)\n"
   ]
  },
  {
   "cell_type": "code",
   "execution_count": 26,
   "id": "b6369fbe",
   "metadata": {},
   "outputs": [
    {
     "data": {
      "text/plain": [
       "TV           float64\n",
       "Radio        float64\n",
       "Newspaper    float64\n",
       "Sales        float64\n",
       "dtype: object"
      ]
     },
     "metadata": {},
     "output_type": "display_data"
    }
   ],
   "source": [
    "\n",
    "display(df.dtypes)\n"
   ]
  },
  {
   "cell_type": "code",
   "execution_count": 27,
   "id": "d1c8e2fb",
   "metadata": {},
   "outputs": [
    {
     "data": {
      "text/html": [
       "<div>\n",
       "<style scoped>\n",
       "    .dataframe tbody tr th:only-of-type {\n",
       "        vertical-align: middle;\n",
       "    }\n",
       "\n",
       "    .dataframe tbody tr th {\n",
       "        vertical-align: top;\n",
       "    }\n",
       "\n",
       "    .dataframe thead th {\n",
       "        text-align: right;\n",
       "    }\n",
       "</style>\n",
       "<table border=\"1\" class=\"dataframe\">\n",
       "  <thead>\n",
       "    <tr style=\"text-align: right;\">\n",
       "      <th></th>\n",
       "      <th>TV</th>\n",
       "      <th>Radio</th>\n",
       "      <th>Newspaper</th>\n",
       "      <th>Sales</th>\n",
       "    </tr>\n",
       "  </thead>\n",
       "  <tbody>\n",
       "    <tr>\n",
       "      <th>count</th>\n",
       "      <td>200.000000</td>\n",
       "      <td>200.000000</td>\n",
       "      <td>200.000000</td>\n",
       "      <td>200.000000</td>\n",
       "    </tr>\n",
       "    <tr>\n",
       "      <th>mean</th>\n",
       "      <td>147.042500</td>\n",
       "      <td>23.264000</td>\n",
       "      <td>30.554000</td>\n",
       "      <td>15.130500</td>\n",
       "    </tr>\n",
       "    <tr>\n",
       "      <th>std</th>\n",
       "      <td>85.854236</td>\n",
       "      <td>14.846809</td>\n",
       "      <td>21.778621</td>\n",
       "      <td>5.283892</td>\n",
       "    </tr>\n",
       "    <tr>\n",
       "      <th>min</th>\n",
       "      <td>0.700000</td>\n",
       "      <td>0.000000</td>\n",
       "      <td>0.300000</td>\n",
       "      <td>1.600000</td>\n",
       "    </tr>\n",
       "    <tr>\n",
       "      <th>25%</th>\n",
       "      <td>74.375000</td>\n",
       "      <td>9.975000</td>\n",
       "      <td>12.750000</td>\n",
       "      <td>11.000000</td>\n",
       "    </tr>\n",
       "    <tr>\n",
       "      <th>50%</th>\n",
       "      <td>149.750000</td>\n",
       "      <td>22.900000</td>\n",
       "      <td>25.750000</td>\n",
       "      <td>16.000000</td>\n",
       "    </tr>\n",
       "    <tr>\n",
       "      <th>75%</th>\n",
       "      <td>218.825000</td>\n",
       "      <td>36.525000</td>\n",
       "      <td>45.100000</td>\n",
       "      <td>19.050000</td>\n",
       "    </tr>\n",
       "    <tr>\n",
       "      <th>max</th>\n",
       "      <td>296.400000</td>\n",
       "      <td>49.600000</td>\n",
       "      <td>114.000000</td>\n",
       "      <td>27.000000</td>\n",
       "    </tr>\n",
       "  </tbody>\n",
       "</table>\n",
       "</div>"
      ],
      "text/plain": [
       "               TV       Radio   Newspaper       Sales\n",
       "count  200.000000  200.000000  200.000000  200.000000\n",
       "mean   147.042500   23.264000   30.554000   15.130500\n",
       "std     85.854236   14.846809   21.778621    5.283892\n",
       "min      0.700000    0.000000    0.300000    1.600000\n",
       "25%     74.375000    9.975000   12.750000   11.000000\n",
       "50%    149.750000   22.900000   25.750000   16.000000\n",
       "75%    218.825000   36.525000   45.100000   19.050000\n",
       "max    296.400000   49.600000  114.000000   27.000000"
      ]
     },
     "execution_count": 27,
     "metadata": {},
     "output_type": "execute_result"
    }
   ],
   "source": [
    "\n",
    "df.describe()"
   ]
  },
  {
   "cell_type": "markdown",
   "id": "b7b28128",
   "metadata": {},
   "source": [
    "*The above commands display the following information about df*\n",
    "- *The first 5 rows (including header)*\n",
    "- *The last 10 rows (including header)*\n",
    "- *The information about index*\n",
    "- *The data type of each column*\n",
    "- *Statistical information about the table*"
   ]
  },
  {
   "cell_type": "markdown",
   "id": "afc23658",
   "metadata": {},
   "source": [
    "### Select data from dataframe\n",
    "\n",
    "It is very convenient to select data from a dataframe. In addition to select by index, slicing, you can easily add conditional filters.\n",
    "\n",
    "*How to get the data in Column TV?*"
   ]
  },
  {
   "cell_type": "code",
   "execution_count": 28,
   "id": "cbc44ec8",
   "metadata": {},
   "outputs": [
    {
     "data": {
      "text/html": [
       "<div>\n",
       "<style scoped>\n",
       "    .dataframe tbody tr th:only-of-type {\n",
       "        vertical-align: middle;\n",
       "    }\n",
       "\n",
       "    .dataframe tbody tr th {\n",
       "        vertical-align: top;\n",
       "    }\n",
       "\n",
       "    .dataframe thead th {\n",
       "        text-align: right;\n",
       "    }\n",
       "</style>\n",
       "<table border=\"1\" class=\"dataframe\">\n",
       "  <thead>\n",
       "    <tr style=\"text-align: right;\">\n",
       "      <th></th>\n",
       "      <th>TV</th>\n",
       "      <th>Radio</th>\n",
       "      <th>Newspaper</th>\n",
       "      <th>Sales</th>\n",
       "    </tr>\n",
       "  </thead>\n",
       "  <tbody>\n",
       "    <tr>\n",
       "      <th>0</th>\n",
       "      <td>230.1</td>\n",
       "      <td>37.8</td>\n",
       "      <td>69.2</td>\n",
       "      <td>22.1</td>\n",
       "    </tr>\n",
       "    <tr>\n",
       "      <th>1</th>\n",
       "      <td>44.5</td>\n",
       "      <td>39.3</td>\n",
       "      <td>45.1</td>\n",
       "      <td>10.4</td>\n",
       "    </tr>\n",
       "    <tr>\n",
       "      <th>2</th>\n",
       "      <td>17.2</td>\n",
       "      <td>45.9</td>\n",
       "      <td>69.3</td>\n",
       "      <td>12.0</td>\n",
       "    </tr>\n",
       "    <tr>\n",
       "      <th>3</th>\n",
       "      <td>151.5</td>\n",
       "      <td>41.3</td>\n",
       "      <td>58.5</td>\n",
       "      <td>16.5</td>\n",
       "    </tr>\n",
       "    <tr>\n",
       "      <th>4</th>\n",
       "      <td>180.8</td>\n",
       "      <td>10.8</td>\n",
       "      <td>58.4</td>\n",
       "      <td>17.9</td>\n",
       "    </tr>\n",
       "    <tr>\n",
       "      <th>...</th>\n",
       "      <td>...</td>\n",
       "      <td>...</td>\n",
       "      <td>...</td>\n",
       "      <td>...</td>\n",
       "    </tr>\n",
       "    <tr>\n",
       "      <th>195</th>\n",
       "      <td>38.2</td>\n",
       "      <td>3.7</td>\n",
       "      <td>13.8</td>\n",
       "      <td>7.6</td>\n",
       "    </tr>\n",
       "    <tr>\n",
       "      <th>196</th>\n",
       "      <td>94.2</td>\n",
       "      <td>4.9</td>\n",
       "      <td>8.1</td>\n",
       "      <td>14.0</td>\n",
       "    </tr>\n",
       "    <tr>\n",
       "      <th>197</th>\n",
       "      <td>177.0</td>\n",
       "      <td>9.3</td>\n",
       "      <td>6.4</td>\n",
       "      <td>14.8</td>\n",
       "    </tr>\n",
       "    <tr>\n",
       "      <th>198</th>\n",
       "      <td>283.6</td>\n",
       "      <td>42.0</td>\n",
       "      <td>66.2</td>\n",
       "      <td>25.5</td>\n",
       "    </tr>\n",
       "    <tr>\n",
       "      <th>199</th>\n",
       "      <td>232.1</td>\n",
       "      <td>8.6</td>\n",
       "      <td>8.7</td>\n",
       "      <td>18.4</td>\n",
       "    </tr>\n",
       "  </tbody>\n",
       "</table>\n",
       "<p>200 rows × 4 columns</p>\n",
       "</div>"
      ],
      "text/plain": [
       "        TV  Radio  Newspaper  Sales\n",
       "0    230.1   37.8       69.2   22.1\n",
       "1     44.5   39.3       45.1   10.4\n",
       "2     17.2   45.9       69.3   12.0\n",
       "3    151.5   41.3       58.5   16.5\n",
       "4    180.8   10.8       58.4   17.9\n",
       "..     ...    ...        ...    ...\n",
       "195   38.2    3.7       13.8    7.6\n",
       "196   94.2    4.9        8.1   14.0\n",
       "197  177.0    9.3        6.4   14.8\n",
       "198  283.6   42.0       66.2   25.5\n",
       "199  232.1    8.6        8.7   18.4\n",
       "\n",
       "[200 rows x 4 columns]"
      ]
     },
     "metadata": {},
     "output_type": "display_data"
    },
    {
     "name": "stdout",
     "output_type": "stream",
     "text": [
      "Column TV: \n",
      "0      230.1\n",
      "1       44.5\n",
      "2       17.2\n",
      "3      151.5\n",
      "4      180.8\n",
      "       ...  \n",
      "195     38.2\n",
      "196     94.2\n",
      "197    177.0\n",
      "198    283.6\n",
      "199    232.1\n",
      "Name: TV, Length: 200, dtype: float64 \n",
      "\n",
      "Column TV: \n",
      "0      230.1\n",
      "1       44.5\n",
      "2       17.2\n",
      "3      151.5\n",
      "4      180.8\n",
      "       ...  \n",
      "195     38.2\n",
      "196     94.2\n",
      "197    177.0\n",
      "198    283.6\n",
      "199    232.1\n",
      "Name: TV, Length: 200, dtype: float64 \n"
     ]
    }
   ],
   "source": [
    "display(df)\n",
    "\n",
    "print(f\"Column TV: \\n{df['TV']}\", \"\\n\")\n",
    "print(f\"Column TV: \\n{df.TV}\", \"\\n\")"
   ]
  },
  {
   "cell_type": "markdown",
   "id": "8aea6076",
   "metadata": {},
   "source": [
    "*How to get the data of Column TV and Column Newspaper?*"
   ]
  },
  {
   "cell_type": "code",
   "execution_count": 29,
   "id": "9e697b96",
   "metadata": {},
   "outputs": [
    {
     "data": {
      "text/html": [
       "<div>\n",
       "<style scoped>\n",
       "    .dataframe tbody tr th:only-of-type {\n",
       "        vertical-align: middle;\n",
       "    }\n",
       "\n",
       "    .dataframe tbody tr th {\n",
       "        vertical-align: top;\n",
       "    }\n",
       "\n",
       "    .dataframe thead th {\n",
       "        text-align: right;\n",
       "    }\n",
       "</style>\n",
       "<table border=\"1\" class=\"dataframe\">\n",
       "  <thead>\n",
       "    <tr style=\"text-align: right;\">\n",
       "      <th></th>\n",
       "      <th>TV</th>\n",
       "      <th>Newspaper</th>\n",
       "    </tr>\n",
       "  </thead>\n",
       "  <tbody>\n",
       "    <tr>\n",
       "      <th>0</th>\n",
       "      <td>230.1</td>\n",
       "      <td>69.2</td>\n",
       "    </tr>\n",
       "    <tr>\n",
       "      <th>1</th>\n",
       "      <td>44.5</td>\n",
       "      <td>45.1</td>\n",
       "    </tr>\n",
       "    <tr>\n",
       "      <th>2</th>\n",
       "      <td>17.2</td>\n",
       "      <td>69.3</td>\n",
       "    </tr>\n",
       "    <tr>\n",
       "      <th>3</th>\n",
       "      <td>151.5</td>\n",
       "      <td>58.5</td>\n",
       "    </tr>\n",
       "    <tr>\n",
       "      <th>4</th>\n",
       "      <td>180.8</td>\n",
       "      <td>58.4</td>\n",
       "    </tr>\n",
       "    <tr>\n",
       "      <th>...</th>\n",
       "      <td>...</td>\n",
       "      <td>...</td>\n",
       "    </tr>\n",
       "    <tr>\n",
       "      <th>195</th>\n",
       "      <td>38.2</td>\n",
       "      <td>13.8</td>\n",
       "    </tr>\n",
       "    <tr>\n",
       "      <th>196</th>\n",
       "      <td>94.2</td>\n",
       "      <td>8.1</td>\n",
       "    </tr>\n",
       "    <tr>\n",
       "      <th>197</th>\n",
       "      <td>177.0</td>\n",
       "      <td>6.4</td>\n",
       "    </tr>\n",
       "    <tr>\n",
       "      <th>198</th>\n",
       "      <td>283.6</td>\n",
       "      <td>66.2</td>\n",
       "    </tr>\n",
       "    <tr>\n",
       "      <th>199</th>\n",
       "      <td>232.1</td>\n",
       "      <td>8.7</td>\n",
       "    </tr>\n",
       "  </tbody>\n",
       "</table>\n",
       "<p>200 rows × 2 columns</p>\n",
       "</div>"
      ],
      "text/plain": [
       "        TV  Newspaper\n",
       "0    230.1       69.2\n",
       "1     44.5       45.1\n",
       "2     17.2       69.3\n",
       "3    151.5       58.5\n",
       "4    180.8       58.4\n",
       "..     ...        ...\n",
       "195   38.2       13.8\n",
       "196   94.2        8.1\n",
       "197  177.0        6.4\n",
       "198  283.6       66.2\n",
       "199  232.1        8.7\n",
       "\n",
       "[200 rows x 2 columns]"
      ]
     },
     "execution_count": 29,
     "metadata": {},
     "output_type": "execute_result"
    }
   ],
   "source": [
    "df[['TV', 'Newspaper']]"
   ]
  },
  {
   "cell_type": "markdown",
   "id": "10e8f57c",
   "metadata": {},
   "source": [
    "#### loc and iloc\n",
    "\n",
    "- loc gets rows and/or columns with particular labels.\n",
    "\n",
    "- iloc gets rows and/or columns at integer locations.\n",
    "\n",
    "To test them, let's create a new dataframe with random data:"
   ]
  },
  {
   "cell_type": "code",
   "execution_count": 30,
   "id": "5e54806c",
   "metadata": {},
   "outputs": [
    {
     "data": {
      "text/html": [
       "<div>\n",
       "<style scoped>\n",
       "    .dataframe tbody tr th:only-of-type {\n",
       "        vertical-align: middle;\n",
       "    }\n",
       "\n",
       "    .dataframe tbody tr th {\n",
       "        vertical-align: top;\n",
       "    }\n",
       "\n",
       "    .dataframe thead th {\n",
       "        text-align: right;\n",
       "    }\n",
       "</style>\n",
       "<table border=\"1\" class=\"dataframe\">\n",
       "  <thead>\n",
       "    <tr style=\"text-align: right;\">\n",
       "      <th></th>\n",
       "      <th>A</th>\n",
       "      <th>B</th>\n",
       "      <th>C</th>\n",
       "      <th>D</th>\n",
       "    </tr>\n",
       "  </thead>\n",
       "  <tbody>\n",
       "    <tr>\n",
       "      <th>2024-02-01</th>\n",
       "      <td>1.388559</td>\n",
       "      <td>-1.081090</td>\n",
       "      <td>1.059009</td>\n",
       "      <td>-1.844721</td>\n",
       "    </tr>\n",
       "    <tr>\n",
       "      <th>2024-02-02</th>\n",
       "      <td>0.094614</td>\n",
       "      <td>-0.107355</td>\n",
       "      <td>-0.481956</td>\n",
       "      <td>-1.415501</td>\n",
       "    </tr>\n",
       "    <tr>\n",
       "      <th>2024-02-03</th>\n",
       "      <td>-0.768443</td>\n",
       "      <td>0.651123</td>\n",
       "      <td>-0.676830</td>\n",
       "      <td>-1.313750</td>\n",
       "    </tr>\n",
       "    <tr>\n",
       "      <th>2024-02-04</th>\n",
       "      <td>0.731718</td>\n",
       "      <td>1.839382</td>\n",
       "      <td>0.338888</td>\n",
       "      <td>-0.195298</td>\n",
       "    </tr>\n",
       "    <tr>\n",
       "      <th>2024-02-05</th>\n",
       "      <td>0.088568</td>\n",
       "      <td>0.493426</td>\n",
       "      <td>2.487158</td>\n",
       "      <td>-0.257452</td>\n",
       "    </tr>\n",
       "    <tr>\n",
       "      <th>2024-02-06</th>\n",
       "      <td>-0.338782</td>\n",
       "      <td>0.712679</td>\n",
       "      <td>-1.269850</td>\n",
       "      <td>-1.748766</td>\n",
       "    </tr>\n",
       "    <tr>\n",
       "      <th>2024-02-07</th>\n",
       "      <td>0.284759</td>\n",
       "      <td>0.895761</td>\n",
       "      <td>0.185038</td>\n",
       "      <td>1.601746</td>\n",
       "    </tr>\n",
       "    <tr>\n",
       "      <th>2024-02-08</th>\n",
       "      <td>0.293341</td>\n",
       "      <td>0.055059</td>\n",
       "      <td>1.149262</td>\n",
       "      <td>-0.368709</td>\n",
       "    </tr>\n",
       "  </tbody>\n",
       "</table>\n",
       "</div>"
      ],
      "text/plain": [
       "                   A         B         C         D\n",
       "2024-02-01  1.388559 -1.081090  1.059009 -1.844721\n",
       "2024-02-02  0.094614 -0.107355 -0.481956 -1.415501\n",
       "2024-02-03 -0.768443  0.651123 -0.676830 -1.313750\n",
       "2024-02-04  0.731718  1.839382  0.338888 -0.195298\n",
       "2024-02-05  0.088568  0.493426  2.487158 -0.257452\n",
       "2024-02-06 -0.338782  0.712679 -1.269850 -1.748766\n",
       "2024-02-07  0.284759  0.895761  0.185038  1.601746\n",
       "2024-02-08  0.293341  0.055059  1.149262 -0.368709"
      ]
     },
     "execution_count": 30,
     "metadata": {},
     "output_type": "execute_result"
    }
   ],
   "source": [
    "dates = pd.date_range('2/1/2024', periods=8)\n",
    "\n",
    "#8-by-4 array of samples from the normal distribution\n",
    "df = pd.DataFrame(np.random.randn(8, 4),  \n",
    "                  index=dates, \n",
    "                  columns=['A', 'B', 'C', 'D'])\n",
    "df"
   ]
  },
  {
   "cell_type": "markdown",
   "id": "7ede6f00",
   "metadata": {},
   "source": [
    "*Show the value of B on 4 Feb 2024*\n",
    "*Hint: df.loc[row, column]*"
   ]
  },
  {
   "cell_type": "code",
   "execution_count": 31,
   "id": "dc585ae7",
   "metadata": {},
   "outputs": [
    {
     "data": {
      "text/plain": [
       "1.8393823689340623"
      ]
     },
     "execution_count": 31,
     "metadata": {},
     "output_type": "execute_result"
    }
   ],
   "source": [
    "df.loc['2024-02-04', 'B']"
   ]
  },
  {
   "cell_type": "markdown",
   "id": "999add64",
   "metadata": {},
   "source": [
    "*Show all values on 4 Feb 2024*"
   ]
  },
  {
   "cell_type": "code",
   "execution_count": 32,
   "id": "d204dc8e",
   "metadata": {},
   "outputs": [
    {
     "data": {
      "text/plain": [
       "A    0.731718\n",
       "B    1.839382\n",
       "C    0.338888\n",
       "D   -0.195298\n",
       "Name: 2024-02-04 00:00:00, dtype: float64"
      ]
     },
     "execution_count": 32,
     "metadata": {},
     "output_type": "execute_result"
    }
   ],
   "source": [
    "df.loc['2024-02-04']"
   ]
  },
  {
   "cell_type": "markdown",
   "id": "c959b4e6",
   "metadata": {},
   "source": [
    "*Show all values of B by using df.loc[]*"
   ]
  },
  {
   "cell_type": "code",
   "execution_count": 33,
   "id": "871e0b31",
   "metadata": {},
   "outputs": [
    {
     "data": {
      "text/plain": [
       "2024-02-01   -1.081090\n",
       "2024-02-02   -0.107355\n",
       "2024-02-03    0.651123\n",
       "2024-02-04    1.839382\n",
       "2024-02-05    0.493426\n",
       "2024-02-06    0.712679\n",
       "2024-02-07    0.895761\n",
       "2024-02-08    0.055059\n",
       "Freq: D, Name: B, dtype: float64"
      ]
     },
     "execution_count": 33,
     "metadata": {},
     "output_type": "execute_result"
    }
   ],
   "source": [
    "df.loc[:, 'B']"
   ]
  },
  {
   "cell_type": "markdown",
   "id": "2efb6264",
   "metadata": {},
   "source": [
    "*Show the values of B and C, before (including) 4 Feb 2024*"
   ]
  },
  {
   "cell_type": "code",
   "execution_count": 34,
   "id": "0f16699c",
   "metadata": {},
   "outputs": [
    {
     "data": {
      "text/html": [
       "<div>\n",
       "<style scoped>\n",
       "    .dataframe tbody tr th:only-of-type {\n",
       "        vertical-align: middle;\n",
       "    }\n",
       "\n",
       "    .dataframe tbody tr th {\n",
       "        vertical-align: top;\n",
       "    }\n",
       "\n",
       "    .dataframe thead th {\n",
       "        text-align: right;\n",
       "    }\n",
       "</style>\n",
       "<table border=\"1\" class=\"dataframe\">\n",
       "  <thead>\n",
       "    <tr style=\"text-align: right;\">\n",
       "      <th></th>\n",
       "      <th>B</th>\n",
       "      <th>C</th>\n",
       "    </tr>\n",
       "  </thead>\n",
       "  <tbody>\n",
       "    <tr>\n",
       "      <th>2024-02-01</th>\n",
       "      <td>-1.081090</td>\n",
       "      <td>1.059009</td>\n",
       "    </tr>\n",
       "    <tr>\n",
       "      <th>2024-02-02</th>\n",
       "      <td>-0.107355</td>\n",
       "      <td>-0.481956</td>\n",
       "    </tr>\n",
       "    <tr>\n",
       "      <th>2024-02-03</th>\n",
       "      <td>0.651123</td>\n",
       "      <td>-0.676830</td>\n",
       "    </tr>\n",
       "    <tr>\n",
       "      <th>2024-02-04</th>\n",
       "      <td>1.839382</td>\n",
       "      <td>0.338888</td>\n",
       "    </tr>\n",
       "  </tbody>\n",
       "</table>\n",
       "</div>"
      ],
      "text/plain": [
       "                   B         C\n",
       "2024-02-01 -1.081090  1.059009\n",
       "2024-02-02 -0.107355 -0.481956\n",
       "2024-02-03  0.651123 -0.676830\n",
       "2024-02-04  1.839382  0.338888"
      ]
     },
     "execution_count": 34,
     "metadata": {},
     "output_type": "execute_result"
    }
   ],
   "source": [
    "df.loc[:'2024-02-04', 'B':'C']"
   ]
  },
  {
   "cell_type": "markdown",
   "id": "1409d777",
   "metadata": {},
   "source": [
    "*Show the second row by using df.iloc[row, column]*"
   ]
  },
  {
   "cell_type": "code",
   "execution_count": 35,
   "id": "8bb73aa5",
   "metadata": {},
   "outputs": [
    {
     "name": "stdout",
     "output_type": "stream",
     "text": [
      "Second record/Row 2: \n",
      "A    0.094614\n",
      "B   -0.107355\n",
      "C   -0.481956\n",
      "D   -1.415501\n",
      "Name: 2024-02-02 00:00:00, dtype: float64 \n"
     ]
    }
   ],
   "source": [
    "print(f\"Second record/Row 2: \\n{df.iloc[1]}\", \"\\n\")"
   ]
  },
  {
   "cell_type": "markdown",
   "id": "b0d10d96",
   "metadata": {},
   "source": [
    "*Show the value in the second row and the second column*"
   ]
  },
  {
   "cell_type": "code",
   "execution_count": 36,
   "id": "a462dd37",
   "metadata": {},
   "outputs": [
    {
     "data": {
      "text/plain": [
       "-0.10735514136439861"
      ]
     },
     "execution_count": 36,
     "metadata": {},
     "output_type": "execute_result"
    }
   ],
   "source": [
    "df.iloc[1, 1]"
   ]
  },
  {
   "cell_type": "markdown",
   "id": "6d9430ff",
   "metadata": {},
   "source": [
    "*Show the first two columns of the 4th and the 5th row*"
   ]
  },
  {
   "cell_type": "code",
   "execution_count": 37,
   "id": "8e031db3",
   "metadata": {},
   "outputs": [
    {
     "data": {
      "text/html": [
       "<div>\n",
       "<style scoped>\n",
       "    .dataframe tbody tr th:only-of-type {\n",
       "        vertical-align: middle;\n",
       "    }\n",
       "\n",
       "    .dataframe tbody tr th {\n",
       "        vertical-align: top;\n",
       "    }\n",
       "\n",
       "    .dataframe thead th {\n",
       "        text-align: right;\n",
       "    }\n",
       "</style>\n",
       "<table border=\"1\" class=\"dataframe\">\n",
       "  <thead>\n",
       "    <tr style=\"text-align: right;\">\n",
       "      <th></th>\n",
       "      <th>A</th>\n",
       "      <th>B</th>\n",
       "    </tr>\n",
       "  </thead>\n",
       "  <tbody>\n",
       "    <tr>\n",
       "      <th>2024-02-04</th>\n",
       "      <td>0.731718</td>\n",
       "      <td>1.839382</td>\n",
       "    </tr>\n",
       "    <tr>\n",
       "      <th>2024-02-05</th>\n",
       "      <td>0.088568</td>\n",
       "      <td>0.493426</td>\n",
       "    </tr>\n",
       "  </tbody>\n",
       "</table>\n",
       "</div>"
      ],
      "text/plain": [
       "                   A         B\n",
       "2024-02-04  0.731718  1.839382\n",
       "2024-02-05  0.088568  0.493426"
      ]
     },
     "execution_count": 37,
     "metadata": {},
     "output_type": "execute_result"
    }
   ],
   "source": [
    "df.iloc[3:5, 0:2]"
   ]
  },
  {
   "cell_type": "markdown",
   "id": "db92dd7a",
   "metadata": {},
   "source": [
    "*Show all the rows which has positive B values*"
   ]
  },
  {
   "cell_type": "code",
   "execution_count": 38,
   "id": "82db353e",
   "metadata": {},
   "outputs": [
    {
     "data": {
      "text/html": [
       "<div>\n",
       "<style scoped>\n",
       "    .dataframe tbody tr th:only-of-type {\n",
       "        vertical-align: middle;\n",
       "    }\n",
       "\n",
       "    .dataframe tbody tr th {\n",
       "        vertical-align: top;\n",
       "    }\n",
       "\n",
       "    .dataframe thead th {\n",
       "        text-align: right;\n",
       "    }\n",
       "</style>\n",
       "<table border=\"1\" class=\"dataframe\">\n",
       "  <thead>\n",
       "    <tr style=\"text-align: right;\">\n",
       "      <th></th>\n",
       "      <th>A</th>\n",
       "      <th>B</th>\n",
       "      <th>C</th>\n",
       "      <th>D</th>\n",
       "    </tr>\n",
       "  </thead>\n",
       "  <tbody>\n",
       "    <tr>\n",
       "      <th>2024-02-03</th>\n",
       "      <td>-0.768443</td>\n",
       "      <td>0.651123</td>\n",
       "      <td>-0.676830</td>\n",
       "      <td>-1.313750</td>\n",
       "    </tr>\n",
       "    <tr>\n",
       "      <th>2024-02-04</th>\n",
       "      <td>0.731718</td>\n",
       "      <td>1.839382</td>\n",
       "      <td>0.338888</td>\n",
       "      <td>-0.195298</td>\n",
       "    </tr>\n",
       "    <tr>\n",
       "      <th>2024-02-05</th>\n",
       "      <td>0.088568</td>\n",
       "      <td>0.493426</td>\n",
       "      <td>2.487158</td>\n",
       "      <td>-0.257452</td>\n",
       "    </tr>\n",
       "    <tr>\n",
       "      <th>2024-02-06</th>\n",
       "      <td>-0.338782</td>\n",
       "      <td>0.712679</td>\n",
       "      <td>-1.269850</td>\n",
       "      <td>-1.748766</td>\n",
       "    </tr>\n",
       "    <tr>\n",
       "      <th>2024-02-07</th>\n",
       "      <td>0.284759</td>\n",
       "      <td>0.895761</td>\n",
       "      <td>0.185038</td>\n",
       "      <td>1.601746</td>\n",
       "    </tr>\n",
       "    <tr>\n",
       "      <th>2024-02-08</th>\n",
       "      <td>0.293341</td>\n",
       "      <td>0.055059</td>\n",
       "      <td>1.149262</td>\n",
       "      <td>-0.368709</td>\n",
       "    </tr>\n",
       "  </tbody>\n",
       "</table>\n",
       "</div>"
      ],
      "text/plain": [
       "                   A         B         C         D\n",
       "2024-02-03 -0.768443  0.651123 -0.676830 -1.313750\n",
       "2024-02-04  0.731718  1.839382  0.338888 -0.195298\n",
       "2024-02-05  0.088568  0.493426  2.487158 -0.257452\n",
       "2024-02-06 -0.338782  0.712679 -1.269850 -1.748766\n",
       "2024-02-07  0.284759  0.895761  0.185038  1.601746\n",
       "2024-02-08  0.293341  0.055059  1.149262 -0.368709"
      ]
     },
     "execution_count": 38,
     "metadata": {},
     "output_type": "execute_result"
    }
   ],
   "source": [
    "df[df[\"B\"] > 0]"
   ]
  },
  {
   "cell_type": "markdown",
   "id": "8898edc5",
   "metadata": {},
   "source": [
    "*Show all the rows which has positive B values and positive A values*"
   ]
  },
  {
   "cell_type": "code",
   "execution_count": 39,
   "id": "bd85d5b0",
   "metadata": {},
   "outputs": [
    {
     "data": {
      "text/html": [
       "<div>\n",
       "<style scoped>\n",
       "    .dataframe tbody tr th:only-of-type {\n",
       "        vertical-align: middle;\n",
       "    }\n",
       "\n",
       "    .dataframe tbody tr th {\n",
       "        vertical-align: top;\n",
       "    }\n",
       "\n",
       "    .dataframe thead th {\n",
       "        text-align: right;\n",
       "    }\n",
       "</style>\n",
       "<table border=\"1\" class=\"dataframe\">\n",
       "  <thead>\n",
       "    <tr style=\"text-align: right;\">\n",
       "      <th></th>\n",
       "      <th>A</th>\n",
       "      <th>B</th>\n",
       "      <th>C</th>\n",
       "      <th>D</th>\n",
       "    </tr>\n",
       "  </thead>\n",
       "  <tbody>\n",
       "    <tr>\n",
       "      <th>2024-02-04</th>\n",
       "      <td>0.731718</td>\n",
       "      <td>1.839382</td>\n",
       "      <td>0.338888</td>\n",
       "      <td>-0.195298</td>\n",
       "    </tr>\n",
       "    <tr>\n",
       "      <th>2024-02-05</th>\n",
       "      <td>0.088568</td>\n",
       "      <td>0.493426</td>\n",
       "      <td>2.487158</td>\n",
       "      <td>-0.257452</td>\n",
       "    </tr>\n",
       "    <tr>\n",
       "      <th>2024-02-07</th>\n",
       "      <td>0.284759</td>\n",
       "      <td>0.895761</td>\n",
       "      <td>0.185038</td>\n",
       "      <td>1.601746</td>\n",
       "    </tr>\n",
       "    <tr>\n",
       "      <th>2024-02-08</th>\n",
       "      <td>0.293341</td>\n",
       "      <td>0.055059</td>\n",
       "      <td>1.149262</td>\n",
       "      <td>-0.368709</td>\n",
       "    </tr>\n",
       "  </tbody>\n",
       "</table>\n",
       "</div>"
      ],
      "text/plain": [
       "                   A         B         C         D\n",
       "2024-02-04  0.731718  1.839382  0.338888 -0.195298\n",
       "2024-02-05  0.088568  0.493426  2.487158 -0.257452\n",
       "2024-02-07  0.284759  0.895761  0.185038  1.601746\n",
       "2024-02-08  0.293341  0.055059  1.149262 -0.368709"
      ]
     },
     "execution_count": 39,
     "metadata": {},
     "output_type": "execute_result"
    }
   ],
   "source": [
    "df[(df[\"B\"] > 0) & (df[\"A\"]>0)]"
   ]
  },
  {
   "cell_type": "markdown",
   "id": "006c67b4",
   "metadata": {},
   "source": [
    "*Show all the data later than 2024-02-02*\n",
    "\n",
    "*Reminder: dates is index*"
   ]
  },
  {
   "cell_type": "code",
   "execution_count": 40,
   "id": "24cdddf0",
   "metadata": {},
   "outputs": [
    {
     "data": {
      "text/html": [
       "<div>\n",
       "<style scoped>\n",
       "    .dataframe tbody tr th:only-of-type {\n",
       "        vertical-align: middle;\n",
       "    }\n",
       "\n",
       "    .dataframe tbody tr th {\n",
       "        vertical-align: top;\n",
       "    }\n",
       "\n",
       "    .dataframe thead th {\n",
       "        text-align: right;\n",
       "    }\n",
       "</style>\n",
       "<table border=\"1\" class=\"dataframe\">\n",
       "  <thead>\n",
       "    <tr style=\"text-align: right;\">\n",
       "      <th></th>\n",
       "      <th>A</th>\n",
       "      <th>B</th>\n",
       "      <th>C</th>\n",
       "      <th>D</th>\n",
       "    </tr>\n",
       "  </thead>\n",
       "  <tbody>\n",
       "    <tr>\n",
       "      <th>2024-02-03</th>\n",
       "      <td>-0.768443</td>\n",
       "      <td>0.651123</td>\n",
       "      <td>-0.676830</td>\n",
       "      <td>-1.313750</td>\n",
       "    </tr>\n",
       "    <tr>\n",
       "      <th>2024-02-04</th>\n",
       "      <td>0.731718</td>\n",
       "      <td>1.839382</td>\n",
       "      <td>0.338888</td>\n",
       "      <td>-0.195298</td>\n",
       "    </tr>\n",
       "    <tr>\n",
       "      <th>2024-02-05</th>\n",
       "      <td>0.088568</td>\n",
       "      <td>0.493426</td>\n",
       "      <td>2.487158</td>\n",
       "      <td>-0.257452</td>\n",
       "    </tr>\n",
       "    <tr>\n",
       "      <th>2024-02-06</th>\n",
       "      <td>-0.338782</td>\n",
       "      <td>0.712679</td>\n",
       "      <td>-1.269850</td>\n",
       "      <td>-1.748766</td>\n",
       "    </tr>\n",
       "    <tr>\n",
       "      <th>2024-02-07</th>\n",
       "      <td>0.284759</td>\n",
       "      <td>0.895761</td>\n",
       "      <td>0.185038</td>\n",
       "      <td>1.601746</td>\n",
       "    </tr>\n",
       "    <tr>\n",
       "      <th>2024-02-08</th>\n",
       "      <td>0.293341</td>\n",
       "      <td>0.055059</td>\n",
       "      <td>1.149262</td>\n",
       "      <td>-0.368709</td>\n",
       "    </tr>\n",
       "  </tbody>\n",
       "</table>\n",
       "</div>"
      ],
      "text/plain": [
       "                   A         B         C         D\n",
       "2024-02-03 -0.768443  0.651123 -0.676830 -1.313750\n",
       "2024-02-04  0.731718  1.839382  0.338888 -0.195298\n",
       "2024-02-05  0.088568  0.493426  2.487158 -0.257452\n",
       "2024-02-06 -0.338782  0.712679 -1.269850 -1.748766\n",
       "2024-02-07  0.284759  0.895761  0.185038  1.601746\n",
       "2024-02-08  0.293341  0.055059  1.149262 -0.368709"
      ]
     },
     "execution_count": 40,
     "metadata": {},
     "output_type": "execute_result"
    }
   ],
   "source": [
    "df[dates > '2024-02-02']"
   ]
  },
  {
   "cell_type": "markdown",
   "id": "9d64e590",
   "metadata": {},
   "source": [
    "Now let's manipulte a dataframe.\n",
    "\n",
    "*After the following operations, what is the shape of d4? (How many rows? How many collumns?)*"
   ]
  },
  {
   "cell_type": "code",
   "execution_count": 41,
   "id": "df4afb2d",
   "metadata": {},
   "outputs": [],
   "source": [
    "df2 = pd.DataFrame(np.array([[1, 2, 3], [4, 5, 6], [7, 8, 9]]),\n",
    "                   columns=['a', 'b', 'c'])\n",
    "\n",
    "df4 = df2.copy()\n",
    "\n",
    "df4.loc[len(df4.index)] = ['A', 89, 93] \n",
    "\n",
    "df4['type'] = [\"cat\", \"dog\", \"cat\", \"bird\"]\n"
   ]
  },
  {
   "cell_type": "code",
   "execution_count": 42,
   "id": "f88b06d3",
   "metadata": {},
   "outputs": [
    {
     "data": {
      "text/html": [
       "<div>\n",
       "<style scoped>\n",
       "    .dataframe tbody tr th:only-of-type {\n",
       "        vertical-align: middle;\n",
       "    }\n",
       "\n",
       "    .dataframe tbody tr th {\n",
       "        vertical-align: top;\n",
       "    }\n",
       "\n",
       "    .dataframe thead th {\n",
       "        text-align: right;\n",
       "    }\n",
       "</style>\n",
       "<table border=\"1\" class=\"dataframe\">\n",
       "  <thead>\n",
       "    <tr style=\"text-align: right;\">\n",
       "      <th></th>\n",
       "      <th>a</th>\n",
       "      <th>b</th>\n",
       "      <th>c</th>\n",
       "    </tr>\n",
       "  </thead>\n",
       "  <tbody>\n",
       "    <tr>\n",
       "      <th>0</th>\n",
       "      <td>1</td>\n",
       "      <td>2</td>\n",
       "      <td>3</td>\n",
       "    </tr>\n",
       "    <tr>\n",
       "      <th>1</th>\n",
       "      <td>4</td>\n",
       "      <td>5</td>\n",
       "      <td>6</td>\n",
       "    </tr>\n",
       "    <tr>\n",
       "      <th>2</th>\n",
       "      <td>7</td>\n",
       "      <td>8</td>\n",
       "      <td>9</td>\n",
       "    </tr>\n",
       "  </tbody>\n",
       "</table>\n",
       "</div>"
      ],
      "text/plain": [
       "   a  b  c\n",
       "0  1  2  3\n",
       "1  4  5  6\n",
       "2  7  8  9"
      ]
     },
     "metadata": {},
     "output_type": "display_data"
    },
    {
     "data": {
      "text/html": [
       "<div>\n",
       "<style scoped>\n",
       "    .dataframe tbody tr th:only-of-type {\n",
       "        vertical-align: middle;\n",
       "    }\n",
       "\n",
       "    .dataframe tbody tr th {\n",
       "        vertical-align: top;\n",
       "    }\n",
       "\n",
       "    .dataframe thead th {\n",
       "        text-align: right;\n",
       "    }\n",
       "</style>\n",
       "<table border=\"1\" class=\"dataframe\">\n",
       "  <thead>\n",
       "    <tr style=\"text-align: right;\">\n",
       "      <th></th>\n",
       "      <th>a</th>\n",
       "      <th>b</th>\n",
       "      <th>c</th>\n",
       "      <th>type</th>\n",
       "    </tr>\n",
       "  </thead>\n",
       "  <tbody>\n",
       "    <tr>\n",
       "      <th>0</th>\n",
       "      <td>1</td>\n",
       "      <td>2</td>\n",
       "      <td>3</td>\n",
       "      <td>cat</td>\n",
       "    </tr>\n",
       "    <tr>\n",
       "      <th>1</th>\n",
       "      <td>4</td>\n",
       "      <td>5</td>\n",
       "      <td>6</td>\n",
       "      <td>dog</td>\n",
       "    </tr>\n",
       "    <tr>\n",
       "      <th>2</th>\n",
       "      <td>7</td>\n",
       "      <td>8</td>\n",
       "      <td>9</td>\n",
       "      <td>cat</td>\n",
       "    </tr>\n",
       "    <tr>\n",
       "      <th>3</th>\n",
       "      <td>A</td>\n",
       "      <td>89</td>\n",
       "      <td>93</td>\n",
       "      <td>bird</td>\n",
       "    </tr>\n",
       "  </tbody>\n",
       "</table>\n",
       "</div>"
      ],
      "text/plain": [
       "   a   b   c  type\n",
       "0  1   2   3   cat\n",
       "1  4   5   6   dog\n",
       "2  7   8   9   cat\n",
       "3  A  89  93  bird"
      ]
     },
     "metadata": {},
     "output_type": "display_data"
    }
   ],
   "source": [
    "display(df2)\n",
    "\n",
    "display(df4)\n"
   ]
  },
  {
   "cell_type": "markdown",
   "id": "79d84120",
   "metadata": {},
   "source": [
    "*Return all the data points of cats and dogs*"
   ]
  },
  {
   "cell_type": "code",
   "execution_count": 43,
   "id": "f8ca138c",
   "metadata": {},
   "outputs": [
    {
     "data": {
      "text/html": [
       "<div>\n",
       "<style scoped>\n",
       "    .dataframe tbody tr th:only-of-type {\n",
       "        vertical-align: middle;\n",
       "    }\n",
       "\n",
       "    .dataframe tbody tr th {\n",
       "        vertical-align: top;\n",
       "    }\n",
       "\n",
       "    .dataframe thead th {\n",
       "        text-align: right;\n",
       "    }\n",
       "</style>\n",
       "<table border=\"1\" class=\"dataframe\">\n",
       "  <thead>\n",
       "    <tr style=\"text-align: right;\">\n",
       "      <th></th>\n",
       "      <th>a</th>\n",
       "      <th>b</th>\n",
       "      <th>c</th>\n",
       "      <th>type</th>\n",
       "    </tr>\n",
       "  </thead>\n",
       "  <tbody>\n",
       "    <tr>\n",
       "      <th>0</th>\n",
       "      <td>1</td>\n",
       "      <td>2</td>\n",
       "      <td>3</td>\n",
       "      <td>cat</td>\n",
       "    </tr>\n",
       "    <tr>\n",
       "      <th>1</th>\n",
       "      <td>4</td>\n",
       "      <td>5</td>\n",
       "      <td>6</td>\n",
       "      <td>dog</td>\n",
       "    </tr>\n",
       "    <tr>\n",
       "      <th>2</th>\n",
       "      <td>7</td>\n",
       "      <td>8</td>\n",
       "      <td>9</td>\n",
       "      <td>cat</td>\n",
       "    </tr>\n",
       "  </tbody>\n",
       "</table>\n",
       "</div>"
      ],
      "text/plain": [
       "   a  b  c type\n",
       "0  1  2  3  cat\n",
       "1  4  5  6  dog\n",
       "2  7  8  9  cat"
      ]
     },
     "execution_count": 43,
     "metadata": {},
     "output_type": "execute_result"
    }
   ],
   "source": [
    "df4[df4[\"type\"].isin([\"cat\", \"dog\"])]"
   ]
  },
  {
   "cell_type": "markdown",
   "id": "a6db6f04",
   "metadata": {},
   "source": [
    "*Sort all the rows based on the values in Column type*"
   ]
  },
  {
   "cell_type": "code",
   "execution_count": 44,
   "id": "33a23db8",
   "metadata": {},
   "outputs": [
    {
     "data": {
      "text/html": [
       "<div>\n",
       "<style scoped>\n",
       "    .dataframe tbody tr th:only-of-type {\n",
       "        vertical-align: middle;\n",
       "    }\n",
       "\n",
       "    .dataframe tbody tr th {\n",
       "        vertical-align: top;\n",
       "    }\n",
       "\n",
       "    .dataframe thead th {\n",
       "        text-align: right;\n",
       "    }\n",
       "</style>\n",
       "<table border=\"1\" class=\"dataframe\">\n",
       "  <thead>\n",
       "    <tr style=\"text-align: right;\">\n",
       "      <th></th>\n",
       "      <th>a</th>\n",
       "      <th>b</th>\n",
       "      <th>c</th>\n",
       "      <th>type</th>\n",
       "    </tr>\n",
       "  </thead>\n",
       "  <tbody>\n",
       "    <tr>\n",
       "      <th>3</th>\n",
       "      <td>A</td>\n",
       "      <td>89</td>\n",
       "      <td>93</td>\n",
       "      <td>bird</td>\n",
       "    </tr>\n",
       "    <tr>\n",
       "      <th>0</th>\n",
       "      <td>1</td>\n",
       "      <td>2</td>\n",
       "      <td>3</td>\n",
       "      <td>cat</td>\n",
       "    </tr>\n",
       "    <tr>\n",
       "      <th>2</th>\n",
       "      <td>7</td>\n",
       "      <td>8</td>\n",
       "      <td>9</td>\n",
       "      <td>cat</td>\n",
       "    </tr>\n",
       "    <tr>\n",
       "      <th>1</th>\n",
       "      <td>4</td>\n",
       "      <td>5</td>\n",
       "      <td>6</td>\n",
       "      <td>dog</td>\n",
       "    </tr>\n",
       "  </tbody>\n",
       "</table>\n",
       "</div>"
      ],
      "text/plain": [
       "   a   b   c  type\n",
       "3  A  89  93  bird\n",
       "0  1   2   3   cat\n",
       "2  7   8   9   cat\n",
       "1  4   5   6   dog"
      ]
     },
     "execution_count": 44,
     "metadata": {},
     "output_type": "execute_result"
    }
   ],
   "source": [
    "df4.sort_values(by=['type'])"
   ]
  }
 ],
 "metadata": {
  "kernelspec": {
   "display_name": "Python 3 (ipykernel)",
   "language": "python",
   "name": "python3"
  },
  "language_info": {
   "codemirror_mode": {
    "name": "ipython",
    "version": 3
   },
   "file_extension": ".py",
   "mimetype": "text/x-python",
   "name": "python",
   "nbconvert_exporter": "python",
   "pygments_lexer": "ipython3",
   "version": "3.11.7"
  }
 },
 "nbformat": 4,
 "nbformat_minor": 5
}
