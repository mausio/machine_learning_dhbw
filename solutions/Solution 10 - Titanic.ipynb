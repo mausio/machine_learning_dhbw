{
 "cells": [
  {
   "cell_type": "code",
   "execution_count": 7,
   "id": "fb66ffb8-c6c4-43f3-b381-28c6a0d83caa",
   "metadata": {
    "ExecuteTime": {
     "end_time": "2024-11-26T12:16:53.704125Z",
     "start_time": "2024-11-26T12:16:53.701363Z"
    }
   },
   "outputs": [],
   "source": [
    "import numpy as np\n",
    "import pandas as pd\n",
    "import matplotlib.pyplot as plt\n",
    "\n",
    "from IPython.display import display\n",
    "\n",
    "pd.options.display.max_columns = 50\n",
    "pd.options.display.max_rows = 200\n",
    "plt.rcParams['figure.figsize'] = [16, 9]"
   ]
  },
  {
   "cell_type": "markdown",
   "id": "4a530001-df16-4477-94c4-5c303c93de4f",
   "metadata": {
    "tags": []
   },
   "source": [
    "## Solution: Titanic\n",
    "You may be familiar with the Titanic data set from other events. Here, various features are used to predict whether a Titanic passenger survived the disaster. Reading in the data, rough pre-processing and splitting into training and test sets are already predefined here. "
   ]
  },
  {
   "cell_type": "code",
   "execution_count": 8,
   "id": "e683ba36-4a9d-4a94-b33a-8eccb0a44ba2",
   "metadata": {
    "ExecuteTime": {
     "end_time": "2024-11-26T12:16:53.716288Z",
     "start_time": "2024-11-26T12:16:53.705467Z"
    }
   },
   "outputs": [
    {
     "data": {
      "text/plain": "     Pclass   Age  SibSp  Parch     Fare  Sex_female  Sex_male  Embarked_C  \\\n328       3  31.0      1      1  20.5250        True     False       False   \n73        3  26.0      1      0  14.4542       False      True        True   \n253       3  30.0      1      0  16.1000       False      True       False   \n719       3  33.0      0      0   7.7750       False      True       False   \n666       2  25.0      0      0  13.0000       False      True       False   \n30        1  40.0      0      0  27.7208       False      True        True   \n287       3  22.0      0      0   7.8958       False      True       False   \n217       2  42.0      1      0  27.0000       False      True       False   \n797       3  31.0      0      0   8.6833        True     False       False   \n371       3  18.0      1      0   6.4958       False      True       False   \n\n     Embarked_Q  Embarked_S  \n328       False        True  \n73        False       False  \n253       False        True  \n719       False        True  \n666       False        True  \n30        False       False  \n287       False        True  \n217       False        True  \n797       False        True  \n371       False        True  ",
      "text/html": "<div>\n<style scoped>\n    .dataframe tbody tr th:only-of-type {\n        vertical-align: middle;\n    }\n\n    .dataframe tbody tr th {\n        vertical-align: top;\n    }\n\n    .dataframe thead th {\n        text-align: right;\n    }\n</style>\n<table border=\"1\" class=\"dataframe\">\n  <thead>\n    <tr style=\"text-align: right;\">\n      <th></th>\n      <th>Pclass</th>\n      <th>Age</th>\n      <th>SibSp</th>\n      <th>Parch</th>\n      <th>Fare</th>\n      <th>Sex_female</th>\n      <th>Sex_male</th>\n      <th>Embarked_C</th>\n      <th>Embarked_Q</th>\n      <th>Embarked_S</th>\n    </tr>\n  </thead>\n  <tbody>\n    <tr>\n      <th>328</th>\n      <td>3</td>\n      <td>31.0</td>\n      <td>1</td>\n      <td>1</td>\n      <td>20.5250</td>\n      <td>True</td>\n      <td>False</td>\n      <td>False</td>\n      <td>False</td>\n      <td>True</td>\n    </tr>\n    <tr>\n      <th>73</th>\n      <td>3</td>\n      <td>26.0</td>\n      <td>1</td>\n      <td>0</td>\n      <td>14.4542</td>\n      <td>False</td>\n      <td>True</td>\n      <td>True</td>\n      <td>False</td>\n      <td>False</td>\n    </tr>\n    <tr>\n      <th>253</th>\n      <td>3</td>\n      <td>30.0</td>\n      <td>1</td>\n      <td>0</td>\n      <td>16.1000</td>\n      <td>False</td>\n      <td>True</td>\n      <td>False</td>\n      <td>False</td>\n      <td>True</td>\n    </tr>\n    <tr>\n      <th>719</th>\n      <td>3</td>\n      <td>33.0</td>\n      <td>0</td>\n      <td>0</td>\n      <td>7.7750</td>\n      <td>False</td>\n      <td>True</td>\n      <td>False</td>\n      <td>False</td>\n      <td>True</td>\n    </tr>\n    <tr>\n      <th>666</th>\n      <td>2</td>\n      <td>25.0</td>\n      <td>0</td>\n      <td>0</td>\n      <td>13.0000</td>\n      <td>False</td>\n      <td>True</td>\n      <td>False</td>\n      <td>False</td>\n      <td>True</td>\n    </tr>\n    <tr>\n      <th>30</th>\n      <td>1</td>\n      <td>40.0</td>\n      <td>0</td>\n      <td>0</td>\n      <td>27.7208</td>\n      <td>False</td>\n      <td>True</td>\n      <td>True</td>\n      <td>False</td>\n      <td>False</td>\n    </tr>\n    <tr>\n      <th>287</th>\n      <td>3</td>\n      <td>22.0</td>\n      <td>0</td>\n      <td>0</td>\n      <td>7.8958</td>\n      <td>False</td>\n      <td>True</td>\n      <td>False</td>\n      <td>False</td>\n      <td>True</td>\n    </tr>\n    <tr>\n      <th>217</th>\n      <td>2</td>\n      <td>42.0</td>\n      <td>1</td>\n      <td>0</td>\n      <td>27.0000</td>\n      <td>False</td>\n      <td>True</td>\n      <td>False</td>\n      <td>False</td>\n      <td>True</td>\n    </tr>\n    <tr>\n      <th>797</th>\n      <td>3</td>\n      <td>31.0</td>\n      <td>0</td>\n      <td>0</td>\n      <td>8.6833</td>\n      <td>True</td>\n      <td>False</td>\n      <td>False</td>\n      <td>False</td>\n      <td>True</td>\n    </tr>\n    <tr>\n      <th>371</th>\n      <td>3</td>\n      <td>18.0</td>\n      <td>1</td>\n      <td>0</td>\n      <td>6.4958</td>\n      <td>False</td>\n      <td>True</td>\n      <td>False</td>\n      <td>False</td>\n      <td>True</td>\n    </tr>\n  </tbody>\n</table>\n</div>"
     },
     "execution_count": 8,
     "metadata": {},
     "output_type": "execute_result"
    }
   ],
   "source": [
    "from sklearn.model_selection import train_test_split\n",
    "\n",
    "df = pd.read_csv(\"../data/titanic.csv\")\n",
    "# We are removing some features to make the problem clearer\n",
    "df = df.drop([\"PassengerId\", \"Name\",\"Ticket\", \"Cabin\"], axis=1)\n",
    "# We remove those passengers for whom the age is not specified\n",
    "df = df[df[\"Age\"].isna() == False]\n",
    "\n",
    "# Label: survived yes/no\n",
    "y = df.pop(\"Survived\")\n",
    "# Features including one-hot encoding of the categorical\n",
    "X = pd.get_dummies(df)\n",
    "\n",
    "# Split in Trainings- und Testset\n",
    "X_train, X_test, y_train, y_test = train_test_split(X, y, test_size=0.2, random_state=42)\n",
    "\n",
    "X_train.head(10)"
   ]
  },
  {
   "cell_type": "markdown",
   "id": "ff537c45-3dd2-40e9-9b7f-e5a1161772da",
   "metadata": {},
   "source": [
    "## Task 1: Train a decision tree for the example. \n",
    "Take a look at the notebook ``Exercise 11 - Examples Decision Tree.ipynb``. Visualize your result with ``plot_tree()``.\n",
    "Experiment with the hyperparameters ``max_depth`` and ``min_samples_split``. What do these parameters mean? How does the performance (accuracy, precision, recall) change on the training and test data?"
   ]
  },
  {
   "cell_type": "code",
   "execution_count": 9,
   "id": "6906f879-f515-4fc5-a20f-9ec3c10da35a",
   "metadata": {
    "ExecuteTime": {
     "end_time": "2024-11-26T12:16:53.791605Z",
     "start_time": "2024-11-26T12:16:53.717254Z"
    }
   },
   "outputs": [
    {
     "name": "stdout",
     "output_type": "stream",
     "text": [
      "Accuracy Train       0.99124, Accuracy Test        0.72028\n",
      "Recall Train         0.97863, Recall Test          0.64286\n",
      "Precision Train      1.00000, Precision Test       0.64286\n"
     ]
    },
    {
     "data": {
      "text/plain": "18"
     },
     "execution_count": 9,
     "metadata": {},
     "output_type": "execute_result"
    }
   ],
   "source": [
    "from sklearn.tree import DecisionTreeClassifier, plot_tree\n",
    "from sklearn.metrics import accuracy_score, recall_score, precision_score\n",
    "\n",
    "m = DecisionTreeClassifier(max_depth=None, min_samples_split=2)\n",
    "m.fit(X_train, y_train)\n",
    "\n",
    "y_pred_train = m.predict(X_train)\n",
    "y_pred_test = m.predict(X_test)\n",
    "\n",
    "print(f\"{'Accuracy Train':17} {accuracy_score(y_train, y_pred_train):10.5f}, {'Accuracy Test':17} {accuracy_score(y_test, y_pred_test):10.5f}\")\n",
    "print(f\"{'Recall Train':17} {recall_score(y_train, y_pred_train):10.5f}, {'Recall Test':17} {recall_score(y_test, y_pred_test):10.5f}\")\n",
    "print(f\"{'Precision Train':17} {precision_score(y_train, y_pred_train):10.5f}, {'Precision Test':17} {precision_score(y_test, y_pred_test):10.5f}\")\n",
    "\n",
    "plt.rcParams['figure.figsize'] = [24, 16]\n",
    "#nodes = plot_tree(m, rounded=True, filled=True, fontsize=10, class_names=[\"Not Survived\", \"Survived\"], feature_names=X_train.columns)\n",
    "\n",
    "m.get_depth()"
   ]
  },
  {
   "cell_type": "markdown",
   "id": "b819ace5-eda3-43be-9f7f-8fa15bfb364b",
   "metadata": {
    "tags": []
   },
   "source": [
    "## Task 2: Hyperparameter optimization.\n",
    "a) Find the best value for the tree depth using hyperparameter tuning and 5-fold cross-validation.\n",
    "\n",
    "b) [optional] Find the best *combination* of tree depth and minimum number of examples required for a split using hyperparameter tuning and 5-fold cross-validation."
   ]
  },
  {
   "cell_type": "code",
   "execution_count": 13,
   "id": "33c78855-4988-4c1c-89cf-0b650f2f2a18",
   "metadata": {
    "ExecuteTime": {
     "end_time": "2024-11-26T12:16:56.932580Z",
     "start_time": "2024-11-26T12:16:56.472453Z"
    }
   },
   "outputs": [
    {
     "name": "stdout",
     "output_type": "stream",
     "text": [
      "Best max_depth=4, best min_samples_split=2. (mean score=0.7916399694889399)\n",
      "Accuracy Train       0.84939, Accuracy Test        0.75524\n",
      "Recall Train         0.80342, Recall Test          0.69643\n",
      "Precision Train      0.82456, Precision Test       0.68421\n"
     ]
    }
   ],
   "source": [
    "from sklearn.model_selection import KFold\n",
    "\n",
    "kf = KFold(n_splits=5, shuffle=True, random_state=10)\n",
    "mean_scores = []\n",
    "stddev_scores = []\n",
    "\n",
    "# Loop over all max_depths that we want to try out\n",
    "max_depths = range(19)\n",
    "min_samples = [2, 10, 20, 50, 100]\n",
    "best_combination = {\"max_depth\": None, \"min_samples\": 2}\n",
    "best_mean_score = 0\n",
    "for max_depth in max_depths:\n",
    "    for min_sample in min_samples:\n",
    "        scores = []\n",
    "        # Loop over 5 different training/test splits\n",
    "        for train_index, test_index in kf.split(X_train):\n",
    "            X_trainK, X_testK = X_train.values[train_index], X_train.values[test_index]\n",
    "            y_trainK, y_testK = y_train.values[train_index], y_train.values[test_index]\n",
    "            m = DecisionTreeClassifier(max_depth=max_depth+1, min_samples_split=min_sample)\n",
    "            m.fit(X_trainK, y_trainK)\n",
    "            scores.append(m.score(X_testK, y_testK))\n",
    "        mean_score = np.mean(np.array(scores))\n",
    "        if mean_score > best_mean_score:\n",
    "            best_combination[\"max_depth\"] = max_depth\n",
    "            best_combination[\"min_samples\"] = min_sample\n",
    "            best_mean_score = mean_score\n",
    "\n",
    "best_max_depth = best_combination[\"max_depth\"]\n",
    "best_min_samples = best_combination[\"min_samples\"]\n",
    "m = DecisionTreeClassifier(max_depth=best_max_depth, min_samples_split=best_min_samples)\n",
    "m.fit(X_train, y_train)\n",
    "print(f\"Best max_depth={best_max_depth}, best min_samples_split={best_min_samples}. (mean score={best_mean_score})\")\n",
    "\n",
    "y_pred_train = m.predict(X_train)\n",
    "y_pred_test = m.predict(X_test)\n",
    "\n",
    "print(f\"{'Accuracy Train':17} {accuracy_score(y_train, y_pred_train):10.5f}, {'Accuracy Test':17} {accuracy_score(y_test, y_pred_test):10.5f}\")\n",
    "print(f\"{'Recall Train':17} {recall_score(y_train, y_pred_train):10.5f}, {'Recall Test':17} {recall_score(y_test, y_pred_test):10.5f}\")\n",
    "print(f\"{'Precision Train':17} {precision_score(y_train, y_pred_train):10.5f}, {'Precision Test':17} {precision_score(y_test, y_pred_test):10.5f}\")"
   ]
  },
  {
   "cell_type": "markdown",
   "id": "137b618f-d283-4727-ab60-a9ddf564ea8e",
   "metadata": {
    "tags": []
   },
   "source": [
    "## Task 3: Repeat task 2 with a logistic regression.\n",
    "You can use the class ``LogisticRegressionCV`` instead of the class ``LogisticRegression``. This performs a cross-validation for the regularization parameter ``C``. Create a model with the parameter ``penalty=\"l2\"`` and select 10 values for ``C`` and a 5-fold cross-validation. What is the (mathematical) meaning of ``C``?"
   ]
  },
  {
   "cell_type": "code",
   "execution_count": 11,
   "id": "1749734c-448e-49ad-94e4-c814de5fcfa4",
   "metadata": {
    "ExecuteTime": {
     "end_time": "2024-11-26T12:16:54.473928Z",
     "start_time": "2024-11-26T12:16:54.287883Z"
    }
   },
   "outputs": [
    {
     "name": "stdout",
     "output_type": "stream",
     "text": [
      "Accuracy Train       0.80911, Accuracy Test        0.76224\n",
      "Recall Train         0.71368, Recall Test          0.62500\n",
      "Precision Train      0.79904, Precision Test       0.72917\n"
     ]
    }
   ],
   "source": [
    "from sklearn.linear_model import LogisticRegressionCV, LogisticRegression\n",
    "\n",
    "\n",
    "#m_lr = LogisticRegression(penalty=\"none\", max_iter=2000)\n",
    "m_lr = LogisticRegressionCV(penalty=\"l2\", Cs=10, cv=5, max_iter=2000)\n",
    "m_lr.fit(X_train, y_train)\n",
    "\n",
    "y_pred_train = m_lr.predict(X_train)\n",
    "y_pred_test = m_lr.predict(X_test)\n",
    "\n",
    "print(f\"{'Accuracy Train':17} {accuracy_score(y_train, y_pred_train):10.5f}, {'Accuracy Test':17} {accuracy_score(y_test, y_pred_test):10.5f}\")\n",
    "print(f\"{'Recall Train':17} {recall_score(y_train, y_pred_train):10.5f}, {'Recall Test':17} {recall_score(y_test, y_pred_test):10.5f}\")\n",
    "print(f\"{'Precision Train':17} {precision_score(y_train, y_pred_train):10.5f}, {'Precision Test':17} {precision_score(y_test, y_pred_test):10.5f}\")"
   ]
  },
  {
   "cell_type": "markdown",
   "id": "5691c9ff-539d-42f2-8a34-da970ed0781d",
   "metadata": {},
   "source": [
    "## Task 4: Compare both models in a ROC plot.\n",
    "What statements can you derive from the plot?\n",
    "\n",
    "Hint:\n",
    "https://scikit-learn.org/dev/modules/generated/sklearn.metrics.roc_curve.html\n",
    "\n",
    "https://matplotlib.org/stable/gallery/lines_bars_and_markers/step_demo.html#sphx-glr-gallery-lines-bars-and-markers-step-demo-py\n",
    "\n"
   ]
  },
  {
   "cell_type": "code",
   "execution_count": 12,
   "id": "c3693970-930f-4fd1-abb5-f8777c1d9d2e",
   "metadata": {
    "ExecuteTime": {
     "end_time": "2024-11-26T12:16:54.641527Z",
     "start_time": "2024-11-26T12:16:54.474696Z"
    }
   },
   "outputs": [
    {
     "data": {
      "text/plain": "<matplotlib.legend.Legend at 0x1673add90>"
     },
     "execution_count": 12,
     "metadata": {},
     "output_type": "execute_result"
    },
    {
     "data": {
      "text/plain": "<Figure size 2400x1600 with 1 Axes>",
      "image/png": "[encoded data removed]"
     },
     "metadata": {},
     "output_type": "display_data"
    }
   ],
   "source": [
    "from sklearn.metrics import roc_curve\n",
    "\n",
    "fpr_dt, tpr_dt, thresholds_dt = roc_curve(y_test, m.predict_proba(X_test)[:,1])\n",
    "fpr_lr, tpr_lr, thresholds_lr = roc_curve(y_test, m_lr.predict_proba(X_test)[:,1])\n",
    "\n",
    "plt.step(x=fpr_dt, y=tpr_dt, label=\"Decision Tree\")\n",
    "plt.step(x=fpr_lr, y=tpr_lr, label=\"Logistic Regression\")\n",
    "plt.legend()"
   ]
  },
  {
   "cell_type": "markdown",
   "id": "11de6b14-7c43-49b0-8206-7659d6b8454e",
   "metadata": {},
   "source": [
    "For most threshold values, the decision tree delivers better results, i.e. more true positives with fewer false positives."
   ]
  },
  {
   "cell_type": "code",
   "execution_count": 12,
   "id": "14f3ae37-5c2e-4199-9cb7-42ccdbff05a0",
   "metadata": {
    "ExecuteTime": {
     "end_time": "2024-11-26T12:16:54.647863Z",
     "start_time": "2024-11-26T12:16:54.644543Z"
    }
   },
   "outputs": [],
   "source": []
  }
 ],
 "metadata": {
  "kernelspec": {
   "display_name": "base",
   "language": "python",
   "name": "python3"
  },
  "language_info": {
   "codemirror_mode": {
    "name": "ipython",
    "version": 3
   },
   "file_extension": ".py",
   "mimetype": "text/x-python",
   "name": "python",
   "nbconvert_exporter": "python",
   "pygments_lexer": "ipython3",
   "version": "3.9.20"
  }
 },
 "nbformat": 4,
 "nbformat_minor": 5
}
