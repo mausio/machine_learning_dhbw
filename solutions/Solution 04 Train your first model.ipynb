{
 "cells": [
  {
   "cell_type": "code",
   "outputs": [],
   "source": [],
   "metadata": {
    "collapsed": false,
    "ExecuteTime": {
     "end_time": "2024-11-20T08:57:47.728768Z",
     "start_time": "2024-11-20T08:57:47.727130Z"
    }
   },
   "id": "56938535d9daea17",
   "execution_count": 1
  },
  {
   "cell_type": "markdown",
   "id": "d909023d-53b0-4f21-a6d3-f821d7dc836a",
   "metadata": {
    "tags": []
   },
   "source": [
    "# Solution 04 - Train your first model"
   ]
  },
  {
   "cell_type": "markdown",
   "id": "749e3650-cdb6-41e5-9fc9-22352a1aea94",
   "metadata": {},
   "source": [
    "## Import libraries"
   ]
  },
  {
   "cell_type": "code",
   "execution_count": 2,
   "id": "3fc4645d-3825-4b7d-ba72-0a3bb73d3aa3",
   "metadata": {
    "ExecuteTime": {
     "end_time": "2024-11-20T08:57:53.512379Z",
     "start_time": "2024-11-20T08:57:47.755190Z"
    }
   },
   "outputs": [],
   "source": [
    "import pandas as pd\n",
    "import numpy as np\n",
    "import matplotlib.pyplot as plt\n",
    "from sklearn import linear_model, metrics\n",
    "from sklearn.model_selection import train_test_split"
   ]
  },
  {
   "cell_type": "markdown",
   "id": "1f988240-244d-43ba-a7b5-d9b0ea088060",
   "metadata": {},
   "source": [
    "## Read and display data\n",
    "We assume that the data is located in a subdirectory called \"data\". To read in the data we use the `read_csv()` method of Pandas."
   ]
  },
  {
   "cell_type": "code",
   "execution_count": 3,
   "id": "c99420d1-fc31-49aa-b586-726f9ed7a24f",
   "metadata": {
    "tags": [],
    "ExecuteTime": {
     "end_time": "2024-11-20T08:57:53.561018Z",
     "start_time": "2024-11-20T08:57:53.513571Z"
    }
   },
   "outputs": [
    {
     "data": {
      "text/plain": "        TV  Radio  Newspaper  Sales\n0    230.1   37.8       69.2   22.1\n1     44.5   39.3       45.1   10.4\n2     17.2   45.9       69.3   12.0\n3    151.5   41.3       58.5   16.5\n4    180.8   10.8       58.4   17.9\n..     ...    ...        ...    ...\n195   38.2    3.7       13.8    7.6\n196   94.2    4.9        8.1   14.0\n197  177.0    9.3        6.4   14.8\n198  283.6   42.0       66.2   25.5\n199  232.1    8.6        8.7   18.4\n\n[200 rows x 4 columns]",
      "text/html": "<div>\n<style scoped>\n    .dataframe tbody tr th:only-of-type {\n        vertical-align: middle;\n    }\n\n    .dataframe tbody tr th {\n        vertical-align: top;\n    }\n\n    .dataframe thead th {\n        text-align: right;\n    }\n</style>\n<table border=\"1\" class=\"dataframe\">\n  <thead>\n    <tr style=\"text-align: right;\">\n      <th></th>\n      <th>TV</th>\n      <th>Radio</th>\n      <th>Newspaper</th>\n      <th>Sales</th>\n    </tr>\n  </thead>\n  <tbody>\n    <tr>\n      <th>0</th>\n      <td>230.1</td>\n      <td>37.8</td>\n      <td>69.2</td>\n      <td>22.1</td>\n    </tr>\n    <tr>\n      <th>1</th>\n      <td>44.5</td>\n      <td>39.3</td>\n      <td>45.1</td>\n      <td>10.4</td>\n    </tr>\n    <tr>\n      <th>2</th>\n      <td>17.2</td>\n      <td>45.9</td>\n      <td>69.3</td>\n      <td>12.0</td>\n    </tr>\n    <tr>\n      <th>3</th>\n      <td>151.5</td>\n      <td>41.3</td>\n      <td>58.5</td>\n      <td>16.5</td>\n    </tr>\n    <tr>\n      <th>4</th>\n      <td>180.8</td>\n      <td>10.8</td>\n      <td>58.4</td>\n      <td>17.9</td>\n    </tr>\n    <tr>\n      <th>...</th>\n      <td>...</td>\n      <td>...</td>\n      <td>...</td>\n      <td>...</td>\n    </tr>\n    <tr>\n      <th>195</th>\n      <td>38.2</td>\n      <td>3.7</td>\n      <td>13.8</td>\n      <td>7.6</td>\n    </tr>\n    <tr>\n      <th>196</th>\n      <td>94.2</td>\n      <td>4.9</td>\n      <td>8.1</td>\n      <td>14.0</td>\n    </tr>\n    <tr>\n      <th>197</th>\n      <td>177.0</td>\n      <td>9.3</td>\n      <td>6.4</td>\n      <td>14.8</td>\n    </tr>\n    <tr>\n      <th>198</th>\n      <td>283.6</td>\n      <td>42.0</td>\n      <td>66.2</td>\n      <td>25.5</td>\n    </tr>\n    <tr>\n      <th>199</th>\n      <td>232.1</td>\n      <td>8.6</td>\n      <td>8.7</td>\n      <td>18.4</td>\n    </tr>\n  </tbody>\n</table>\n<p>200 rows × 4 columns</p>\n</div>"
     },
     "execution_count": 3,
     "metadata": {},
     "output_type": "execute_result"
    }
   ],
   "source": [
    "df = pd.read_csv(\"../Data/advertising.csv\")\n",
    "df"
   ]
  },
  {
   "cell_type": "markdown",
   "id": "878ea699-10b8-435a-a68a-1e6cc32ea832",
   "metadata": {
    "tags": []
   },
   "source": [
    "## Select features and labels\n",
    "We select from the dataframe, column by column, what should be interpreted as features and what should be interpreted as labels."
   ]
  },
  {
   "cell_type": "code",
   "execution_count": 4,
   "id": "b871f34a-05c7-4983-baa7-a593f82be33a",
   "metadata": {
    "ExecuteTime": {
     "end_time": "2024-11-20T08:57:53.567057Z",
     "start_time": "2024-11-20T08:57:53.562579Z"
    }
   },
   "outputs": [],
   "source": [
    "features = [\"TV\", \"Radio\"] # List of Features\n",
    "X = df[features]\n",
    "y = df.Sales"
   ]
  },
  {
   "cell_type": "markdown",
   "id": "3a62cc82-bfd6-43c2-b834-3a707b4cef8d",
   "metadata": {},
   "source": [
    "## Training-Test Split\n",
    "Next, we split the data into training and test data. scikit-learn provides the function `train_test_split` in the `sklearn.model` submodule for this purpose. By default, it randomly selects 25% of the data as test data. Setting the `random_state` parameter to a fixed number guarantees that the random generator will select the same 25% of the data each time the function is called (often makes it easier to avoid errors during model development)."
   ]
  },
  {
   "cell_type": "code",
   "execution_count": 5,
   "id": "aee5693d-9c7c-49ac-8b8a-282159afa0d8",
   "metadata": {
    "ExecuteTime": {
     "end_time": "2024-11-20T08:57:53.572207Z",
     "start_time": "2024-11-20T08:57:53.568448Z"
    }
   },
   "outputs": [],
   "source": [
    "X_train, X_test, y_train, y_test = train_test_split(X, y, test_size=0.25, random_state=42)"
   ]
  },
  {
   "cell_type": "markdown",
   "id": "2aa0dde6-7d6a-4b46-a909-93051a35bbfe",
   "metadata": {},
   "source": [
    "## Model training\n",
    "We build a linear regression model. Like all models in scikit-learn, it has a `.fit` method that we use to train the model on the training data."
   ]
  },
  {
   "cell_type": "code",
   "execution_count": 6,
   "id": "4222039d-1322-437f-a744-dd5f5d86e5f5",
   "metadata": {
    "ExecuteTime": {
     "end_time": "2024-11-20T08:57:53.577147Z",
     "start_time": "2024-11-20T08:57:53.572721Z"
    }
   },
   "outputs": [
    {
     "data": {
      "text/plain": "LinearRegression()",
      "text/html": "<style>#sk-container-id-1 {color: black;background-color: white;}#sk-container-id-1 pre{padding: 0;}#sk-container-id-1 div.sk-toggleable {background-color: white;}#sk-container-id-1 label.sk-toggleable__label {cursor: pointer;display: block;width: 100%;margin-bottom: 0;padding: 0.3em;box-sizing: border-box;text-align: center;}#sk-container-id-1 label.sk-toggleable__label-arrow:before {content: \"▸\";float: left;margin-right: 0.25em;color: #696969;}#sk-container-id-1 label.sk-toggleable__label-arrow:hover:before {color: black;}#sk-container-id-1 div.sk-estimator:hover label.sk-toggleable__label-arrow:before {color: black;}#sk-container-id-1 div.sk-toggleable__content {max-height: 0;max-width: 0;overflow: hidden;text-align: left;background-color: #f0f8ff;}#sk-container-id-1 div.sk-toggleable__content pre {margin: 0.2em;color: black;border-radius: 0.25em;background-color: #f0f8ff;}#sk-container-id-1 input.sk-toggleable__control:checked~div.sk-toggleable__content {max-height: 200px;max-width: 100%;overflow: auto;}#sk-container-id-1 input.sk-toggleable__control:checked~label.sk-toggleable__label-arrow:before {content: \"▾\";}#sk-container-id-1 div.sk-estimator input.sk-toggleable__control:checked~label.sk-toggleable__label {background-color: #d4ebff;}#sk-container-id-1 div.sk-label input.sk-toggleable__control:checked~label.sk-toggleable__label {background-color: #d4ebff;}#sk-container-id-1 input.sk-hidden--visually {border: 0;clip: rect(1px 1px 1px 1px);clip: rect(1px, 1px, 1px, 1px);height: 1px;margin: -1px;overflow: hidden;padding: 0;position: absolute;width: 1px;}#sk-container-id-1 div.sk-estimator {font-family: monospace;background-color: #f0f8ff;border: 1px dotted black;border-radius: 0.25em;box-sizing: border-box;margin-bottom: 0.5em;}#sk-container-id-1 div.sk-estimator:hover {background-color: #d4ebff;}#sk-container-id-1 div.sk-parallel-item::after {content: \"\";width: 100%;border-bottom: 1px solid gray;flex-grow: 1;}#sk-container-id-1 div.sk-label:hover label.sk-toggleable__label {background-color: #d4ebff;}#sk-container-id-1 div.sk-serial::before {content: \"\";position: absolute;border-left: 1px solid gray;box-sizing: border-box;top: 0;bottom: 0;left: 50%;z-index: 0;}#sk-container-id-1 div.sk-serial {display: flex;flex-direction: column;align-items: center;background-color: white;padding-right: 0.2em;padding-left: 0.2em;position: relative;}#sk-container-id-1 div.sk-item {position: relative;z-index: 1;}#sk-container-id-1 div.sk-parallel {display: flex;align-items: stretch;justify-content: center;background-color: white;position: relative;}#sk-container-id-1 div.sk-item::before, #sk-container-id-1 div.sk-parallel-item::before {content: \"\";position: absolute;border-left: 1px solid gray;box-sizing: border-box;top: 0;bottom: 0;left: 50%;z-index: -1;}#sk-container-id-1 div.sk-parallel-item {display: flex;flex-direction: column;z-index: 1;position: relative;background-color: white;}#sk-container-id-1 div.sk-parallel-item:first-child::after {align-self: flex-end;width: 50%;}#sk-container-id-1 div.sk-parallel-item:last-child::after {align-self: flex-start;width: 50%;}#sk-container-id-1 div.sk-parallel-item:only-child::after {width: 0;}#sk-container-id-1 div.sk-dashed-wrapped {border: 1px dashed gray;margin: 0 0.4em 0.5em 0.4em;box-sizing: border-box;padding-bottom: 0.4em;background-color: white;}#sk-container-id-1 div.sk-label label {font-family: monospace;font-weight: bold;display: inline-block;line-height: 1.2em;}#sk-container-id-1 div.sk-label-container {text-align: center;}#sk-container-id-1 div.sk-container {/* jupyter's `normalize.less` sets `[hidden] { display: none; }` but bootstrap.min.css set `[hidden] { display: none !important; }` so we also need the `!important` here to be able to override the default hidden behavior on the sphinx rendered scikit-learn.org. See: https://github.com/scikit-learn/scikit-learn/issues/21755 */display: inline-block !important;position: relative;}#sk-container-id-1 div.sk-text-repr-fallback {display: none;}</style><div id=\"sk-container-id-1\" class=\"sk-top-container\"><div class=\"sk-text-repr-fallback\"><pre>LinearRegression()</pre><b>In a Jupyter environment, please rerun this cell to show the HTML representation or trust the notebook. <br />On GitHub, the HTML representation is unable to render, please try loading this page with nbviewer.org.</b></div><div class=\"sk-container\" hidden><div class=\"sk-item\"><div class=\"sk-estimator sk-toggleable\"><input class=\"sk-toggleable__control sk-hidden--visually\" id=\"sk-estimator-id-1\" type=\"checkbox\" checked><label for=\"sk-estimator-id-1\" class=\"sk-toggleable__label sk-toggleable__label-arrow\">LinearRegression</label><div class=\"sk-toggleable__content\"><pre>LinearRegression()</pre></div></div></div></div></div>"
     },
     "execution_count": 6,
     "metadata": {},
     "output_type": "execute_result"
    }
   ],
   "source": [
    "m = linear_model.LinearRegression()\n",
    "m.fit(X_train, y_train)"
   ]
  },
  {
   "cell_type": "markdown",
   "id": "a53c3aa2-ae3b-413a-96fa-6c8d9c78e310",
   "metadata": {},
   "source": [
    "## Evaluation of the solution\n",
    "We determine the $R^2$ value and the (root) mean squared error (RMSE) on the training and test data. To do this, we first determine the model prediction `y_pred`. Model predictions in scikit-learn are made using the `.predict` method, which each model has. The parameters $w$ can be accessed using `m.coef_` or `m.intercept`."
   ]
  },
  {
   "cell_type": "code",
   "execution_count": 10,
   "id": "957fa5a1-3aff-4cf8-ae2b-fbd7289a87f6",
   "metadata": {
    "ExecuteTime": {
     "end_time": "2024-11-20T08:58:53.802033Z",
     "start_time": "2024-11-20T08:58:53.796836Z"
    }
   },
   "outputs": [
    {
     "name": "stdout",
     "output_type": "stream",
     "text": [
      "R^2 Training data: 0.8955275873177727.\n",
      "RMSE Training data: 2.8420054812102697.\n",
      "R^2 Test data: 0.9133183876478477.\n",
      "RMSE Test data: 2.356396290987085.\n",
      "w0 = 4.8193142960357385\n",
      "w = [0.05461317 0.10204696]\n"
     ]
    }
   ],
   "source": [
    "# Metrics on the training data\n",
    "y_pred = m.predict(X_train)\n",
    "print(f\"R^2 Training data: {metrics.r2_score(y_train, y_pred)}.\")\n",
    "print(f\"RMSE Training data: {metrics.mean_squared_error(y_train, y_pred)}.\")\n",
    "\n",
    "# Metrics on the test data\n",
    "y_pred = m.predict(X_test)\n",
    "print(f\"R^2 Test data: {metrics.r2_score(y_test, y_pred)}.\")\n",
    "print(f\"RMSE Test data: {metrics.mean_squared_error(y_test, y_pred)}.\")\n",
    "\n",
    "# Learned coefficients of the model function:\n",
    "print(f\"w0 = {m.intercept_}\")\n",
    "print(f\"w = {m.coef_}\")"
   ]
  },
  {
   "cell_type": "markdown",
   "id": "888e1614-e4c5-49b0-a494-4defd0013133",
   "metadata": {
    "tags": []
   },
   "source": [
    "## Task\n",
    "1. look at the sample code again.\n",
    "\n",
    "2. delete the code and run a linear regression for the Advertising dataset using all three features `TV`, `Radio` and `Newspaper`. To do this, perform the following steps in sequence:\n",
    "    * Read in data.\n",
    "    * Select features and label.\n",
    "    * Split data into test and training data.\n",
    "    * Create and train the model.\n",
    "    * Evaluate the model. Is the model better than the two-feature model?\n",
    "    \n",
    "3. bonus: Visualize the data as scatter plots. You can use e.g. the plot functionality of Pandas for this: https://pandas.pydata.org/docs/reference/api/pandas.DataFrame.plot.html"
   ]
  },
  {
   "cell_type": "code",
   "execution_count": 9,
   "id": "bdf91e09",
   "metadata": {
    "scrolled": true,
    "ExecuteTime": {
     "end_time": "2024-11-20T08:58:37.491786Z",
     "start_time": "2024-11-20T08:58:37.483812Z"
    }
   },
   "outputs": [
    {
     "name": "stdout",
     "output_type": "stream",
     "text": [
      "R^2 Training data: 0.8957759851376041.\n",
      "RMSE Training data: 2.8352482144126823.\n",
      "R^2 Test data: 0.9115647723992758.\n",
      "RMSE Test data: 2.4040674447118864.\n",
      "w0 = 4.741842244124568\n",
      "w = [0.05461383 0.09975946 0.00430495]\n"
     ]
    }
   ],
   "source": [
    "features2 = [\"TV\", \"Radio\", \"Newspaper\"] # List of Features\n",
    "X2 = df[features2]\n",
    "y2 = df.Sales\n",
    "X_train2, X_test2, y_train2, y_test2 = train_test_split(X2, y2, test_size=0.25, random_state=42)\n",
    "m2 = linear_model.LinearRegression()\n",
    "m2.fit(X_train2, y_train2)\n",
    "\n",
    "# Metrics on the new training data\n",
    "y_pred2 = m2.predict(X_train2)\n",
    "print(f\"R^2 Training data: {metrics.r2_score(y_train2, y_pred2)}.\")\n",
    "print(f\"RMSE Training data: {metrics.mean_squared_error(y_train2, y_pred2)}.\")\n",
    "\n",
    "\n",
    "# Metrics on the test data\n",
    "y_pred2 = m2.predict(X_test2)\n",
    "print(f\"R^2 Test data: {metrics.r2_score(y_test2, y_pred2)}.\")\n",
    "print(f\"RMSE Test data: {metrics.mean_squared_error(y_test2, y_pred2)}.\")\n",
    "\n",
    "# Learned coefficients of the model function:\n",
    "print(f\"w0 = {m2.intercept_}\")\n",
    "print(f\"w = {m2.coef_}\")"
   ]
  },
  {
   "cell_type": "markdown",
   "id": "68c2bbba",
   "metadata": {},
   "source": [
    "## One feature one plot"
   ]
  },
  {
   "cell_type": "code",
   "execution_count": null,
   "id": "bd49984e",
   "metadata": {},
   "outputs": [],
   "source": [
    "df.plot.scatter(x=\"Radio\", y=\"Sales\")"
   ]
  },
  {
   "cell_type": "code",
   "execution_count": null,
   "id": "2de9f44c",
   "metadata": {},
   "outputs": [],
   "source": [
    "df.plot.scatter(x=\"Newspaper\", y=\"Sales\")"
   ]
  },
  {
   "cell_type": "markdown",
   "id": "e7b1d2f8",
   "metadata": {},
   "source": [
    "## All three features in one plot"
   ]
  },
  {
   "cell_type": "code",
   "execution_count": 11,
   "id": "5681c7a7",
   "metadata": {
    "scrolled": true,
    "ExecuteTime": {
     "end_time": "2024-11-20T09:12:43.050308Z",
     "start_time": "2024-11-20T09:12:42.875902Z"
    }
   },
   "outputs": [
    {
     "data": {
      "text/plain": "Text(0, 0.5, 'Sales')"
     },
     "execution_count": 11,
     "metadata": {},
     "output_type": "execute_result"
    },
    {
     "data": {
      "text/plain": "<Figure size 640x480 with 1 Axes>",
      "image/png": "[encoded data removed]"
     },
     "metadata": {},
     "output_type": "display_data"
    }
   ],
   "source": [
    "ax1 = df.plot(kind='scatter', x='TV', y='Sales', color='r',  label=\"TV\")    \n",
    "ax2 = df.plot(kind='scatter', x='Radio', y='Sales', color='g', ax=ax1, label=\"Radio\")    \n",
    "ax3 = df.plot(kind='scatter', x='Newspaper', y='Sales', color='b', ax=ax1, label =\"Newspaper\")\n",
    "\n",
    "ax1.set_xlabel(\"Budget\")\n",
    "ax1.set_ylabel(\"Sales\")"
   ]
  },
  {
   "cell_type": "markdown",
   "id": "92b0949c",
   "metadata": {},
   "source": [
    "## \"Row-by-Row\" comparison\n",
    "\n",
    "Let's calculate the predictions and print them out with the reals sales values together\n"
   ]
  },
  {
   "cell_type": "code",
   "execution_count": 12,
   "id": "bd05db60",
   "metadata": {
    "ExecuteTime": {
     "end_time": "2024-11-20T09:14:34.997830Z",
     "start_time": "2024-11-20T09:14:34.995046Z"
    }
   },
   "outputs": [
    {
     "name": "stdout",
     "output_type": "stream",
     "text": [
      "[0.05461317 0.10204696]\n",
      "[(0.05461316825103991, 'TV'), (0.10204695772378576, 'Radio')]\n"
     ]
    }
   ],
   "source": [
    "### Based on two features prediction\n",
    "# First check which coefficient for which feature\n",
    "print(m.coef_)\n",
    "print(list(zip(m.coef_, features)))"
   ]
  },
  {
   "cell_type": "code",
   "execution_count": 13,
   "id": "55b78765",
   "metadata": {
    "ExecuteTime": {
     "end_time": "2024-11-20T09:14:36.472154Z",
     "start_time": "2024-11-20T09:14:36.468473Z"
    }
   },
   "outputs": [],
   "source": [
    "# Then calculate the predictions\n",
    "w0 = m.intercept_\n",
    "w1 = m.coef_[0]\n",
    "w2 = m.coef_[1]\n",
    "\n",
    "est1 = w0 + w1*df['TV'] + w2*df['Radio']\n",
    "df['estimation1'] = est1\n"
   ]
  },
  {
   "cell_type": "code",
   "execution_count": 14,
   "id": "bab731a7",
   "metadata": {
    "ExecuteTime": {
     "end_time": "2024-11-20T09:14:38.332529Z",
     "start_time": "2024-11-20T09:14:38.328885Z"
    }
   },
   "outputs": [
    {
     "name": "stdout",
     "output_type": "stream",
     "text": [
      "[0.05461383 0.09975946 0.00430495]\n",
      "[(0.054613834239870124, 'TV'), (0.09975946349361563, 'Radio'), (0.004304951015039124, 'Newspaper')]\n"
     ]
    }
   ],
   "source": [
    "### Based on three features prediction\n",
    "# Also check which coefficient for which feature\n",
    "print(m2.coef_)\n",
    "print(list(zip(m2.coef_, features2)))"
   ]
  },
  {
   "cell_type": "code",
   "execution_count": 15,
   "id": "3c89015c",
   "metadata": {
    "ExecuteTime": {
     "end_time": "2024-11-20T09:14:39.602217Z",
     "start_time": "2024-11-20T09:14:39.591031Z"
    }
   },
   "outputs": [
    {
     "data": {
      "text/plain": "        TV  Radio  Newspaper  Sales  estimation1  estimation2\n0    230.1   37.8       69.2   22.1    21.243179    21.377296\n1     44.5   39.3       45.1   10.4    11.260046    11.286858\n2     17.2   45.9       69.3   12.0    10.442616    10.558493\n3    151.5   41.3       58.5   16.5    17.307749    17.387744\n4    180.8   10.8       58.4   17.9    15.795482    15.944835\n..     ...    ...        ...    ...          ...          ...\n195   38.2    3.7       13.8    7.6     7.283111     7.256609\n196   94.2    4.9        8.1   14.0    10.463905    10.410157\n197  177.0    9.3        6.4   14.8    15.434882    15.363806\n198  283.6   42.0       66.2   25.5    24.593581    24.705211\n199  232.1    8.6        8.7   18.4    18.372634    18.313098\n\n[200 rows x 6 columns]",
      "text/html": "<div>\n<style scoped>\n    .dataframe tbody tr th:only-of-type {\n        vertical-align: middle;\n    }\n\n    .dataframe tbody tr th {\n        vertical-align: top;\n    }\n\n    .dataframe thead th {\n        text-align: right;\n    }\n</style>\n<table border=\"1\" class=\"dataframe\">\n  <thead>\n    <tr style=\"text-align: right;\">\n      <th></th>\n      <th>TV</th>\n      <th>Radio</th>\n      <th>Newspaper</th>\n      <th>Sales</th>\n      <th>estimation1</th>\n      <th>estimation2</th>\n    </tr>\n  </thead>\n  <tbody>\n    <tr>\n      <th>0</th>\n      <td>230.1</td>\n      <td>37.8</td>\n      <td>69.2</td>\n      <td>22.1</td>\n      <td>21.243179</td>\n      <td>21.377296</td>\n    </tr>\n    <tr>\n      <th>1</th>\n      <td>44.5</td>\n      <td>39.3</td>\n      <td>45.1</td>\n      <td>10.4</td>\n      <td>11.260046</td>\n      <td>11.286858</td>\n    </tr>\n    <tr>\n      <th>2</th>\n      <td>17.2</td>\n      <td>45.9</td>\n      <td>69.3</td>\n      <td>12.0</td>\n      <td>10.442616</td>\n      <td>10.558493</td>\n    </tr>\n    <tr>\n      <th>3</th>\n      <td>151.5</td>\n      <td>41.3</td>\n      <td>58.5</td>\n      <td>16.5</td>\n      <td>17.307749</td>\n      <td>17.387744</td>\n    </tr>\n    <tr>\n      <th>4</th>\n      <td>180.8</td>\n      <td>10.8</td>\n      <td>58.4</td>\n      <td>17.9</td>\n      <td>15.795482</td>\n      <td>15.944835</td>\n    </tr>\n    <tr>\n      <th>...</th>\n      <td>...</td>\n      <td>...</td>\n      <td>...</td>\n      <td>...</td>\n      <td>...</td>\n      <td>...</td>\n    </tr>\n    <tr>\n      <th>195</th>\n      <td>38.2</td>\n      <td>3.7</td>\n      <td>13.8</td>\n      <td>7.6</td>\n      <td>7.283111</td>\n      <td>7.256609</td>\n    </tr>\n    <tr>\n      <th>196</th>\n      <td>94.2</td>\n      <td>4.9</td>\n      <td>8.1</td>\n      <td>14.0</td>\n      <td>10.463905</td>\n      <td>10.410157</td>\n    </tr>\n    <tr>\n      <th>197</th>\n      <td>177.0</td>\n      <td>9.3</td>\n      <td>6.4</td>\n      <td>14.8</td>\n      <td>15.434882</td>\n      <td>15.363806</td>\n    </tr>\n    <tr>\n      <th>198</th>\n      <td>283.6</td>\n      <td>42.0</td>\n      <td>66.2</td>\n      <td>25.5</td>\n      <td>24.593581</td>\n      <td>24.705211</td>\n    </tr>\n    <tr>\n      <th>199</th>\n      <td>232.1</td>\n      <td>8.6</td>\n      <td>8.7</td>\n      <td>18.4</td>\n      <td>18.372634</td>\n      <td>18.313098</td>\n    </tr>\n  </tbody>\n</table>\n<p>200 rows × 6 columns</p>\n</div>"
     },
     "execution_count": 15,
     "metadata": {},
     "output_type": "execute_result"
    }
   ],
   "source": [
    "w0_2 = m2.intercept_\n",
    "w1_2 = m2.coef_[0]\n",
    "w2_2 = m2.coef_[1]\n",
    "w3_2 = m2.coef_[2]\n",
    "\n",
    "est2 = w0_2 + w1_2*df['TV'] + w2_2*df['Radio'] + w3_2*df['Newspaper']\n",
    "df['estimation2'] = est2\n",
    "\n",
    "# Let's see:\n",
    "df"
   ]
  },
  {
   "cell_type": "code",
   "execution_count": null,
   "metadata": {},
   "outputs": [],
   "source": [],
   "id": "f537efa4af8c70ab"
  }
 ],
 "metadata": {
  "kernelspec": {
   "display_name": "base",
   "language": "python",
   "name": "python3"
  },
  "language_info": {
   "codemirror_mode": {
    "name": "ipython",
    "version": 3
   },
   "file_extension": ".py",
   "mimetype": "text/x-python",
   "name": "python",
   "nbconvert_exporter": "python",
   "pygments_lexer": "ipython3",
   "version": "3.11.10"
  }
 },
 "nbformat": 4,
 "nbformat_minor": 5
}
