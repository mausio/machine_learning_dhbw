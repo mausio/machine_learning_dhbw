{
 "cells": [
  {
   "cell_type": "code",
   "execution_count": 1,
   "id": "fb66ffb8-c6c4-43f3-b381-28c6a0d83caa",
   "metadata": {
    "ExecuteTime": {
     "end_time": "2024-11-26T11:02:23.908447Z",
     "start_time": "2024-11-26T11:02:22.714491Z"
    }
   },
   "outputs": [],
   "source": [
    "import numpy as np\n",
    "import pandas as pd\n",
    "import matplotlib.pyplot as plt\n",
    "\n",
    "from IPython.display import display\n",
    "\n",
    "pd.options.display.max_columns = 50\n",
    "pd.options.display.max_rows = 200\n",
    "plt.rcParams['figure.figsize'] = [16, 9]"
   ]
  },
  {
   "cell_type": "markdown",
   "id": "4a530001-df16-4477-94c4-5c303c93de4f",
   "metadata": {
    "tags": []
   },
   "source": [
    "## Exercise 10: Titanic\n",
    "You may be familiar with the Titanic data set from other events. Here, various features are used to predict whether a Titanic passenger survived the disaster. Reading in the data, rough pre-processing and splitting into training and test sets are already predefined here. "
   ]
  },
  {
   "cell_type": "code",
   "execution_count": 3,
   "id": "e683ba36-4a9d-4a94-b33a-8eccb0a44ba2",
   "metadata": {
    "ExecuteTime": {
     "end_time": "2024-11-26T11:03:25.922956Z",
     "start_time": "2024-11-26T11:03:25.899726Z"
    }
   },
   "outputs": [
    {
     "data": {
      "text/plain": "     Pclass   Age  SibSp  Parch      Fare  Sex_female  Sex_male  Embarked_C  \\\n328       3  31.0      1      1   20.5250        True     False       False   \n73        3  26.0      1      0   14.4542       False      True        True   \n253       3  30.0      1      0   16.1000       False      True       False   \n719       3  33.0      0      0    7.7750       False      True       False   \n666       2  25.0      0      0   13.0000       False      True       False   \n..      ...   ...    ...    ...       ...         ...       ...         ...   \n92        1  46.0      1      0   61.1750       False      True       False   \n134       2  25.0      0      0   13.0000       False      True       False   \n337       1  41.0      0      0  134.5000        True     False        True   \n548       3  33.0      1      1   20.5250       False      True       False   \n130       3  33.0      0      0    7.8958       False      True        True   \n\n     Embarked_Q  Embarked_S  \n328       False        True  \n73        False       False  \n253       False        True  \n719       False        True  \n666       False        True  \n..          ...         ...  \n92        False        True  \n134       False        True  \n337       False       False  \n548       False        True  \n130       False       False  \n\n[571 rows x 10 columns]",
      "text/html": "<div>\n<style scoped>\n    .dataframe tbody tr th:only-of-type {\n        vertical-align: middle;\n    }\n\n    .dataframe tbody tr th {\n        vertical-align: top;\n    }\n\n    .dataframe thead th {\n        text-align: right;\n    }\n</style>\n<table border=\"1\" class=\"dataframe\">\n  <thead>\n    <tr style=\"text-align: right;\">\n      <th></th>\n      <th>Pclass</th>\n      <th>Age</th>\n      <th>SibSp</th>\n      <th>Parch</th>\n      <th>Fare</th>\n      <th>Sex_female</th>\n      <th>Sex_male</th>\n      <th>Embarked_C</th>\n      <th>Embarked_Q</th>\n      <th>Embarked_S</th>\n    </tr>\n  </thead>\n  <tbody>\n    <tr>\n      <th>328</th>\n      <td>3</td>\n      <td>31.0</td>\n      <td>1</td>\n      <td>1</td>\n      <td>20.5250</td>\n      <td>True</td>\n      <td>False</td>\n      <td>False</td>\n      <td>False</td>\n      <td>True</td>\n    </tr>\n    <tr>\n      <th>73</th>\n      <td>3</td>\n      <td>26.0</td>\n      <td>1</td>\n      <td>0</td>\n      <td>14.4542</td>\n      <td>False</td>\n      <td>True</td>\n      <td>True</td>\n      <td>False</td>\n      <td>False</td>\n    </tr>\n    <tr>\n      <th>253</th>\n      <td>3</td>\n      <td>30.0</td>\n      <td>1</td>\n      <td>0</td>\n      <td>16.1000</td>\n      <td>False</td>\n      <td>True</td>\n      <td>False</td>\n      <td>False</td>\n      <td>True</td>\n    </tr>\n    <tr>\n      <th>719</th>\n      <td>3</td>\n      <td>33.0</td>\n      <td>0</td>\n      <td>0</td>\n      <td>7.7750</td>\n      <td>False</td>\n      <td>True</td>\n      <td>False</td>\n      <td>False</td>\n      <td>True</td>\n    </tr>\n    <tr>\n      <th>666</th>\n      <td>2</td>\n      <td>25.0</td>\n      <td>0</td>\n      <td>0</td>\n      <td>13.0000</td>\n      <td>False</td>\n      <td>True</td>\n      <td>False</td>\n      <td>False</td>\n      <td>True</td>\n    </tr>\n    <tr>\n      <th>...</th>\n      <td>...</td>\n      <td>...</td>\n      <td>...</td>\n      <td>...</td>\n      <td>...</td>\n      <td>...</td>\n      <td>...</td>\n      <td>...</td>\n      <td>...</td>\n      <td>...</td>\n    </tr>\n    <tr>\n      <th>92</th>\n      <td>1</td>\n      <td>46.0</td>\n      <td>1</td>\n      <td>0</td>\n      <td>61.1750</td>\n      <td>False</td>\n      <td>True</td>\n      <td>False</td>\n      <td>False</td>\n      <td>True</td>\n    </tr>\n    <tr>\n      <th>134</th>\n      <td>2</td>\n      <td>25.0</td>\n      <td>0</td>\n      <td>0</td>\n      <td>13.0000</td>\n      <td>False</td>\n      <td>True</td>\n      <td>False</td>\n      <td>False</td>\n      <td>True</td>\n    </tr>\n    <tr>\n      <th>337</th>\n      <td>1</td>\n      <td>41.0</td>\n      <td>0</td>\n      <td>0</td>\n      <td>134.5000</td>\n      <td>True</td>\n      <td>False</td>\n      <td>True</td>\n      <td>False</td>\n      <td>False</td>\n    </tr>\n    <tr>\n      <th>548</th>\n      <td>3</td>\n      <td>33.0</td>\n      <td>1</td>\n      <td>1</td>\n      <td>20.5250</td>\n      <td>False</td>\n      <td>True</td>\n      <td>False</td>\n      <td>False</td>\n      <td>True</td>\n    </tr>\n    <tr>\n      <th>130</th>\n      <td>3</td>\n      <td>33.0</td>\n      <td>0</td>\n      <td>0</td>\n      <td>7.8958</td>\n      <td>False</td>\n      <td>True</td>\n      <td>True</td>\n      <td>False</td>\n      <td>False</td>\n    </tr>\n  </tbody>\n</table>\n<p>571 rows × 10 columns</p>\n</div>"
     },
     "execution_count": 3,
     "metadata": {},
     "output_type": "execute_result"
    }
   ],
   "source": [
    "from sklearn.model_selection import train_test_split\n",
    "\n",
    "df = pd.read_csv(\"../data/titanic.csv\")\n",
    "# We are removing some features to make the problem clearer\n",
    "df = df.drop([\"PassengerId\", \"Name\",\"Ticket\", \"Cabin\"], axis=1)\n",
    "# We remove those passengers for whom the age is not specified\n",
    "df = df[df[\"Age\"].isna() == False]\n",
    "\n",
    "# Label: survived yes/no\n",
    "y = df.pop(\"Survived\")\n",
    "# Features including one-hot encoding of the categorical\n",
    "X = pd.get_dummies(df)\n",
    "\n",
    "# Split in Trainings- und Testset\n",
    "X_train, X_test, y_train, y_test = train_test_split(X, y, test_size=0.2, random_state=42)\n",
    "\n",
    "X_train"
   ]
  },
  {
   "cell_type": "markdown",
   "id": "ff537c45-3dd2-40e9-9b7f-e5a1161772da",
   "metadata": {},
   "source": [
    "## Task 1: Train a decision tree for the example. \n",
    "Take a look at the notebook ``Exercise 11 - Decision Tree Examples.ipynb``. Visualize your result with ``plot_tree()``.\n",
    "Experiment with the hyperparameters ``max_depth`` and ``min_samples_split``. What do these parameters mean? How does the performance (accuracy, precision, recall) change on the training and test data?"
   ]
  },
  {
   "cell_type": "code",
   "execution_count": 3,
   "id": "6906f879-f515-4fc5-a20f-9ec3c10da35a",
   "metadata": {},
   "outputs": [],
   "source": [
    "from sklearn.tree import DecisionTreeClassifier, plot_tree\n",
    "from sklearn.metrics import accuracy_score, recall_score, precision_score\n",
    "\n",
    "# Solution"
   ]
  },
  {
   "cell_type": "markdown",
   "id": "b819ace5-eda3-43be-9f7f-8fa15bfb364b",
   "metadata": {
    "tags": []
   },
   "source": [
    "## Task 2: Hyperparameter optimization.\n",
    "a) Find the best value for the tree depth using hyperparameter tuning and 5-fold cross-validation.\n",
    "\n",
    "b) [optional] Find the best *combination* of tree depth and minimum number of examples required for a split using hyperparameter tuning and 5-fold cross-validation."
   ]
  },
  {
   "cell_type": "code",
   "execution_count": 4,
   "id": "33c78855-4988-4c1c-89cf-0b650f2f2a18",
   "metadata": {},
   "outputs": [],
   "source": [
    "from sklearn.model_selection import KFold\n",
    "\n",
    "# Solution"
   ]
  },
  {
   "cell_type": "markdown",
   "id": "137b618f-d283-4727-ab60-a9ddf564ea8e",
   "metadata": {
    "tags": []
   },
   "source": [
    "## Task 3: Repeat Task 2 with a logistic regression.\n",
    "You can use the class ``LogisticRegressionCV`` instead of the class ``LogisticRegression``. This performs a cross-validation for the regularization parameter ``C``. Create a model with the parameter ``penalty=\"l2\"`` and select 10 values for ``C`` and a 5-fold cross-validation. What is the (mathematical) meaning of ``C``?"
   ]
  },
  {
   "cell_type": "code",
   "execution_count": 5,
   "id": "1749734c-448e-49ad-94e4-c814de5fcfa4",
   "metadata": {},
   "outputs": [],
   "source": [
    "from sklearn.linear_model import LogisticRegressionCV, LogisticRegression\n",
    "\n",
    "\n",
    "#Solution"
   ]
  },
  {
   "cell_type": "markdown",
   "id": "5691c9ff-539d-42f2-8a34-da970ed0781d",
   "metadata": {},
   "source": [
    "## Task 4: Compare both models in a ROC plot.\n",
    "What statements can you derive from the plot?\n",
    "\n",
    "Hint:\n",
    "https://scikit-learn.org/dev/modules/generated/sklearn.metrics.roc_curve.html\n",
    "\n",
    "https://matplotlib.org/stable/gallery/lines_bars_and_markers/step_demo.html#sphx-glr-gallery-lines-bars-and-markers-step-demo-py"
   ]
  },
  {
   "cell_type": "code",
   "execution_count": 6,
   "id": "c3693970-930f-4fd1-abb5-f8777c1d9d2e",
   "metadata": {},
   "outputs": [],
   "source": [
    "from sklearn.metrics import roc_curve\n",
    "\n",
    "# Solution"
   ]
  },
  {
   "cell_type": "code",
   "execution_count": null,
   "id": "b09da134",
   "metadata": {},
   "outputs": [],
   "source": []
  }
 ],
 "metadata": {
  "kernelspec": {
   "display_name": "base",
   "language": "python",
   "name": "python3"
  },
  "language_info": {
   "codemirror_mode": {
    "name": "ipython",
    "version": 3
   },
   "file_extension": ".py",
   "mimetype": "text/x-python",
   "name": "python",
   "nbconvert_exporter": "python",
   "pygments_lexer": "ipython3",
   "version": "3.11.10"
  }
 },
 "nbformat": 4,
 "nbformat_minor": 5
}
