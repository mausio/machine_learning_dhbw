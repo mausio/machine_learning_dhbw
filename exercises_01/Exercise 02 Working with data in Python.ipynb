{
 "cells": [
  {
   "cell_type": "markdown",
   "id": "51fdb51e",
   "metadata": {},
   "source": [
    "# Working with data in Python\n",
    "\n",
    "Python is an interpreted, interactive, object-oriented programming language. \n",
    "\n",
    "It incorporates modules, exceptions, dynamic typing, very high level dynamic data types, and classes. \n",
    "\n",
    "It supports multiple programming paradigms beyond object-oriented programming, such as procedural and functional programming.\n",
    "\n",
    "Although this is not a Python lecture, we will use Python intensively. \n",
    "\n",
    "So let's first get familiar with some often used data types in this lecture. Meanwhile get familiar with Jupyter Notebook.\n",
    "\n",
    "First of all, we need to import some libraries (By now, these libraries should be included in the working environment):"
   ]
  },
  {
   "cell_type": "code",
   "execution_count": 2,
   "id": "4af8b87c",
   "metadata": {
    "ExecuteTime": {
     "end_time": "2024-10-18T11:25:00.618402Z",
     "start_time": "2024-10-18T11:25:00.614835Z"
    }
   },
   "outputs": [],
   "source": [
    "import numpy as np\n",
    "import pandas as pd\n"
   ]
  },
  {
   "cell_type": "markdown",
   "id": "5b3e4854",
   "metadata": {},
   "source": [
    "## Lists, Arrays, Series\n",
    "\n",
    "Assume that you have the following observations of a feature: 2, 4, 6, Null, 8, and you want to assign them into one variable. There are at least three alternatives:\n",
    "- Python list `ls1 = [2, 4, 6, None, 8]`\n",
    "- Numpy array `arr1 = numpy.array([2, 4, 6, np.nan, 8])`\n",
    "- Pandas series `s1 = pd.Series([2, 4, 6, np.nan, 8])`\n",
    "\n",
    "*Insert a new code cell below, copy paste the above statements, and check the value of ls1, arr1 and s1.*\n",
    "\n",
    "*To check the values, you could use* print(f\"Some text here {variable here}\"), or simply type the variable name in the last line of the cell)"
   ]
  },
  {
   "cell_type": "code",
   "outputs": [],
   "source": [
    "ls1 = [2, 4, 6, None, 8]\n",
    "arr1 = np.array([2, 4, 6, np.nan, 8])\n",
    "s1 = pd.Series([2, 4, 6, np.nan, 8])"
   ],
   "metadata": {
    "collapsed": false,
    "ExecuteTime": {
     "end_time": "2024-10-18T11:26:51.187148Z",
     "start_time": "2024-10-18T11:26:51.183232Z"
    }
   },
   "id": "9c1ed3e9a56b71ae",
   "execution_count": 3
  },
  {
   "cell_type": "code",
   "outputs": [
    {
     "data": {
      "text/plain": "[2, 4, 6, None, 8]"
     },
     "execution_count": 4,
     "metadata": {},
     "output_type": "execute_result"
    }
   ],
   "source": [
    "ls1"
   ],
   "metadata": {
    "collapsed": false,
    "ExecuteTime": {
     "end_time": "2024-10-18T11:27:00.273572Z",
     "start_time": "2024-10-18T11:27:00.268514Z"
    }
   },
   "id": "eb111c11db1dd7d3",
   "execution_count": 4
  },
  {
   "cell_type": "code",
   "outputs": [
    {
     "data": {
      "text/plain": "array([ 2.,  4.,  6., nan,  8.])"
     },
     "execution_count": 5,
     "metadata": {},
     "output_type": "execute_result"
    }
   ],
   "source": [
    "arr1"
   ],
   "metadata": {
    "collapsed": false,
    "ExecuteTime": {
     "end_time": "2024-10-18T11:27:01.911184Z",
     "start_time": "2024-10-18T11:27:01.908749Z"
    }
   },
   "id": "581e191511a3fb56",
   "execution_count": 5
  },
  {
   "cell_type": "code",
   "outputs": [
    {
     "data": {
      "text/plain": "0    2.0\n1    4.0\n2    6.0\n3    NaN\n4    8.0\ndtype: float64"
     },
     "execution_count": 6,
     "metadata": {},
     "output_type": "execute_result"
    }
   ],
   "source": [
    "s1"
   ],
   "metadata": {
    "collapsed": false,
    "ExecuteTime": {
     "end_time": "2024-10-18T11:27:03.927910Z",
     "start_time": "2024-10-18T11:27:03.923410Z"
    }
   },
   "id": "b9fddb0927ca2b2",
   "execution_count": 6
  },
  {
   "cell_type": "markdown",
   "id": "1d6d2a04",
   "metadata": {},
   "source": [
    "### Python lists\n",
    "\n",
    "Python lists might contain items of different types (also could be list of lists), but usually the items all have the same type.\n",
    "\n",
    "It is similar to the list in JavaScript -- it has append, insert, index, ... functions. \n",
    "\n",
    "The next cell shows some examples.\n",
    " \n",
    "More information can be found here: https://docs.python.org/3/tutorial/datastructures.html\n",
    "\n",
    "Run the next cell, check the outputs"
   ]
  },
  {
   "cell_type": "code",
   "execution_count": 11,
   "id": "73ed2e79",
   "metadata": {
    "ExecuteTime": {
     "end_time": "2024-10-18T12:19:24.610919Z",
     "start_time": "2024-10-18T12:19:24.607176Z"
    }
   },
   "outputs": [
    {
     "name": "stdout",
     "output_type": "stream",
     "text": [
      "Python list ls2= [2, 'Sunny', 6, None, [1, 2, 3]]\n",
      "Updated ls2= [2, 'Sunny', 6, None, [1, 2, 3], 199]\n",
      "Index of 199= 5\n",
      "The 2nd to the 4th items are ['Sunny', 6, None]\n",
      "The 3rd item in the 5th item of ls2 is 3\n",
      "'+' works as append ls10 + ls11 = [1, 2, 3, 4, 5, 6]\n"
     ]
    }
   ],
   "source": [
    "ls2 = [2, 'Sunny', 6, None, [1, 2, 3]]\n",
    "print(f\"Python list ls2= {ls2}\")\n",
    "\n",
    "ls2.append(199)\n",
    "print(f\"Updated ls2= {ls2}\")\n",
    "\n",
    "id199 = ls2.index(199)\n",
    "print(f\"Index of 199= {id199}\")\n",
    "\n",
    "ls234 = ls2[1:4]\n",
    "print(f\"The 2nd to the 4th items are {ls234}\")\n",
    "\n",
    "item_5_3 = ls2[4][2]\n",
    "print(f\"The 3rd item in the 5th item of ls2 is {item_5_3}\")\n",
    "\n",
    "ls10 = [1, 2, 3]\n",
    "ls11 = [4, 5, 6]\n",
    "ls12 = ls10 + ls11\n",
    "print(f\"'+' works as append ls10 + ls11 = {ls12}\")"
   ]
  },
  {
   "cell_type": "markdown",
   "id": "b9f98ebc",
   "metadata": {},
   "source": [
    "The zip() function returns a zip object, which is an iterator of tuples where the first item in each passed iterator is paired together,  and then the second item in each passed iterator are paired together etc."
   ]
  },
  {
   "cell_type": "code",
   "execution_count": 18,
   "id": "92b2dd9c",
   "metadata": {
    "ExecuteTime": {
     "end_time": "2024-10-18T12:28:03.489154Z",
     "start_time": "2024-10-18T12:28:03.486301Z"
    }
   },
   "outputs": [
    {
     "name": "stdout",
     "output_type": "stream",
     "text": [
      "zip(ls10, ls11)=((1, 4), (2, 5), (3, 6))\n"
     ]
    }
   ],
   "source": [
    "ls13 = zip(ls10, ls11)\n",
    "print(f\"zip(ls10, ls11)={tuple(ls13)}\")"
   ]
  },
  {
   "cell_type": "markdown",
   "id": "280a3af6",
   "metadata": {},
   "source": [
    "Add a new cell below, and check the value of tuple(ls13), what will you get? Why? "
   ]
  },
  {
   "cell_type": "code",
   "outputs": [
    {
     "name": "stdout",
     "output_type": "stream",
     "text": [
      "ls13=()\n"
     ]
    }
   ],
   "source": [
    "tuple(ls13)\n",
    "\n",
    "print(f\"ls13={tuple(ls13)}\")"
   ],
   "metadata": {
    "collapsed": false,
    "ExecuteTime": {
     "end_time": "2024-10-18T12:28:05.322726Z",
     "start_time": "2024-10-18T12:28:05.319743Z"
    }
   },
   "id": "b67f2730e303b558",
   "execution_count": 19
  },
  {
   "cell_type": "markdown",
   "id": "9ada5b39",
   "metadata": {},
   "source": [
    "### Numpy arrays \n",
    "\n",
    "NumPy supports for large, multi-dimensional arrays and matrices, along with a large collection of high-level mathematical functions to operate on these arrays. --> Offer specialized functions for numerical operations with high performance.\n",
    "\n",
    "Different from Python list, all the items in one Numpy array must have the same type/length --> consume less memory compared with lists \n",
    "\n",
    "https://numpy.org/doc/stable/reference/generated/numpy.array.html\n",
    "\n",
    "#### First, let's create some arrays and retrieve some items from them."
   ]
  },
  {
   "cell_type": "code",
   "execution_count": 25,
   "id": "7da82dc8",
   "metadata": {
    "ExecuteTime": {
     "end_time": "2024-10-18T12:31:14.470143Z",
     "start_time": "2024-10-18T12:31:14.461943Z"
    }
   },
   "outputs": [
    {
     "name": "stdout",
     "output_type": "stream",
     "text": [
      "1D array: \n",
      " [1 2 3 4 5] \n",
      "\n",
      "\n",
      "2D array: \n",
      " [[1 2 3]\n",
      " [4 5 6]\n",
      " [7 8 9]]\n",
      "\n",
      "2nd item in the 1st item:  2\n",
      "Row 1, Column 2:  2\n",
      "Row 3, Column 2:  8 \n",
      "\n",
      "\n",
      "3D array: \n",
      " [[[1 2 3]\n",
      "  [4 5 6]]\n",
      "\n",
      " [[1 2 3]\n",
      "  [4 5 6]]] \n"
     ]
    },
    {
     "data": {
      "text/plain": "array([[ 0,  1,  2,  3],\n       [ 4,  5,  6,  7],\n       [ 8,  9, 10, 11]])"
     },
     "metadata": {},
     "output_type": "display_data"
    },
    {
     "data": {
      "text/plain": "array([ 6, 22, 38])"
     },
     "execution_count": 25,
     "metadata": {},
     "output_type": "execute_result"
    }
   ],
   "source": [
    "d1 = np.array([1, 2, 3, 4, 5])\n",
    "print(f\"1D array: \\n\", d1, \"\\n\")\n",
    "\n",
    "d2 = np.array([[1, 2, 3], [4, 5, 6], [7, 8, 9]])\n",
    "print(f\"\\n2D array: \\n\", d2)\n",
    "print('\\n2nd item in the 1st item: ', d2[0][1])\n",
    "print('Row 1, Column 2: ', d2[0, 1])\n",
    "print(f\"Row 3, Column 2: \", d2[2, 1], \"\\n\")\n",
    "\n",
    "d3 = np.array([[[1, 2, 3], [4, 5, 6]], [[1, 2, 3], [4, 5, 6]]])\n",
    "print(f\"\\n3D array: \\n\", d3, \"\\n\")\n",
    "\n",
    "# Error:\n",
    "#d3 = np.array([[[1, 2, 3, 100], [4, 5, 6]], [[1, 2, 3], [4, 5, 6]]])\n",
    "\n",
    "# Check what is the result: \n",
    "x = np.arange(12).reshape((3, 4))\n",
    "display(x)\n",
    "x.sum(axis=1)"
   ]
  },
  {
   "cell_type": "markdown",
   "id": "92b78473",
   "metadata": {},
   "source": [
    "#### You can operate arrays as vectors/matrices.\n",
    "\n",
    "https://numpy.org/doc/stable/reference/routines.linalg.html\n",
    "\n",
    "*Run the following cells, what are those calculation results?*"
   ]
  },
  {
   "cell_type": "code",
   "execution_count": 35,
   "id": "32d8e6ca",
   "metadata": {
    "ExecuteTime": {
     "end_time": "2024-10-18T12:48:39.201166Z",
     "start_time": "2024-10-18T12:48:39.197675Z"
    }
   },
   "outputs": [
    {
     "name": "stdout",
     "output_type": "stream",
     "text": [
      "d1           = [1 2 3 4 5]\n",
      "d4           = [10 10 10 10 10]\n",
      "d5 = d1 + d4 = [11 12 13 14 15]\n"
     ]
    }
   ],
   "source": [
    "d4 = np.array([10, 10, 10, 10, 10])\n",
    "d5 = d1 + d4\n",
    "print(f\"d1           = {d1}\")\n",
    "print(f\"d4           = {d4}\")\n",
    "print(f\"d5 = d1 + d4 = {d5}\")"
   ]
  },
  {
   "cell_type": "code",
   "execution_count": 41,
   "id": "3a40f084",
   "metadata": {
    "ExecuteTime": {
     "end_time": "2024-10-18T12:54:18.631049Z",
     "start_time": "2024-10-18T12:54:18.628724Z"
    }
   },
   "outputs": [
    {
     "name": "stdout",
     "output_type": "stream",
     "text": [
      "d1          = [1 2 3 4 5]\n",
      "d6 = 2 * d1 = [ 2  4  6  8 10]\n"
     ]
    }
   ],
   "source": [
    "d6 = 2 * d1\n",
    "print(f\"d1          = {d1}\")\n",
    "print(f\"d6 = 2 * d1 = {d6}\")"
   ]
  },
  {
   "cell_type": "code",
   "execution_count": 42,
   "id": "c753f532",
   "metadata": {
    "ExecuteTime": {
     "end_time": "2024-10-18T12:55:10.084762Z",
     "start_time": "2024-10-18T12:55:10.082128Z"
    }
   },
   "outputs": [
    {
     "name": "stdout",
     "output_type": "stream",
     "text": [
      "d1           = [1 2 3 4 5]\n",
      "d4           = [10 10 10 10 10]\n",
      "d7 = d1 * d4 = [10 20 30 40 50]\n"
     ]
    }
   ],
   "source": [
    "d7 = d1 * d4\n",
    "print(f\"d1           = {d1}\")\n",
    "print(f\"d4           = {d4}\")\n",
    "print(f\"d7 = d1 * d4 = {d7}\")"
   ]
  },
  {
   "cell_type": "code",
   "execution_count": 43,
   "id": "e8be15c4",
   "metadata": {
    "ExecuteTime": {
     "end_time": "2024-10-18T12:55:46.322565Z",
     "start_time": "2024-10-18T12:55:46.319150Z"
    }
   },
   "outputs": [
    {
     "name": "stdout",
     "output_type": "stream",
     "text": [
      "d1                  = [1 2 3 4 5]\n",
      "d4                  = [10 10 10 10 10]\n",
      "d8 = np.dot(d1, d4) = [10 20 30 40 50]\n"
     ]
    }
   ],
   "source": [
    "d8 = np.dot(d1, d4)\n",
    "print(f\"d1                  = {d1}\")\n",
    "print(f\"d4                  = {d4}\")\n",
    "print(f\"d8 = np.dot(d1, d4) = {d7}\")"
   ]
  },
  {
   "cell_type": "code",
   "execution_count": 45,
   "id": "d4fa0c89",
   "metadata": {
    "ExecuteTime": {
     "end_time": "2024-10-18T12:56:20.527295Z",
     "start_time": "2024-10-18T12:56:20.524016Z"
    }
   },
   "outputs": [
    {
     "data": {
      "text/plain": "22.360679774997898"
     },
     "execution_count": 45,
     "metadata": {},
     "output_type": "execute_result"
    }
   ],
   "source": [
    "from numpy import linalg as LA\n",
    "\n",
    "n4 = LA.norm(d4)\n",
    "n4"
   ]
  },
  {
   "cell_type": "markdown",
   "id": "f3b623c1",
   "metadata": {},
   "source": [
    "### Pandas series\n",
    "\n",
    "Pandas series is a ***one-dimensional labeled*** array holding data of any type such as integers, strings, Python objects etc.\n",
    "- Pandas Series is one dimensional.\n",
    "- Pandas Series has an explicitly defined index associated with values.\n",
    "- Pandas Series allows different data types, including objects.\n",
    "\n",
    "https://pandas.pydata.org/docs/reference/series.html\n",
    "\n",
    "*Run the followin cell. check the difference between s1 and any np array. Compare d1 and s2.*\n"
   ]
  },
  {
   "cell_type": "code",
   "execution_count": 46,
   "id": "b609e6c8",
   "metadata": {
    "ExecuteTime": {
     "end_time": "2024-10-18T12:57:13.585697Z",
     "start_time": "2024-10-18T12:57:13.578645Z"
    }
   },
   "outputs": [
    {
     "data": {
      "text/plain": "0    [1, a, 3]\n1    [4, 5, 6]\n2    [7, 8, 9]\ndtype: object"
     },
     "metadata": {},
     "output_type": "display_data"
    },
    {
     "name": "stdout",
     "output_type": "stream",
     "text": [
      "Original d1=[1 2 3 4 5]\n"
     ]
    },
    {
     "data": {
      "text/plain": "0    1\n1    2\n2    3\n3    4\n4    5\ndtype: int64"
     },
     "metadata": {},
     "output_type": "display_data"
    }
   ],
   "source": [
    "# One dimension\n",
    "s1 = pd.Series([[1, 'a', 3], [4, 5, 6], [7, 8, 9]])\n",
    "display(s1)\n",
    "\n",
    "# You may convert an array into a Series\n",
    "print(f\"Original d1={d1}\")\n",
    "s2 = pd.Series(d1)\n",
    "display(s2)"
   ]
  },
  {
   "cell_type": "markdown",
   "id": "c86232de",
   "metadata": {},
   "source": [
    "You may define the index when creating a Series `s2 = pd.Series([2, 4, 6, np.nan, 8], index=['a', 'b', 'c', 'd', 'e'])`. \n",
    "\n",
    "*Check the value of s2:*"
   ]
  },
  {
   "cell_type": "code",
   "execution_count": 50,
   "id": "9071ca75",
   "metadata": {
    "ExecuteTime": {
     "end_time": "2024-10-18T12:59:40.725154Z",
     "start_time": "2024-10-18T12:59:40.721826Z"
    }
   },
   "outputs": [
    {
     "data": {
      "text/plain": "a        2\nb        4\nc    Hallo\nd      NaN\ne        8\ndtype: object"
     },
     "metadata": {},
     "output_type": "display_data"
    }
   ],
   "source": [
    "s2 = pd.Series([2, 4, 'Hallo', np.nan, 8], index=['a', 'b', 'c', 'd', 'e'])\n",
    "display(s2)"
   ]
  },
  {
   "cell_type": "markdown",
   "id": "b389142e",
   "metadata": {},
   "source": [
    "You may also create Series by passing a dictionary `s3 = pd.Series(data={'a': 1, 'b': 2, 'c': 3})`"
   ]
  },
  {
   "cell_type": "code",
   "execution_count": 52,
   "id": "dcdd36e0",
   "metadata": {
    "ExecuteTime": {
     "end_time": "2024-10-18T12:59:52.312921Z",
     "start_time": "2024-10-18T12:59:52.310046Z"
    }
   },
   "outputs": [
    {
     "data": {
      "text/plain": "a    1\nb    2\nc    3\ndtype: int64"
     },
     "metadata": {},
     "output_type": "display_data"
    }
   ],
   "source": [
    "s3 = pd.Series(data={'a': 1, 'b': 2, 'c': 3})\n",
    "display(s3)"
   ]
  },
  {
   "cell_type": "markdown",
   "id": "2e49ab38",
   "metadata": {},
   "source": [
    "*How to retrieve value 2 of s3? How to retrieve values indexed by b, c, d of s2?*"
   ]
  },
  {
   "cell_type": "code",
   "execution_count": 53,
   "id": "e7a4a6ff",
   "metadata": {
    "ExecuteTime": {
     "end_time": "2024-10-18T13:04:48.045820Z",
     "start_time": "2024-10-18T13:04:48.035903Z"
    }
   },
   "outputs": [
    {
     "data": {
      "text/plain": "2"
     },
     "metadata": {},
     "output_type": "display_data"
    },
    {
     "data": {
      "text/plain": "b        4\nc    Hallo\nd      NaN\ndtype: object"
     },
     "execution_count": 53,
     "metadata": {},
     "output_type": "execute_result"
    }
   ],
   "source": [
    "display(s3['b'])\n",
    "s2['b':'d']"
   ]
  },
  {
   "cell_type": "code",
   "outputs": [],
   "source": [],
   "metadata": {
    "collapsed": false
   },
   "id": "eeb038e58c9fb636"
  },
  {
   "cell_type": "markdown",
   "id": "46f38710",
   "metadata": {},
   "source": [
    "## DataFrame\n",
    "\n",
    "DataFrame is a two-dimensional data structure that holds data like a two-dimensional array or a table with rows and columns.\n",
    "\n",
    "https://pandas.pydata.org/docs/reference/frame.html\n",
    "\n",
    "There are various ways to initialize a dataframe. \n",
    "\n",
    "*Run the following cells and check the outcome.*\n"
   ]
  },
  {
   "cell_type": "code",
   "execution_count": 54,
   "id": "9a678781",
   "metadata": {
    "ExecuteTime": {
     "end_time": "2024-10-18T13:26:22.059173Z",
     "start_time": "2024-10-18T13:26:22.052232Z"
    }
   },
   "outputs": [
    {
     "data": {
      "text/plain": "    Name  Age\n0    Tom   18\n1  Jerry   24\n2  Emily   18\n3    Amy   22",
      "text/html": "<div>\n<style scoped>\n    .dataframe tbody tr th:only-of-type {\n        vertical-align: middle;\n    }\n\n    .dataframe tbody tr th {\n        vertical-align: top;\n    }\n\n    .dataframe thead th {\n        text-align: right;\n    }\n</style>\n<table border=\"1\" class=\"dataframe\">\n  <thead>\n    <tr style=\"text-align: right;\">\n      <th></th>\n      <th>Name</th>\n      <th>Age</th>\n    </tr>\n  </thead>\n  <tbody>\n    <tr>\n      <th>0</th>\n      <td>Tom</td>\n      <td>18</td>\n    </tr>\n    <tr>\n      <th>1</th>\n      <td>Jerry</td>\n      <td>24</td>\n    </tr>\n    <tr>\n      <th>2</th>\n      <td>Emily</td>\n      <td>18</td>\n    </tr>\n    <tr>\n      <th>3</th>\n      <td>Amy</td>\n      <td>22</td>\n    </tr>\n  </tbody>\n</table>\n</div>"
     },
     "metadata": {},
     "output_type": "display_data"
    }
   ],
   "source": [
    "data1 = {'Name': [\"Tom\", \"Jerry\", \"Emily\", \"Amy\"], 'Age': [18, 24, 18, 22]}\n",
    "df1 = pd.DataFrame(data1)\n",
    "display(df1)"
   ]
  },
  {
   "cell_type": "code",
   "execution_count": 56,
   "id": "e13103fe",
   "metadata": {
    "ExecuteTime": {
     "end_time": "2024-10-18T13:27:15.934251Z",
     "start_time": "2024-10-18T13:27:15.928742Z"
    }
   },
   "outputs": [
    {
     "data": {
      "text/plain": "   col1 col2\n0    10  NaN\n1    11  NaN\n2    12    A\n3    13    B",
      "text/html": "<div>\n<style scoped>\n    .dataframe tbody tr th:only-of-type {\n        vertical-align: middle;\n    }\n\n    .dataframe tbody tr th {\n        vertical-align: top;\n    }\n\n    .dataframe thead th {\n        text-align: right;\n    }\n</style>\n<table border=\"1\" class=\"dataframe\">\n  <thead>\n    <tr style=\"text-align: right;\">\n      <th></th>\n      <th>col1</th>\n      <th>col2</th>\n    </tr>\n  </thead>\n  <tbody>\n    <tr>\n      <th>0</th>\n      <td>10</td>\n      <td>NaN</td>\n    </tr>\n    <tr>\n      <th>1</th>\n      <td>11</td>\n      <td>NaN</td>\n    </tr>\n    <tr>\n      <th>2</th>\n      <td>12</td>\n      <td>A</td>\n    </tr>\n    <tr>\n      <th>3</th>\n      <td>13</td>\n      <td>B</td>\n    </tr>\n  </tbody>\n</table>\n</div>"
     },
     "metadata": {},
     "output_type": "display_data"
    }
   ],
   "source": [
    "data2 = {'col1': [10, 11, 12, 13], 'col2': pd.Series(['A', 'B'], index=[2, 3])}\n",
    "\n",
    "#Error:\n",
    "#pd.DataFrame(data=data2)\n",
    "\n",
    "dfWithNaA = pd.DataFrame(data=data2, index=[0, 1, 2, 3])\n",
    "display(dfWithNaA)"
   ]
  },
  {
   "cell_type": "code",
   "execution_count": 60,
   "id": "52275de1",
   "metadata": {
    "ExecuteTime": {
     "end_time": "2024-10-18T13:28:04.541449Z",
     "start_time": "2024-10-18T13:28:04.535699Z"
    }
   },
   "outputs": [
    {
     "data": {
      "text/plain": "   a  b  c\n0  1  2  3\n1  4  5  6\n2  7  8  9",
      "text/html": "<div>\n<style scoped>\n    .dataframe tbody tr th:only-of-type {\n        vertical-align: middle;\n    }\n\n    .dataframe tbody tr th {\n        vertical-align: top;\n    }\n\n    .dataframe thead th {\n        text-align: right;\n    }\n</style>\n<table border=\"1\" class=\"dataframe\">\n  <thead>\n    <tr style=\"text-align: right;\">\n      <th></th>\n      <th>a</th>\n      <th>b</th>\n      <th>c</th>\n    </tr>\n  </thead>\n  <tbody>\n    <tr>\n      <th>0</th>\n      <td>1</td>\n      <td>2</td>\n      <td>3</td>\n    </tr>\n    <tr>\n      <th>1</th>\n      <td>4</td>\n      <td>5</td>\n      <td>6</td>\n    </tr>\n    <tr>\n      <th>2</th>\n      <td>7</td>\n      <td>8</td>\n      <td>9</td>\n    </tr>\n  </tbody>\n</table>\n</div>"
     },
     "metadata": {},
     "output_type": "display_data"
    }
   ],
   "source": [
    "df2 = pd.DataFrame(np.array([[1, 2, 3], [4, 5, 6], [7, 8, 9]]),\n",
    "                   columns=['a', 'b', 'c'])\n",
    "display(df2)"
   ]
  },
  {
   "cell_type": "markdown",
   "id": "d900d499",
   "metadata": {},
   "source": [
    "#### To use Numpy functions, you can convert dataframe into array"
   ]
  },
  {
   "cell_type": "code",
   "execution_count": 61,
   "id": "547d3731",
   "metadata": {
    "ExecuteTime": {
     "end_time": "2024-10-18T13:28:23.457854Z",
     "start_time": "2024-10-18T13:28:23.453684Z"
    }
   },
   "outputs": [
    {
     "data": {
      "text/plain": "array([[1, 2, 3],\n       [4, 5, 6],\n       [7, 8, 9]])"
     },
     "execution_count": 61,
     "metadata": {},
     "output_type": "execute_result"
    }
   ],
   "source": [
    "df2.to_numpy()"
   ]
  },
  {
   "cell_type": "markdown",
   "id": "2ea6012f",
   "metadata": {},
   "source": [
    "If there are different data types in the dataframe, they will be converted to \"objects\""
   ]
  },
  {
   "cell_type": "code",
   "execution_count": 62,
   "id": "eaf3066b",
   "metadata": {
    "ExecuteTime": {
     "end_time": "2024-10-18T13:28:59.833851Z",
     "start_time": "2024-10-18T13:28:59.814953Z"
    }
   },
   "outputs": [
    {
     "data": {
      "text/plain": "   A          B    C  D      E    F\n0  1 2024-02-23  1.0  3   test  foo\n1  1 2024-02-23  1.0  3  train  foo\n2  1 2024-02-23  1.0  3   test  foo\n3  1 2024-02-23  1.0  3  train  foo",
      "text/html": "<div>\n<style scoped>\n    .dataframe tbody tr th:only-of-type {\n        vertical-align: middle;\n    }\n\n    .dataframe tbody tr th {\n        vertical-align: top;\n    }\n\n    .dataframe thead th {\n        text-align: right;\n    }\n</style>\n<table border=\"1\" class=\"dataframe\">\n  <thead>\n    <tr style=\"text-align: right;\">\n      <th></th>\n      <th>A</th>\n      <th>B</th>\n      <th>C</th>\n      <th>D</th>\n      <th>E</th>\n      <th>F</th>\n    </tr>\n  </thead>\n  <tbody>\n    <tr>\n      <th>0</th>\n      <td>1</td>\n      <td>2024-02-23</td>\n      <td>1.0</td>\n      <td>3</td>\n      <td>test</td>\n      <td>foo</td>\n    </tr>\n    <tr>\n      <th>1</th>\n      <td>1</td>\n      <td>2024-02-23</td>\n      <td>1.0</td>\n      <td>3</td>\n      <td>train</td>\n      <td>foo</td>\n    </tr>\n    <tr>\n      <th>2</th>\n      <td>1</td>\n      <td>2024-02-23</td>\n      <td>1.0</td>\n      <td>3</td>\n      <td>test</td>\n      <td>foo</td>\n    </tr>\n    <tr>\n      <th>3</th>\n      <td>1</td>\n      <td>2024-02-23</td>\n      <td>1.0</td>\n      <td>3</td>\n      <td>train</td>\n      <td>foo</td>\n    </tr>\n  </tbody>\n</table>\n</div>"
     },
     "metadata": {},
     "output_type": "display_data"
    },
    {
     "data": {
      "text/plain": "array([[1, Timestamp('2024-02-23 00:00:00'), 1.0, 3, 'test', 'foo'],\n       [1, Timestamp('2024-02-23 00:00:00'), 1.0, 3, 'train', 'foo'],\n       [1, Timestamp('2024-02-23 00:00:00'), 1.0, 3, 'test', 'foo'],\n       [1, Timestamp('2024-02-23 00:00:00'), 1.0, 3, 'train', 'foo']],\n      dtype=object)"
     },
     "execution_count": 62,
     "metadata": {},
     "output_type": "execute_result"
    }
   ],
   "source": [
    "df3 = pd.DataFrame(\n",
    "    {\n",
    "        \"A\": 1,\n",
    "        \"B\": pd.Timestamp(\"20240223\"),\n",
    "        \"C\": pd.Series(1, index=list(range(4)), dtype=\"float32\"),\n",
    "        \"D\": np.array([3] * 4, dtype=\"int32\"),\n",
    "        \"E\": pd.Categorical([\"test\", \"train\", \"test\", \"train\"]),\n",
    "        \"F\": \"foo\",\n",
    "    }\n",
    ")\n",
    "display(df3)\n",
    "df3.to_numpy()"
   ]
  },
  {
   "cell_type": "markdown",
   "id": "908fdf7b",
   "metadata": {},
   "source": [
    "### Overview of the datafile\n",
    "\n",
    "With DataFrame, you can conviniently load data and have overview."
   ]
  },
  {
   "cell_type": "code",
   "execution_count": 102,
   "id": "0e5402d6",
   "metadata": {
    "ExecuteTime": {
     "end_time": "2024-10-18T13:37:54.254236Z",
     "start_time": "2024-10-18T13:37:54.247916Z"
    }
   },
   "outputs": [
    {
     "data": {
      "text/plain": "        TV  Radio  Newspaper  Sales\n0    230.1   37.8       69.2   22.1\n1     44.5   39.3       45.1   10.4\n2     17.2   45.9       69.3   12.0\n3    151.5   41.3       58.5   16.5\n4    180.8   10.8       58.4   17.9\n..     ...    ...        ...    ...\n195   38.2    3.7       13.8    7.6\n196   94.2    4.9        8.1   14.0\n197  177.0    9.3        6.4   14.8\n198  283.6   42.0       66.2   25.5\n199  232.1    8.6        8.7   18.4\n\n[200 rows x 4 columns]",
      "text/html": "<div>\n<style scoped>\n    .dataframe tbody tr th:only-of-type {\n        vertical-align: middle;\n    }\n\n    .dataframe tbody tr th {\n        vertical-align: top;\n    }\n\n    .dataframe thead th {\n        text-align: right;\n    }\n</style>\n<table border=\"1\" class=\"dataframe\">\n  <thead>\n    <tr style=\"text-align: right;\">\n      <th></th>\n      <th>TV</th>\n      <th>Radio</th>\n      <th>Newspaper</th>\n      <th>Sales</th>\n    </tr>\n  </thead>\n  <tbody>\n    <tr>\n      <th>0</th>\n      <td>230.1</td>\n      <td>37.8</td>\n      <td>69.2</td>\n      <td>22.1</td>\n    </tr>\n    <tr>\n      <th>1</th>\n      <td>44.5</td>\n      <td>39.3</td>\n      <td>45.1</td>\n      <td>10.4</td>\n    </tr>\n    <tr>\n      <th>2</th>\n      <td>17.2</td>\n      <td>45.9</td>\n      <td>69.3</td>\n      <td>12.0</td>\n    </tr>\n    <tr>\n      <th>3</th>\n      <td>151.5</td>\n      <td>41.3</td>\n      <td>58.5</td>\n      <td>16.5</td>\n    </tr>\n    <tr>\n      <th>4</th>\n      <td>180.8</td>\n      <td>10.8</td>\n      <td>58.4</td>\n      <td>17.9</td>\n    </tr>\n    <tr>\n      <th>...</th>\n      <td>...</td>\n      <td>...</td>\n      <td>...</td>\n      <td>...</td>\n    </tr>\n    <tr>\n      <th>195</th>\n      <td>38.2</td>\n      <td>3.7</td>\n      <td>13.8</td>\n      <td>7.6</td>\n    </tr>\n    <tr>\n      <th>196</th>\n      <td>94.2</td>\n      <td>4.9</td>\n      <td>8.1</td>\n      <td>14.0</td>\n    </tr>\n    <tr>\n      <th>197</th>\n      <td>177.0</td>\n      <td>9.3</td>\n      <td>6.4</td>\n      <td>14.8</td>\n    </tr>\n    <tr>\n      <th>198</th>\n      <td>283.6</td>\n      <td>42.0</td>\n      <td>66.2</td>\n      <td>25.5</td>\n    </tr>\n    <tr>\n      <th>199</th>\n      <td>232.1</td>\n      <td>8.6</td>\n      <td>8.7</td>\n      <td>18.4</td>\n    </tr>\n  </tbody>\n</table>\n<p>200 rows × 4 columns</p>\n</div>"
     },
     "metadata": {},
     "output_type": "display_data"
    }
   ],
   "source": [
    "df = pd.read_csv(\"../Data/advertising.csv\")\n",
    "display(df)"
   ]
  },
  {
   "cell_type": "markdown",
   "id": "eb6729b8",
   "metadata": {},
   "source": [
    "*Try the following commands. What are their functions?*"
   ]
  },
  {
   "cell_type": "code",
   "execution_count": 65,
   "id": "39daa795",
   "metadata": {
    "ExecuteTime": {
     "end_time": "2024-10-18T13:30:29.724747Z",
     "start_time": "2024-10-18T13:30:29.719217Z"
    }
   },
   "outputs": [
    {
     "data": {
      "text/plain": "      TV  Radio  Newspaper  Sales\n0  230.1   37.8       69.2   22.1\n1   44.5   39.3       45.1   10.4\n2   17.2   45.9       69.3   12.0\n3  151.5   41.3       58.5   16.5\n4  180.8   10.8       58.4   17.9",
      "text/html": "<div>\n<style scoped>\n    .dataframe tbody tr th:only-of-type {\n        vertical-align: middle;\n    }\n\n    .dataframe tbody tr th {\n        vertical-align: top;\n    }\n\n    .dataframe thead th {\n        text-align: right;\n    }\n</style>\n<table border=\"1\" class=\"dataframe\">\n  <thead>\n    <tr style=\"text-align: right;\">\n      <th></th>\n      <th>TV</th>\n      <th>Radio</th>\n      <th>Newspaper</th>\n      <th>Sales</th>\n    </tr>\n  </thead>\n  <tbody>\n    <tr>\n      <th>0</th>\n      <td>230.1</td>\n      <td>37.8</td>\n      <td>69.2</td>\n      <td>22.1</td>\n    </tr>\n    <tr>\n      <th>1</th>\n      <td>44.5</td>\n      <td>39.3</td>\n      <td>45.1</td>\n      <td>10.4</td>\n    </tr>\n    <tr>\n      <th>2</th>\n      <td>17.2</td>\n      <td>45.9</td>\n      <td>69.3</td>\n      <td>12.0</td>\n    </tr>\n    <tr>\n      <th>3</th>\n      <td>151.5</td>\n      <td>41.3</td>\n      <td>58.5</td>\n      <td>16.5</td>\n    </tr>\n    <tr>\n      <th>4</th>\n      <td>180.8</td>\n      <td>10.8</td>\n      <td>58.4</td>\n      <td>17.9</td>\n    </tr>\n  </tbody>\n</table>\n</div>"
     },
     "metadata": {},
     "output_type": "display_data"
    }
   ],
   "source": [
    "display(df.head(5))"
   ]
  },
  {
   "cell_type": "code",
   "execution_count": 66,
   "id": "b06612f0",
   "metadata": {
    "ExecuteTime": {
     "end_time": "2024-10-18T13:30:34.140002Z",
     "start_time": "2024-10-18T13:30:34.134251Z"
    }
   },
   "outputs": [
    {
     "data": {
      "text/plain": "        TV  Radio  Newspaper  Sales\n190   39.5   41.1        5.8   10.8\n191   75.5   10.8        6.0   11.9\n192   17.2    4.1       31.6    5.9\n193  166.8   42.0        3.6   19.6\n194  149.7   35.6        6.0   17.3\n195   38.2    3.7       13.8    7.6\n196   94.2    4.9        8.1   14.0\n197  177.0    9.3        6.4   14.8\n198  283.6   42.0       66.2   25.5\n199  232.1    8.6        8.7   18.4",
      "text/html": "<div>\n<style scoped>\n    .dataframe tbody tr th:only-of-type {\n        vertical-align: middle;\n    }\n\n    .dataframe tbody tr th {\n        vertical-align: top;\n    }\n\n    .dataframe thead th {\n        text-align: right;\n    }\n</style>\n<table border=\"1\" class=\"dataframe\">\n  <thead>\n    <tr style=\"text-align: right;\">\n      <th></th>\n      <th>TV</th>\n      <th>Radio</th>\n      <th>Newspaper</th>\n      <th>Sales</th>\n    </tr>\n  </thead>\n  <tbody>\n    <tr>\n      <th>190</th>\n      <td>39.5</td>\n      <td>41.1</td>\n      <td>5.8</td>\n      <td>10.8</td>\n    </tr>\n    <tr>\n      <th>191</th>\n      <td>75.5</td>\n      <td>10.8</td>\n      <td>6.0</td>\n      <td>11.9</td>\n    </tr>\n    <tr>\n      <th>192</th>\n      <td>17.2</td>\n      <td>4.1</td>\n      <td>31.6</td>\n      <td>5.9</td>\n    </tr>\n    <tr>\n      <th>193</th>\n      <td>166.8</td>\n      <td>42.0</td>\n      <td>3.6</td>\n      <td>19.6</td>\n    </tr>\n    <tr>\n      <th>194</th>\n      <td>149.7</td>\n      <td>35.6</td>\n      <td>6.0</td>\n      <td>17.3</td>\n    </tr>\n    <tr>\n      <th>195</th>\n      <td>38.2</td>\n      <td>3.7</td>\n      <td>13.8</td>\n      <td>7.6</td>\n    </tr>\n    <tr>\n      <th>196</th>\n      <td>94.2</td>\n      <td>4.9</td>\n      <td>8.1</td>\n      <td>14.0</td>\n    </tr>\n    <tr>\n      <th>197</th>\n      <td>177.0</td>\n      <td>9.3</td>\n      <td>6.4</td>\n      <td>14.8</td>\n    </tr>\n    <tr>\n      <th>198</th>\n      <td>283.6</td>\n      <td>42.0</td>\n      <td>66.2</td>\n      <td>25.5</td>\n    </tr>\n    <tr>\n      <th>199</th>\n      <td>232.1</td>\n      <td>8.6</td>\n      <td>8.7</td>\n      <td>18.4</td>\n    </tr>\n  </tbody>\n</table>\n</div>"
     },
     "metadata": {},
     "output_type": "display_data"
    }
   ],
   "source": [
    "display(df.tail(10))"
   ]
  },
  {
   "cell_type": "code",
   "execution_count": 69,
   "id": "52d7c6d0",
   "metadata": {
    "ExecuteTime": {
     "end_time": "2024-10-18T13:31:02.277002Z",
     "start_time": "2024-10-18T13:31:02.273637Z"
    }
   },
   "outputs": [
    {
     "data": {
      "text/plain": "RangeIndex(start=0, stop=200, step=1)"
     },
     "metadata": {},
     "output_type": "display_data"
    }
   ],
   "source": [
    "display(df.index)"
   ]
  },
  {
   "cell_type": "code",
   "execution_count": 70,
   "id": "b6369fbe",
   "metadata": {
    "ExecuteTime": {
     "end_time": "2024-10-18T13:31:11.466089Z",
     "start_time": "2024-10-18T13:31:11.461676Z"
    }
   },
   "outputs": [
    {
     "data": {
      "text/plain": "TV           float64\nRadio        float64\nNewspaper    float64\nSales        float64\ndtype: object"
     },
     "metadata": {},
     "output_type": "display_data"
    }
   ],
   "source": [
    "\n",
    "display(df.dtypes)\n"
   ]
  },
  {
   "cell_type": "code",
   "execution_count": 71,
   "id": "d1c8e2fb",
   "metadata": {
    "ExecuteTime": {
     "end_time": "2024-10-18T13:32:57.781693Z",
     "start_time": "2024-10-18T13:32:57.771554Z"
    }
   },
   "outputs": [
    {
     "data": {
      "text/plain": "               TV       Radio   Newspaper       Sales\ncount  200.000000  200.000000  200.000000  200.000000\nmean   147.042500   23.264000   30.554000   15.130500\nstd     85.854236   14.846809   21.778621    5.283892\nmin      0.700000    0.000000    0.300000    1.600000\n25%     74.375000    9.975000   12.750000   11.000000\n50%    149.750000   22.900000   25.750000   16.000000\n75%    218.825000   36.525000   45.100000   19.050000\nmax    296.400000   49.600000  114.000000   27.000000",
      "text/html": "<div>\n<style scoped>\n    .dataframe tbody tr th:only-of-type {\n        vertical-align: middle;\n    }\n\n    .dataframe tbody tr th {\n        vertical-align: top;\n    }\n\n    .dataframe thead th {\n        text-align: right;\n    }\n</style>\n<table border=\"1\" class=\"dataframe\">\n  <thead>\n    <tr style=\"text-align: right;\">\n      <th></th>\n      <th>TV</th>\n      <th>Radio</th>\n      <th>Newspaper</th>\n      <th>Sales</th>\n    </tr>\n  </thead>\n  <tbody>\n    <tr>\n      <th>count</th>\n      <td>200.000000</td>\n      <td>200.000000</td>\n      <td>200.000000</td>\n      <td>200.000000</td>\n    </tr>\n    <tr>\n      <th>mean</th>\n      <td>147.042500</td>\n      <td>23.264000</td>\n      <td>30.554000</td>\n      <td>15.130500</td>\n    </tr>\n    <tr>\n      <th>std</th>\n      <td>85.854236</td>\n      <td>14.846809</td>\n      <td>21.778621</td>\n      <td>5.283892</td>\n    </tr>\n    <tr>\n      <th>min</th>\n      <td>0.700000</td>\n      <td>0.000000</td>\n      <td>0.300000</td>\n      <td>1.600000</td>\n    </tr>\n    <tr>\n      <th>25%</th>\n      <td>74.375000</td>\n      <td>9.975000</td>\n      <td>12.750000</td>\n      <td>11.000000</td>\n    </tr>\n    <tr>\n      <th>50%</th>\n      <td>149.750000</td>\n      <td>22.900000</td>\n      <td>25.750000</td>\n      <td>16.000000</td>\n    </tr>\n    <tr>\n      <th>75%</th>\n      <td>218.825000</td>\n      <td>36.525000</td>\n      <td>45.100000</td>\n      <td>19.050000</td>\n    </tr>\n    <tr>\n      <th>max</th>\n      <td>296.400000</td>\n      <td>49.600000</td>\n      <td>114.000000</td>\n      <td>27.000000</td>\n    </tr>\n  </tbody>\n</table>\n</div>"
     },
     "execution_count": 71,
     "metadata": {},
     "output_type": "execute_result"
    }
   ],
   "source": [
    "\n",
    "df.describe()"
   ]
  },
  {
   "cell_type": "markdown",
   "id": "afc23658",
   "metadata": {},
   "source": [
    "### Select data from dataframe\n",
    "\n",
    "It is very convenient to select data from a dataframe. In addition to select by index, slicing, you can easily add conditional filters.\n",
    "\n",
    "*How to get the data in Column TV?*"
   ]
  },
  {
   "cell_type": "code",
   "execution_count": 72,
   "id": "cbc44ec8",
   "metadata": {
    "ExecuteTime": {
     "end_time": "2024-10-18T13:33:06.369229Z",
     "start_time": "2024-10-18T13:33:06.358600Z"
    }
   },
   "outputs": [
    {
     "data": {
      "text/plain": "        TV  Radio  Newspaper  Sales\n0    230.1   37.8       69.2   22.1\n1     44.5   39.3       45.1   10.4\n2     17.2   45.9       69.3   12.0\n3    151.5   41.3       58.5   16.5\n4    180.8   10.8       58.4   17.9\n..     ...    ...        ...    ...\n195   38.2    3.7       13.8    7.6\n196   94.2    4.9        8.1   14.0\n197  177.0    9.3        6.4   14.8\n198  283.6   42.0       66.2   25.5\n199  232.1    8.6        8.7   18.4\n\n[200 rows x 4 columns]",
      "text/html": "<div>\n<style scoped>\n    .dataframe tbody tr th:only-of-type {\n        vertical-align: middle;\n    }\n\n    .dataframe tbody tr th {\n        vertical-align: top;\n    }\n\n    .dataframe thead th {\n        text-align: right;\n    }\n</style>\n<table border=\"1\" class=\"dataframe\">\n  <thead>\n    <tr style=\"text-align: right;\">\n      <th></th>\n      <th>TV</th>\n      <th>Radio</th>\n      <th>Newspaper</th>\n      <th>Sales</th>\n    </tr>\n  </thead>\n  <tbody>\n    <tr>\n      <th>0</th>\n      <td>230.1</td>\n      <td>37.8</td>\n      <td>69.2</td>\n      <td>22.1</td>\n    </tr>\n    <tr>\n      <th>1</th>\n      <td>44.5</td>\n      <td>39.3</td>\n      <td>45.1</td>\n      <td>10.4</td>\n    </tr>\n    <tr>\n      <th>2</th>\n      <td>17.2</td>\n      <td>45.9</td>\n      <td>69.3</td>\n      <td>12.0</td>\n    </tr>\n    <tr>\n      <th>3</th>\n      <td>151.5</td>\n      <td>41.3</td>\n      <td>58.5</td>\n      <td>16.5</td>\n    </tr>\n    <tr>\n      <th>4</th>\n      <td>180.8</td>\n      <td>10.8</td>\n      <td>58.4</td>\n      <td>17.9</td>\n    </tr>\n    <tr>\n      <th>...</th>\n      <td>...</td>\n      <td>...</td>\n      <td>...</td>\n      <td>...</td>\n    </tr>\n    <tr>\n      <th>195</th>\n      <td>38.2</td>\n      <td>3.7</td>\n      <td>13.8</td>\n      <td>7.6</td>\n    </tr>\n    <tr>\n      <th>196</th>\n      <td>94.2</td>\n      <td>4.9</td>\n      <td>8.1</td>\n      <td>14.0</td>\n    </tr>\n    <tr>\n      <th>197</th>\n      <td>177.0</td>\n      <td>9.3</td>\n      <td>6.4</td>\n      <td>14.8</td>\n    </tr>\n    <tr>\n      <th>198</th>\n      <td>283.6</td>\n      <td>42.0</td>\n      <td>66.2</td>\n      <td>25.5</td>\n    </tr>\n    <tr>\n      <th>199</th>\n      <td>232.1</td>\n      <td>8.6</td>\n      <td>8.7</td>\n      <td>18.4</td>\n    </tr>\n  </tbody>\n</table>\n<p>200 rows × 4 columns</p>\n</div>"
     },
     "metadata": {},
     "output_type": "display_data"
    },
    {
     "name": "stdout",
     "output_type": "stream",
     "text": [
      "Column TV: \n",
      "0      230.1\n",
      "1       44.5\n",
      "2       17.2\n",
      "3      151.5\n",
      "4      180.8\n",
      "       ...  \n",
      "195     38.2\n",
      "196     94.2\n",
      "197    177.0\n",
      "198    283.6\n",
      "199    232.1\n",
      "Name: TV, Length: 200, dtype: float64 \n",
      "\n",
      "Column TV: \n",
      "0      230.1\n",
      "1       44.5\n",
      "2       17.2\n",
      "3      151.5\n",
      "4      180.8\n",
      "       ...  \n",
      "195     38.2\n",
      "196     94.2\n",
      "197    177.0\n",
      "198    283.6\n",
      "199    232.1\n",
      "Name: TV, Length: 200, dtype: float64 \n"
     ]
    }
   ],
   "source": [
    "display(df)\n",
    "\n",
    "print(f\"Column TV: \\n{df['TV']}\", \"\\n\")\n",
    "\n",
    "print(f\"Column TV: \\n{df.TV}\", \"\\n\")"
   ]
  },
  {
   "cell_type": "markdown",
   "id": "8aea6076",
   "metadata": {},
   "source": [
    "*How to get the data of Column TV and Column Newspaper?*"
   ]
  },
  {
   "cell_type": "code",
   "execution_count": 106,
   "id": "9e697b96",
   "metadata": {
    "ExecuteTime": {
     "end_time": "2024-10-18T13:38:07.159459Z",
     "start_time": "2024-10-18T13:38:07.151836Z"
    }
   },
   "outputs": [
    {
     "data": {
      "text/plain": "        TV  Newspaper\n0    230.1       69.2\n1     44.5       45.1\n2     17.2       69.3\n3    151.5       58.5\n4    180.8       58.4\n..     ...        ...\n195   38.2       13.8\n196   94.2        8.1\n197  177.0        6.4\n198  283.6       66.2\n199  232.1        8.7\n\n[200 rows x 2 columns]",
      "text/html": "<div>\n<style scoped>\n    .dataframe tbody tr th:only-of-type {\n        vertical-align: middle;\n    }\n\n    .dataframe tbody tr th {\n        vertical-align: top;\n    }\n\n    .dataframe thead th {\n        text-align: right;\n    }\n</style>\n<table border=\"1\" class=\"dataframe\">\n  <thead>\n    <tr style=\"text-align: right;\">\n      <th></th>\n      <th>TV</th>\n      <th>Newspaper</th>\n    </tr>\n  </thead>\n  <tbody>\n    <tr>\n      <th>0</th>\n      <td>230.1</td>\n      <td>69.2</td>\n    </tr>\n    <tr>\n      <th>1</th>\n      <td>44.5</td>\n      <td>45.1</td>\n    </tr>\n    <tr>\n      <th>2</th>\n      <td>17.2</td>\n      <td>69.3</td>\n    </tr>\n    <tr>\n      <th>3</th>\n      <td>151.5</td>\n      <td>58.5</td>\n    </tr>\n    <tr>\n      <th>4</th>\n      <td>180.8</td>\n      <td>58.4</td>\n    </tr>\n    <tr>\n      <th>...</th>\n      <td>...</td>\n      <td>...</td>\n    </tr>\n    <tr>\n      <th>195</th>\n      <td>38.2</td>\n      <td>13.8</td>\n    </tr>\n    <tr>\n      <th>196</th>\n      <td>94.2</td>\n      <td>8.1</td>\n    </tr>\n    <tr>\n      <th>197</th>\n      <td>177.0</td>\n      <td>6.4</td>\n    </tr>\n    <tr>\n      <th>198</th>\n      <td>283.6</td>\n      <td>66.2</td>\n    </tr>\n    <tr>\n      <th>199</th>\n      <td>232.1</td>\n      <td>8.7</td>\n    </tr>\n  </tbody>\n</table>\n<p>200 rows × 2 columns</p>\n</div>"
     },
     "execution_count": 106,
     "metadata": {},
     "output_type": "execute_result"
    }
   ],
   "source": [
    "df[[\"TV\", \"Newspaper\"]]"
   ]
  },
  {
   "cell_type": "markdown",
   "id": "10e8f57c",
   "metadata": {},
   "source": [
    "#### loc and iloc\n",
    "\n",
    "- loc gets rows and/or columns with particular labels.\n",
    "\n",
    "- iloc gets rows and/or columns at integer locations.\n",
    "\n",
    "To test them, let's create a new dataframe with random data:"
   ]
  },
  {
   "cell_type": "code",
   "execution_count": 107,
   "id": "5e54806c",
   "metadata": {
    "ExecuteTime": {
     "end_time": "2024-10-18T13:38:12.766634Z",
     "start_time": "2024-10-18T13:38:12.762091Z"
    }
   },
   "outputs": [],
   "source": [
    "dates = pd.date_range('2/1/2024', periods=8)\n",
    "\n",
    "#8-by-4 array of samples from the normal distribution\n",
    "df = pd.DataFrame(np.random.randn(8, 4),\n",
    "                  index=dates,\n",
    "                  columns=['A', 'B', 'C', 'D'])"
   ]
  },
  {
   "cell_type": "markdown",
   "id": "7ede6f00",
   "metadata": {},
   "source": [
    "*Show the value of B on 4 Feb 2024*\n",
    "*Hint: df.loc[row, column]*"
   ]
  },
  {
   "cell_type": "code",
   "execution_count": 108,
   "id": "dc585ae7",
   "metadata": {
    "ExecuteTime": {
     "end_time": "2024-10-18T13:38:16.064010Z",
     "start_time": "2024-10-18T13:38:16.060159Z"
    }
   },
   "outputs": [
    {
     "data": {
      "text/plain": "-0.35252457712657165"
     },
     "execution_count": 108,
     "metadata": {},
     "output_type": "execute_result"
    }
   ],
   "source": [
    "df.loc[\"2024-02-04\", \"B\"]"
   ]
  },
  {
   "cell_type": "markdown",
   "id": "999add64",
   "metadata": {},
   "source": [
    "*Show all values on 4 Feb 2024*"
   ]
  },
  {
   "cell_type": "code",
   "execution_count": 86,
   "id": "d204dc8e",
   "metadata": {
    "ExecuteTime": {
     "end_time": "2024-10-18T13:33:55.516857Z",
     "start_time": "2024-10-18T13:33:55.512732Z"
    }
   },
   "outputs": [
    {
     "data": {
      "text/plain": "A   -0.905252\nB   -0.580988\nC    0.418182\nD   -0.359589\nName: 2024-02-04 00:00:00, dtype: float64"
     },
     "execution_count": 86,
     "metadata": {},
     "output_type": "execute_result"
    }
   ],
   "source": [
    "df.loc[\"2024-02-04\"]"
   ]
  },
  {
   "cell_type": "markdown",
   "id": "c959b4e6",
   "metadata": {},
   "source": [
    "*Show all values of B by using df.loc[]*"
   ]
  },
  {
   "cell_type": "code",
   "execution_count": 90,
   "id": "871e0b31",
   "metadata": {
    "ExecuteTime": {
     "end_time": "2024-10-18T13:34:47.268468Z",
     "start_time": "2024-10-18T13:34:47.263196Z"
    }
   },
   "outputs": [
    {
     "data": {
      "text/plain": "2024-02-01    1.300655\n2024-02-02   -0.288856\n2024-02-03    0.793486\n2024-02-04   -0.580988\n2024-02-05   -0.349148\n2024-02-06   -0.253321\n2024-02-07   -1.033612\n2024-02-08   -0.373067\nFreq: D, Name: B, dtype: float64"
     },
     "execution_count": 90,
     "metadata": {},
     "output_type": "execute_result"
    }
   ],
   "source": [
    "df.loc[:, \"B\"]"
   ]
  },
  {
   "cell_type": "markdown",
   "id": "2efb6264",
   "metadata": {},
   "source": [
    "*Show the values of B and C, before (including) 4 Feb 2024*"
   ]
  },
  {
   "cell_type": "code",
   "execution_count": 91,
   "id": "0f16699c",
   "metadata": {
    "ExecuteTime": {
     "end_time": "2024-10-18T13:35:52.465688Z",
     "start_time": "2024-10-18T13:35:52.457999Z"
    }
   },
   "outputs": [
    {
     "data": {
      "text/plain": "                   B         C\n2024-02-01  1.300655  0.314083\n2024-02-02 -0.288856 -1.367699\n2024-02-03  0.793486 -0.085259\n2024-02-04 -0.580988  0.418182",
      "text/html": "<div>\n<style scoped>\n    .dataframe tbody tr th:only-of-type {\n        vertical-align: middle;\n    }\n\n    .dataframe tbody tr th {\n        vertical-align: top;\n    }\n\n    .dataframe thead th {\n        text-align: right;\n    }\n</style>\n<table border=\"1\" class=\"dataframe\">\n  <thead>\n    <tr style=\"text-align: right;\">\n      <th></th>\n      <th>B</th>\n      <th>C</th>\n    </tr>\n  </thead>\n  <tbody>\n    <tr>\n      <th>2024-02-01</th>\n      <td>1.300655</td>\n      <td>0.314083</td>\n    </tr>\n    <tr>\n      <th>2024-02-02</th>\n      <td>-0.288856</td>\n      <td>-1.367699</td>\n    </tr>\n    <tr>\n      <th>2024-02-03</th>\n      <td>0.793486</td>\n      <td>-0.085259</td>\n    </tr>\n    <tr>\n      <th>2024-02-04</th>\n      <td>-0.580988</td>\n      <td>0.418182</td>\n    </tr>\n  </tbody>\n</table>\n</div>"
     },
     "execution_count": 91,
     "metadata": {},
     "output_type": "execute_result"
    }
   ],
   "source": [
    "df.loc[:\"2024-02-04\" , \"B\":\"C\"]"
   ]
  },
  {
   "cell_type": "markdown",
   "id": "1409d777",
   "metadata": {},
   "source": [
    "*Show the second row by using df.iloc[row, column]*"
   ]
  },
  {
   "cell_type": "code",
   "execution_count": 109,
   "id": "8bb73aa5",
   "metadata": {
    "ExecuteTime": {
     "end_time": "2024-10-18T13:38:19.183640Z",
     "start_time": "2024-10-18T13:38:19.180297Z"
    }
   },
   "outputs": [
    {
     "data": {
      "text/plain": "A    0.841089\nB    1.377813\nC    0.323750\nD   -0.731331\nName: 2024-02-02 00:00:00, dtype: float64"
     },
     "execution_count": 109,
     "metadata": {},
     "output_type": "execute_result"
    }
   ],
   "source": [
    "df.iloc[1]"
   ]
  },
  {
   "cell_type": "markdown",
   "id": "b0d10d96",
   "metadata": {},
   "source": [
    "*Show the value in the second row and the second column*"
   ]
  },
  {
   "cell_type": "code",
   "execution_count": 110,
   "id": "a462dd37",
   "metadata": {
    "ExecuteTime": {
     "end_time": "2024-10-18T13:39:42.377142Z",
     "start_time": "2024-10-18T13:39:42.374519Z"
    }
   },
   "outputs": [
    {
     "data": {
      "text/plain": "1.3778131134854879"
     },
     "execution_count": 110,
     "metadata": {},
     "output_type": "execute_result"
    }
   ],
   "source": [
    "df.iloc[1,1]"
   ]
  },
  {
   "cell_type": "markdown",
   "id": "6d9430ff",
   "metadata": {},
   "source": [
    "*Show the first two columns of the 4th and the 5th row*"
   ]
  },
  {
   "cell_type": "code",
   "execution_count": 112,
   "id": "8e031db3",
   "metadata": {
    "ExecuteTime": {
     "end_time": "2024-10-18T13:41:00.419113Z",
     "start_time": "2024-10-18T13:41:00.414453Z"
    }
   },
   "outputs": [
    {
     "data": {
      "text/plain": "                   A         B\n2024-02-04  0.374415 -0.352525\n2024-02-05  0.475253  0.466023",
      "text/html": "<div>\n<style scoped>\n    .dataframe tbody tr th:only-of-type {\n        vertical-align: middle;\n    }\n\n    .dataframe tbody tr th {\n        vertical-align: top;\n    }\n\n    .dataframe thead th {\n        text-align: right;\n    }\n</style>\n<table border=\"1\" class=\"dataframe\">\n  <thead>\n    <tr style=\"text-align: right;\">\n      <th></th>\n      <th>A</th>\n      <th>B</th>\n    </tr>\n  </thead>\n  <tbody>\n    <tr>\n      <th>2024-02-04</th>\n      <td>0.374415</td>\n      <td>-0.352525</td>\n    </tr>\n    <tr>\n      <th>2024-02-05</th>\n      <td>0.475253</td>\n      <td>0.466023</td>\n    </tr>\n  </tbody>\n</table>\n</div>"
     },
     "execution_count": 112,
     "metadata": {},
     "output_type": "execute_result"
    }
   ],
   "source": [
    "df.iloc[3:5, 0:2]"
   ]
  },
  {
   "cell_type": "markdown",
   "id": "db92dd7a",
   "metadata": {},
   "source": [
    "*Show all the rows which have positive B values*"
   ]
  },
  {
   "cell_type": "code",
   "execution_count": 113,
   "id": "82db353e",
   "metadata": {
    "ExecuteTime": {
     "end_time": "2024-10-18T13:42:41.107731Z",
     "start_time": "2024-10-18T13:42:41.101287Z"
    }
   },
   "outputs": [
    {
     "data": {
      "text/plain": "                   A         B         C         D\n2024-02-01  1.741290  1.210440  1.548766  1.739505\n2024-02-02  0.841089  1.377813  0.323750 -0.731331\n2024-02-03 -0.142506  0.547845  2.830242 -0.826041\n2024-02-05  0.475253  0.466023 -1.093484 -0.978992\n2024-02-08 -0.150089  1.475296 -0.241727 -0.578584",
      "text/html": "<div>\n<style scoped>\n    .dataframe tbody tr th:only-of-type {\n        vertical-align: middle;\n    }\n\n    .dataframe tbody tr th {\n        vertical-align: top;\n    }\n\n    .dataframe thead th {\n        text-align: right;\n    }\n</style>\n<table border=\"1\" class=\"dataframe\">\n  <thead>\n    <tr style=\"text-align: right;\">\n      <th></th>\n      <th>A</th>\n      <th>B</th>\n      <th>C</th>\n      <th>D</th>\n    </tr>\n  </thead>\n  <tbody>\n    <tr>\n      <th>2024-02-01</th>\n      <td>1.741290</td>\n      <td>1.210440</td>\n      <td>1.548766</td>\n      <td>1.739505</td>\n    </tr>\n    <tr>\n      <th>2024-02-02</th>\n      <td>0.841089</td>\n      <td>1.377813</td>\n      <td>0.323750</td>\n      <td>-0.731331</td>\n    </tr>\n    <tr>\n      <th>2024-02-03</th>\n      <td>-0.142506</td>\n      <td>0.547845</td>\n      <td>2.830242</td>\n      <td>-0.826041</td>\n    </tr>\n    <tr>\n      <th>2024-02-05</th>\n      <td>0.475253</td>\n      <td>0.466023</td>\n      <td>-1.093484</td>\n      <td>-0.978992</td>\n    </tr>\n    <tr>\n      <th>2024-02-08</th>\n      <td>-0.150089</td>\n      <td>1.475296</td>\n      <td>-0.241727</td>\n      <td>-0.578584</td>\n    </tr>\n  </tbody>\n</table>\n</div>"
     },
     "execution_count": 113,
     "metadata": {},
     "output_type": "execute_result"
    }
   ],
   "source": [
    "df[df[\"B\"]>0]"
   ]
  },
  {
   "cell_type": "markdown",
   "id": "8898edc5",
   "metadata": {},
   "source": [
    "*Show all the rows which has positive B values and positive A values*"
   ]
  },
  {
   "cell_type": "code",
   "execution_count": 115,
   "id": "bd85d5b0",
   "metadata": {
    "ExecuteTime": {
     "end_time": "2024-10-18T13:44:07.394653Z",
     "start_time": "2024-10-18T13:44:07.388696Z"
    }
   },
   "outputs": [
    {
     "data": {
      "text/plain": "                   A         B         C         D\n2024-02-01  1.741290  1.210440  1.548766  1.739505\n2024-02-02  0.841089  1.377813  0.323750 -0.731331\n2024-02-05  0.475253  0.466023 -1.093484 -0.978992",
      "text/html": "<div>\n<style scoped>\n    .dataframe tbody tr th:only-of-type {\n        vertical-align: middle;\n    }\n\n    .dataframe tbody tr th {\n        vertical-align: top;\n    }\n\n    .dataframe thead th {\n        text-align: right;\n    }\n</style>\n<table border=\"1\" class=\"dataframe\">\n  <thead>\n    <tr style=\"text-align: right;\">\n      <th></th>\n      <th>A</th>\n      <th>B</th>\n      <th>C</th>\n      <th>D</th>\n    </tr>\n  </thead>\n  <tbody>\n    <tr>\n      <th>2024-02-01</th>\n      <td>1.741290</td>\n      <td>1.210440</td>\n      <td>1.548766</td>\n      <td>1.739505</td>\n    </tr>\n    <tr>\n      <th>2024-02-02</th>\n      <td>0.841089</td>\n      <td>1.377813</td>\n      <td>0.323750</td>\n      <td>-0.731331</td>\n    </tr>\n    <tr>\n      <th>2024-02-05</th>\n      <td>0.475253</td>\n      <td>0.466023</td>\n      <td>-1.093484</td>\n      <td>-0.978992</td>\n    </tr>\n  </tbody>\n</table>\n</div>"
     },
     "execution_count": 115,
     "metadata": {},
     "output_type": "execute_result"
    }
   ],
   "source": [
    "df[(df[\"B\"]>0) & (df[\"A\"]>0)]"
   ]
  },
  {
   "cell_type": "markdown",
   "id": "006c67b4",
   "metadata": {},
   "source": [
    "*Show all the data later than 2024-02-02*\n",
    "\n",
    "*Reminder: dates is index*"
   ]
  },
  {
   "cell_type": "code",
   "execution_count": 118,
   "id": "24cdddf0",
   "metadata": {
    "ExecuteTime": {
     "end_time": "2024-10-18T13:45:25.943340Z",
     "start_time": "2024-10-18T13:45:25.937867Z"
    }
   },
   "outputs": [
    {
     "data": {
      "text/plain": "                   A         B         C         D\n2024-02-03 -0.142506  0.547845  2.830242 -0.826041\n2024-02-04  0.374415 -0.352525 -0.063165  0.490380\n2024-02-05  0.475253  0.466023 -1.093484 -0.978992\n2024-02-06  1.627131 -0.937626 -1.055119  0.038225\n2024-02-07  1.668004 -0.199108  0.610040  0.310789\n2024-02-08 -0.150089  1.475296 -0.241727 -0.578584",
      "text/html": "<div>\n<style scoped>\n    .dataframe tbody tr th:only-of-type {\n        vertical-align: middle;\n    }\n\n    .dataframe tbody tr th {\n        vertical-align: top;\n    }\n\n    .dataframe thead th {\n        text-align: right;\n    }\n</style>\n<table border=\"1\" class=\"dataframe\">\n  <thead>\n    <tr style=\"text-align: right;\">\n      <th></th>\n      <th>A</th>\n      <th>B</th>\n      <th>C</th>\n      <th>D</th>\n    </tr>\n  </thead>\n  <tbody>\n    <tr>\n      <th>2024-02-03</th>\n      <td>-0.142506</td>\n      <td>0.547845</td>\n      <td>2.830242</td>\n      <td>-0.826041</td>\n    </tr>\n    <tr>\n      <th>2024-02-04</th>\n      <td>0.374415</td>\n      <td>-0.352525</td>\n      <td>-0.063165</td>\n      <td>0.490380</td>\n    </tr>\n    <tr>\n      <th>2024-02-05</th>\n      <td>0.475253</td>\n      <td>0.466023</td>\n      <td>-1.093484</td>\n      <td>-0.978992</td>\n    </tr>\n    <tr>\n      <th>2024-02-06</th>\n      <td>1.627131</td>\n      <td>-0.937626</td>\n      <td>-1.055119</td>\n      <td>0.038225</td>\n    </tr>\n    <tr>\n      <th>2024-02-07</th>\n      <td>1.668004</td>\n      <td>-0.199108</td>\n      <td>0.610040</td>\n      <td>0.310789</td>\n    </tr>\n    <tr>\n      <th>2024-02-08</th>\n      <td>-0.150089</td>\n      <td>1.475296</td>\n      <td>-0.241727</td>\n      <td>-0.578584</td>\n    </tr>\n  </tbody>\n</table>\n</div>"
     },
     "execution_count": 118,
     "metadata": {},
     "output_type": "execute_result"
    }
   ],
   "source": [
    "df.loc[\"2024-02-03\":]\n",
    "# or\n",
    "df[dates > \"2024-02-02\"]"
   ]
  },
  {
   "cell_type": "markdown",
   "id": "9d64e590",
   "metadata": {},
   "source": [
    "Now let's manipulte a dataframe.\n",
    "\n",
    "*After the following operations, what is the shape of d4? (How many rows? How many collumns?)*"
   ]
  },
  {
   "cell_type": "code",
   "execution_count": 120,
   "id": "df4afb2d",
   "metadata": {
    "ExecuteTime": {
     "end_time": "2024-10-18T13:46:39.905698Z",
     "start_time": "2024-10-18T13:46:39.900005Z"
    }
   },
   "outputs": [
    {
     "data": {
      "text/plain": "   a   b   c  type\n0  1   2   3   cat\n1  4   5   6   dog\n2  7   8   9   cat\n3  A  89  93  bird",
      "text/html": "<div>\n<style scoped>\n    .dataframe tbody tr th:only-of-type {\n        vertical-align: middle;\n    }\n\n    .dataframe tbody tr th {\n        vertical-align: top;\n    }\n\n    .dataframe thead th {\n        text-align: right;\n    }\n</style>\n<table border=\"1\" class=\"dataframe\">\n  <thead>\n    <tr style=\"text-align: right;\">\n      <th></th>\n      <th>a</th>\n      <th>b</th>\n      <th>c</th>\n      <th>type</th>\n    </tr>\n  </thead>\n  <tbody>\n    <tr>\n      <th>0</th>\n      <td>1</td>\n      <td>2</td>\n      <td>3</td>\n      <td>cat</td>\n    </tr>\n    <tr>\n      <th>1</th>\n      <td>4</td>\n      <td>5</td>\n      <td>6</td>\n      <td>dog</td>\n    </tr>\n    <tr>\n      <th>2</th>\n      <td>7</td>\n      <td>8</td>\n      <td>9</td>\n      <td>cat</td>\n    </tr>\n    <tr>\n      <th>3</th>\n      <td>A</td>\n      <td>89</td>\n      <td>93</td>\n      <td>bird</td>\n    </tr>\n  </tbody>\n</table>\n</div>"
     },
     "execution_count": 120,
     "metadata": {},
     "output_type": "execute_result"
    }
   ],
   "source": [
    "df2 = pd.DataFrame(np.array([[1, 2, 3], [4, 5, 6], [7, 8, 9]]),\n",
    "                   columns=['a', 'b', 'c'])\n",
    "\n",
    "df4 = df2.copy()\n",
    "\n",
    "df4.loc[len(df4.index)] = ['A', 89, 93]\n",
    "\n",
    "df4['type'] = [\"cat\", \"dog\", \"cat\", \"bird\"]\n",
    "\n",
    "df4\n"
   ]
  },
  {
   "cell_type": "markdown",
   "id": "79d84120",
   "metadata": {},
   "source": [
    "*Return all the data points of cats and dogs*"
   ]
  },
  {
   "cell_type": "code",
   "execution_count": 126,
   "id": "f8ca138c",
   "metadata": {
    "ExecuteTime": {
     "end_time": "2024-10-18T13:49:40.974282Z",
     "start_time": "2024-10-18T13:49:40.970280Z"
    }
   },
   "outputs": [
    {
     "data": {
      "text/plain": "   a  b  c type\n0  1  2  3  cat\n1  4  5  6  dog\n2  7  8  9  cat",
      "text/html": "<div>\n<style scoped>\n    .dataframe tbody tr th:only-of-type {\n        vertical-align: middle;\n    }\n\n    .dataframe tbody tr th {\n        vertical-align: top;\n    }\n\n    .dataframe thead th {\n        text-align: right;\n    }\n</style>\n<table border=\"1\" class=\"dataframe\">\n  <thead>\n    <tr style=\"text-align: right;\">\n      <th></th>\n      <th>a</th>\n      <th>b</th>\n      <th>c</th>\n      <th>type</th>\n    </tr>\n  </thead>\n  <tbody>\n    <tr>\n      <th>0</th>\n      <td>1</td>\n      <td>2</td>\n      <td>3</td>\n      <td>cat</td>\n    </tr>\n    <tr>\n      <th>1</th>\n      <td>4</td>\n      <td>5</td>\n      <td>6</td>\n      <td>dog</td>\n    </tr>\n    <tr>\n      <th>2</th>\n      <td>7</td>\n      <td>8</td>\n      <td>9</td>\n      <td>cat</td>\n    </tr>\n  </tbody>\n</table>\n</div>"
     },
     "execution_count": 126,
     "metadata": {},
     "output_type": "execute_result"
    }
   ],
   "source": [
    "df4[(df4[\"type\"]==\"cat\") | (df4[\"type\"]==\"dog\") ]"
   ]
  },
  {
   "cell_type": "code",
   "outputs": [
    {
     "data": {
      "text/plain": "   a  b  c type\n0  1  2  3  cat\n1  4  5  6  dog\n2  7  8  9  cat",
      "text/html": "<div>\n<style scoped>\n    .dataframe tbody tr th:only-of-type {\n        vertical-align: middle;\n    }\n\n    .dataframe tbody tr th {\n        vertical-align: top;\n    }\n\n    .dataframe thead th {\n        text-align: right;\n    }\n</style>\n<table border=\"1\" class=\"dataframe\">\n  <thead>\n    <tr style=\"text-align: right;\">\n      <th></th>\n      <th>a</th>\n      <th>b</th>\n      <th>c</th>\n      <th>type</th>\n    </tr>\n  </thead>\n  <tbody>\n    <tr>\n      <th>0</th>\n      <td>1</td>\n      <td>2</td>\n      <td>3</td>\n      <td>cat</td>\n    </tr>\n    <tr>\n      <th>1</th>\n      <td>4</td>\n      <td>5</td>\n      <td>6</td>\n      <td>dog</td>\n    </tr>\n    <tr>\n      <th>2</th>\n      <td>7</td>\n      <td>8</td>\n      <td>9</td>\n      <td>cat</td>\n    </tr>\n  </tbody>\n</table>\n</div>"
     },
     "execution_count": 127,
     "metadata": {},
     "output_type": "execute_result"
    }
   ],
   "source": [
    "df4[df4[\"type\"].isin([\"cat\", \"dog\"])]"
   ],
   "metadata": {
    "collapsed": false,
    "ExecuteTime": {
     "end_time": "2024-10-18T13:49:48.884525Z",
     "start_time": "2024-10-18T13:49:48.880749Z"
    }
   },
   "id": "af01641f2a3d9d7f",
   "execution_count": 127
  },
  {
   "cell_type": "markdown",
   "id": "a6db6f04",
   "metadata": {},
   "source": [
    "*Sort all the rows based on the values in Column type*"
   ]
  },
  {
   "cell_type": "code",
   "execution_count": 128,
   "id": "33a23db8",
   "metadata": {
    "ExecuteTime": {
     "end_time": "2024-10-18T13:50:18.866215Z",
     "start_time": "2024-10-18T13:50:18.862648Z"
    }
   },
   "outputs": [
    {
     "data": {
      "text/plain": "   a   b   c  type\n3  A  89  93  bird\n0  1   2   3   cat\n2  7   8   9   cat\n1  4   5   6   dog",
      "text/html": "<div>\n<style scoped>\n    .dataframe tbody tr th:only-of-type {\n        vertical-align: middle;\n    }\n\n    .dataframe tbody tr th {\n        vertical-align: top;\n    }\n\n    .dataframe thead th {\n        text-align: right;\n    }\n</style>\n<table border=\"1\" class=\"dataframe\">\n  <thead>\n    <tr style=\"text-align: right;\">\n      <th></th>\n      <th>a</th>\n      <th>b</th>\n      <th>c</th>\n      <th>type</th>\n    </tr>\n  </thead>\n  <tbody>\n    <tr>\n      <th>3</th>\n      <td>A</td>\n      <td>89</td>\n      <td>93</td>\n      <td>bird</td>\n    </tr>\n    <tr>\n      <th>0</th>\n      <td>1</td>\n      <td>2</td>\n      <td>3</td>\n      <td>cat</td>\n    </tr>\n    <tr>\n      <th>2</th>\n      <td>7</td>\n      <td>8</td>\n      <td>9</td>\n      <td>cat</td>\n    </tr>\n    <tr>\n      <th>1</th>\n      <td>4</td>\n      <td>5</td>\n      <td>6</td>\n      <td>dog</td>\n    </tr>\n  </tbody>\n</table>\n</div>"
     },
     "execution_count": 128,
     "metadata": {},
     "output_type": "execute_result"
    }
   ],
   "source": [
    "df4.sort_values(by=[\"type\"])"
   ]
  }
 ],
 "metadata": {
  "kernelspec": {
   "display_name": "Python 3 (ipykernel)",
   "language": "python",
   "name": "python3"
  },
  "language_info": {
   "codemirror_mode": {
    "name": "ipython",
    "version": 3
   },
   "file_extension": ".py",
   "mimetype": "text/x-python",
   "name": "python",
   "nbconvert_exporter": "python",
   "pygments_lexer": "ipython3",
   "version": "3.11.7"
  }
 },
 "nbformat": 4,
 "nbformat_minor": 5
}
