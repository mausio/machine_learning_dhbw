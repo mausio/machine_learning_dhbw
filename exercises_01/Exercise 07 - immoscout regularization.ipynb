{
 "cells": [
  {
   "cell_type": "code",
   "execution_count": 3,
   "id": "5984c69f-bb7d-4bbd-b02f-b72284fa28d7",
   "metadata": {
    "ExecuteTime": {
     "end_time": "2024-11-21T15:02:54.230123Z",
     "start_time": "2024-11-21T15:02:54.226251Z"
    }
   },
   "outputs": [],
   "source": [
    "import numpy as np\n",
    "import pandas as pd\n",
    "import matplotlib.pyplot as plt\n",
    "from sklearn.impute import SimpleImputer\n",
    "from sklearn.model_selection import train_test_split\n",
    "from sklearn.metrics import mean_squared_error, mean_absolute_error, r2_score\n",
    "from sklearn import linear_model\n",
    "\n",
    "from IPython.display import display\n",
    "\n",
    "pd.options.display.max_columns = 50"
   ]
  },
  {
   "cell_type": "code",
   "execution_count": 4,
   "id": "dfaf7fef-4333-4009-ac69-9142ad497208",
   "metadata": {
    "ExecuteTime": {
     "end_time": "2024-11-21T15:02:57.215003Z",
     "start_time": "2024-11-21T15:02:54.233355Z"
    }
   },
   "outputs": [],
   "source": [
    "df = pd.read_csv(\"../data/immo_data.csv\")\n",
    "desc = pd.read_csv(\"../data/immo_data_column_description.csv\")"
   ]
  },
  {
   "cell_type": "code",
   "execution_count": 5,
   "id": "f4851f20-f4c7-4ab3-b727-ce537c55157a",
   "metadata": {
    "ExecuteTime": {
     "end_time": "2024-11-21T15:02:57.221762Z",
     "start_time": "2024-11-21T15:02:57.216267Z"
    }
   },
   "outputs": [],
   "source": [
    "def drop_columns(df):\n",
    "    \"\"\" Remove (supposedly) unimportant columns \"\"\"\n",
    "    return df.drop(\n",
    "        [\n",
    "            \"scoutId\",\n",
    "            \"houseNumber\",\n",
    "            \"geo_bln\",\n",
    "            \"geo_krs\",\n",
    "            \"geo_plz\",\n",
    "            \"date\",\n",
    "            \"street\",\n",
    "            \"streetPlain\",\n",
    "            \"description\",\n",
    "            \"facilities\",\n",
    "            \"regio3\",\n",
    "            \"firingTypes\",\n",
    "            \"telekomHybridUploadSpeed\",\n",
    "            \"totalRent\",\n",
    "            \"baseRentRange\",\n",
    "        ],\n",
    "        axis=1,\n",
    "    )\n",
    "\n",
    "\n",
    "def remove_outliers(df, lower_limit=0.005, upper_limit=0.995):\n",
    "    \"\"\" Removing the (lower and upper) outliers \"\"\"\n",
    "    dfc = df.copy()\n",
    "    columns_with_outliers = [\n",
    "        \"serviceCharge\",\n",
    "        \"yearConstructed\",\n",
    "        \"noParkSpaces\",\n",
    "        \"baseRent\",\n",
    "        \"livingSpace\",\n",
    "        \"noRooms\",\n",
    "        \"floor\",\n",
    "        \"numberOfFloors\",\n",
    "        \"heatingCosts\",\n",
    "        \"lastRefurbish\",\n",
    "    ]\n",
    "    \n",
    "    # For each column we keep: Data that are < (99.5% quantile) and > (0.5% quantile) OR that are NaN (we will deal with this later). \n",
    "    upper_limits = df[columns_with_outliers].quantile(upper_limit)\n",
    "    lower_limits = df[columns_with_outliers].quantile(lower_limit)\n",
    "    \n",
    "    for colname in columns_with_outliers:\n",
    "        col = dfc[colname]\n",
    "        dfc = dfc[\n",
    "            ((col <= upper_limits[colname]) & (col >= lower_limits[colname]))\n",
    "            | col.isna()\n",
    "        ]\n",
    "    return dfc\n",
    "\n",
    "\n",
    "def remove_rows_with_NaN_target(df):\n",
    "    \"\"\" Removing the records without a label \"\"\"\n",
    "    return df[df[\"baseRent\"].isna() == False]\n",
    "\n",
    "\n",
    "def impute_NaNs(df):\n",
    "    \"\"\" Replacing NaNs with mean or most frequent \"\"\"\n",
    "    dfc = df.copy()\n",
    "    categorical_columns = dfc.select_dtypes(exclude=np.number).columns\n",
    "    imp_freq = SimpleImputer(missing_values=np.nan, strategy=\"most_frequent\")\n",
    "    #dfc.loc[:, categorical_columns] = imp_freq.fit_transform(dfc[categorical_columns])\n",
    "    dfc[categorical_columns] = imp_freq.fit_transform(dfc[categorical_columns])\n",
    "\n",
    "    numeric_columns = dfc.select_dtypes(include=np.number).columns\n",
    "    imp_mean = SimpleImputer(missing_values=np.nan, strategy=\"mean\")\n",
    "    #dfc.loc[:, numeric_columns] = imp_mean.fit_transform(dfc[numeric_columns])\n",
    "    dfc[numeric_columns] = imp_mean.fit_transform(dfc[numeric_columns])\n",
    "    return dfc\n",
    "\n",
    "\n",
    "def print_evaluation(pipeline_or_model, X_train, X_test, y_train, y_test, y_train_pred, y_test_pred, feature_names, show_coeff=True):\n",
    "    \"\"\" Output of R2 value, MSE and MAE for training and test set \"\"\"\n",
    "    r2_train = r2_score(y_train, y_train_pred)\n",
    "    mse_train = mean_squared_error(y_train, y_train_pred)\n",
    "    mae_train = mean_absolute_error(y_train, y_train_pred)\n",
    "\n",
    "    r2_test = r2_score(y_test, y_test_pred)\n",
    "    mse_test = mean_squared_error(y_test, y_test_pred)\n",
    "    mae_test = mean_absolute_error(y_test, y_test_pred)\n",
    "    \n",
    "    print(\n",
    "        f\"{pipeline_or_model} Evaluation:\\n\"\n",
    "        f\"{'':6} {'R²':>10} | {'MSE':>14} | {'MAE':>10} | {'rows':>8} | {'columns':>8}\\n\"\n",
    "        f\"{'Train':6} {r2_train:10.5f} | {mse_train:14.2f} | {mae_train:10.2f} | {X_train.shape[0]:8} | {X_train.shape[1]:8}\\n\"\n",
    "        f\"{'Test':6} {r2_test:10.5f} | {mse_test:14.2f} | {mae_test:10.2f} | {X_test.shape[0]:8} | {X_test.shape[1]:8}\\n\"\n",
    "    )\n",
    "    \n",
    "    # Output of the first 10 coefficients, scaled in descending order by absolute value\n",
    "    coefficients_lr = pd.DataFrame({\"Feature Name\": feature_names, \"Coefficient\": pipeline_or_model.coef_})\n",
    "    if show_coeff:\n",
    "        display(coefficients_lr.sort_values(\"Coefficient\", key=abs, ascending=False).head(10))\n",
    "    \n",
    "    # How many coefficients are non-zero?\n",
    "    nonzero_coeff = sum(abs(coefficients_lr[\"Coefficient\"])>1e-12)\n",
    "    print(f\"Number of nonzero coefficients: {nonzero_coeff}/{X_train.shape[1]}\")"
   ]
  },
  {
   "cell_type": "code",
   "execution_count": 6,
   "id": "016fed6a-366d-41a2-83bc-e012c697c8c9",
   "metadata": {
    "ExecuteTime": {
     "end_time": "2024-11-21T15:02:57.637335Z",
     "start_time": "2024-11-21T15:02:57.222479Z"
    }
   },
   "outputs": [
    {
     "name": "stdout",
     "output_type": "stream",
     "text": [
      "LinearRegression() Evaluation:\n",
      "               R² |            MSE |        MAE |     rows |  columns\n",
      "Train     0.84971 |       23778.41 |     102.23 |     7728 |      510\n",
      "Test   -65572754235221.42969 | 10914647454231087104.00 | 94160104.59 |     1932 |      510\n"
     ]
    },
    {
     "data": {
      "text/plain": "               Feature Name   Coefficient\n72           petsAllowed_no -2.930620e+12\n71   petsAllowed_negotiable -2.930620e+12\n73          petsAllowed_yes -2.930620e+12\n50         newlyConst_False -1.346498e+12\n51          newlyConst_True -1.346498e+12\n20            regio1_Berlin -9.108420e+11\n123           regio2_Berlin  6.556990e+11\n55          hasKitchen_True  6.289675e+11\n54         hasKitchen_False  6.289675e+11\n225          regio2_Hamburg -4.583336e+11",
      "text/html": "<div>\n<style scoped>\n    .dataframe tbody tr th:only-of-type {\n        vertical-align: middle;\n    }\n\n    .dataframe tbody tr th {\n        vertical-align: top;\n    }\n\n    .dataframe thead th {\n        text-align: right;\n    }\n</style>\n<table border=\"1\" class=\"dataframe\">\n  <thead>\n    <tr style=\"text-align: right;\">\n      <th></th>\n      <th>Feature Name</th>\n      <th>Coefficient</th>\n    </tr>\n  </thead>\n  <tbody>\n    <tr>\n      <th>72</th>\n      <td>petsAllowed_no</td>\n      <td>-2.930620e+12</td>\n    </tr>\n    <tr>\n      <th>71</th>\n      <td>petsAllowed_negotiable</td>\n      <td>-2.930620e+12</td>\n    </tr>\n    <tr>\n      <th>73</th>\n      <td>petsAllowed_yes</td>\n      <td>-2.930620e+12</td>\n    </tr>\n    <tr>\n      <th>50</th>\n      <td>newlyConst_False</td>\n      <td>-1.346498e+12</td>\n    </tr>\n    <tr>\n      <th>51</th>\n      <td>newlyConst_True</td>\n      <td>-1.346498e+12</td>\n    </tr>\n    <tr>\n      <th>20</th>\n      <td>regio1_Berlin</td>\n      <td>-9.108420e+11</td>\n    </tr>\n    <tr>\n      <th>123</th>\n      <td>regio2_Berlin</td>\n      <td>6.556990e+11</td>\n    </tr>\n    <tr>\n      <th>55</th>\n      <td>hasKitchen_True</td>\n      <td>6.289675e+11</td>\n    </tr>\n    <tr>\n      <th>54</th>\n      <td>hasKitchen_False</td>\n      <td>6.289675e+11</td>\n    </tr>\n    <tr>\n      <th>225</th>\n      <td>regio2_Hamburg</td>\n      <td>-4.583336e+11</td>\n    </tr>\n  </tbody>\n</table>\n</div>"
     },
     "metadata": {},
     "output_type": "display_data"
    },
    {
     "name": "stdout",
     "output_type": "stream",
     "text": [
      "Number of nonzero coefficients: 509/510\n"
     ]
    }
   ],
   "source": [
    "# Data pre-processing\n",
    "df_reduced = drop_columns(df.sample(10000))\n",
    "df_reduced = remove_outliers(df_reduced)\n",
    "df_reduced = remove_rows_with_NaN_target(df_reduced)\n",
    "df_reduced = impute_NaNs(df_reduced)\n",
    "df_reduced = pd.get_dummies(df_reduced)\n",
    "y = df_reduced.pop(\"baseRent\")\n",
    "\n",
    "# Training-Test-Split\n",
    "X_train, X_test, y_train, y_test = train_test_split(df_reduced, y, test_size=0.2, random_state=0)\n",
    "\n",
    "# Training\n",
    "model_lr = linear_model.LinearRegression()\n",
    "model_lr.fit(X_train, y_train)\n",
    "y_train_pred = model_lr.predict(X_train)\n",
    "y_test_pred = model_lr.predict(X_test)\n",
    "\n",
    "# Evaluation\n",
    "print_evaluation(model_lr, X_train, X_test, y_train, y_test, y_train_pred, y_test_pred, feature_names=df_reduced.columns)"
   ]
  },
  {
   "cell_type": "code",
   "execution_count": 6,
   "id": "8aebe02b-2e04-437d-9cf1-009089643a50",
   "metadata": {
    "ExecuteTime": {
     "end_time": "2024-11-21T15:02:57.642201Z",
     "start_time": "2024-11-21T15:02:57.639866Z"
    }
   },
   "outputs": [],
   "source": []
  },
  {
   "cell_type": "code",
   "execution_count": 6,
   "id": "7297b5c1-0b93-461a-bf90-1671b13b2353",
   "metadata": {
    "ExecuteTime": {
     "end_time": "2024-11-21T15:02:57.652507Z",
     "start_time": "2024-11-21T15:02:57.648405Z"
    }
   },
   "outputs": [],
   "source": []
  }
 ],
 "metadata": {
  "kernelspec": {
   "display_name": "base",
   "language": "python",
   "name": "python3"
  },
  "language_info": {
   "codemirror_mode": {
    "name": "ipython",
    "version": 3
   },
   "file_extension": ".py",
   "mimetype": "text/x-python",
   "name": "python",
   "nbconvert_exporter": "python",
   "pygments_lexer": "ipython3",
   "version": "3.9.20"
  }
 },
 "nbformat": 4,
 "nbformat_minor": 5
}
