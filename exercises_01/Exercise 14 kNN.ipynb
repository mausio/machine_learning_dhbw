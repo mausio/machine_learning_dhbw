{
 "cells": [
  {
   "cell_type": "markdown",
   "metadata": {},
   "source": [
    "## kNN Exercise Solution"
   ]
  },
  {
   "cell_type": "markdown",
   "metadata": {},
   "source": [
    "For the kNN exercise, let's use the kNN.csv dataset. This dataset records the customer data of a company, and this company categorise their customers into 4 different groups (the last attribute). It is very helpful for the service and sales colleagues to know which customer group a customer belong to. Therefore, your task is to predict the \"Group\" based on a customer's information. \n",
    "\n",
    "\n",
    "\n",
    "### Task 1. Train a kNN classifier by k=4\n",
    "Compare the accuracy based on the training dataset and the testing testing dataset.\n",
    "\n",
    "Note: the text features, e.g. address, are already preprocessed into either number or code, but not scaled yet -- don't forget scale the data"
   ]
  },
  {
   "cell_type": "code",
   "execution_count": 1,
   "metadata": {},
   "outputs": [],
   "source": [
    "# Task 1"
   ]
  },
  {
   "cell_type": "markdown",
   "metadata": {},
   "source": [
    "## Task 2. Search for K\n",
    "\n",
    "Write a program to search for the best choice of k value between 1 and 10 to reach the highest accuray for testing data."
   ]
  },
  {
   "cell_type": "code",
   "execution_count": 2,
   "metadata": {},
   "outputs": [],
   "source": [
    "# Task 2"
   ]
  }
 ],
 "metadata": {
  "kernelspec": {
   "display_name": "base",
   "language": "python",
   "name": "python3"
  },
  "language_info": {
   "codemirror_mode": {
    "name": "ipython",
    "version": 3
   },
   "file_extension": ".py",
   "mimetype": "text/x-python",
   "name": "python",
   "nbconvert_exporter": "python",
   "pygments_lexer": "ipython3",
   "version": "3.9.20"
  }
 },
 "nbformat": 4,
 "nbformat_minor": 2
}
